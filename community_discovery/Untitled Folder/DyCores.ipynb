{
 "cells": [
  {
   "cell_type": "code",
   "execution_count": 1,
   "id": "injured-violation",
   "metadata": {},
   "outputs": [],
   "source": [
    "import pandas as pd \n",
    "import numpy as np\n",
    "import networkx as nx \n",
    "import json \n",
    "import csv \n",
    "import matplotlib as plt \n",
    "import cdlib\n",
    "import os\n"
   ]
  },
  {
   "cell_type": "code",
   "execution_count": 67,
   "id": "cordless-prisoner",
   "metadata": {},
   "outputs": [],
   "source": [
    "G = list()\n",
    "\n",
    "\n",
    "for y in range(2012,2021):\n",
    "   \n",
    "    g = nx.read_weighted_edgelist(f'../data/years/{str(y)}.weighted.edgelist')\n",
    "    G.append(g)"
   ]
  },
  {
   "cell_type": "markdown",
   "id": "infrared-leather",
   "metadata": {},
   "source": [
    "\n",
    "maxW = 0\n",
    "for g in G:\n",
    "    weights = [g.edges[edge]['weight'] for edge in g.edges()]\n",
    "    if max(weights) > maxW : maxW = max(weights) \n",
    "\n",
    "for g in G:\n",
    "    for edge in g.edges():\n",
    "        g.edges[edge]['dissimilarity'] =maxW + 1 - g.edges[edge]['weight']"
   ]
  },
  {
   "cell_type": "code",
   "execution_count": 68,
   "id": "blond-world",
   "metadata": {},
   "outputs": [],
   "source": [
    "\n",
    "\n",
    "for g in G:\n",
    "    weights = [g.edges[edge]['weight'] for edge in g.edges()]\n",
    "    maxW = max(weights) \n",
    "    for edge in g.edges():\n",
    "        g.edges[edge]['dissimilarity'] =maxW + 1 - g.edges[edge]['weight']\n",
    "\n",
    "    "
   ]
  },
  {
   "cell_type": "code",
   "execution_count": 4,
   "id": "vocal-steam",
   "metadata": {},
   "outputs": [
    {
     "name": "stdout",
     "output_type": "stream",
     "text": [
      "('0', '1979')\n",
      "('0', '2238')\n",
      "('0', '2648')\n",
      "('0', '8615')\n",
      "('0', '8841')\n",
      "('0', '10252')\n",
      "('0', '11278')\n",
      "('0', '12564')\n",
      "('0', '13935')\n",
      "('0', '14005')\n"
     ]
    }
   ],
   "source": [
    "for e in list(g.edges)[:10]: print(e)"
   ]
  },
  {
   "cell_type": "code",
   "execution_count": 3,
   "id": "mediterranean-reminder",
   "metadata": {},
   "outputs": [],
   "source": [
    "def coreNode(g,alfa,weight):\n",
    "    \n",
    "    \n",
    "    def localCloseNeighborThreshold(g,p,weight):     \n",
    "        geomin = 1   \n",
    "        for q in g.neighbors(p): geomin *= g.edges[(p,q)][weight]\n",
    "        return geomin ** (1 / len(list(g.neighbors(p))))\n",
    "    \n",
    "    def localCloseNeighbors(g,p,tresholds,weight):\n",
    "        return [ q for q in g.neighbors(p) if g.edges[(p,q)][weight] <= tresholds[p] and g.edges[(p,q)][weight] <= tresholds[q] ]\n",
    "    \n",
    "        \n",
    "    \n",
    "    localCloseNeighborThresholds = {p:localCloseNeighborThreshold(g,p,weight) for p in g.nodes()}\n",
    "    \n",
    "    corenodes = list()\n",
    "    for node in g.nodes:\n",
    "        \n",
    "        localMinimumClusteringThreshold = alfa * len(list(g.neighbors(node)))\n",
    "        treshold = localCloseNeighborThresholds[node]\n",
    "        \n",
    "        if len(localCloseNeighbors(g,node,localCloseNeighborThresholds,weight)) >= localMinimumClusteringThreshold: \n",
    "            \n",
    "            corenodes.append(node)\n",
    "        \n",
    "    return corenodes"
   ]
  },
  {
   "cell_type": "code",
   "execution_count": 33,
   "id": "informational-tampa",
   "metadata": {},
   "outputs": [
    {
     "name": "stdout",
     "output_type": "stream",
     "text": [
      "19305   3013   639\n",
      "56023   4949   906\n",
      "85569   6399   1257\n",
      "90204   8148   1058\n",
      "92469   9451   1151\n",
      "93468   10256   1864\n",
      "104198   10846   1157\n",
      "98616   11397   2886\n",
      "75629   8818   2458\n"
     ]
    }
   ],
   "source": [
    "allcores = list()\n",
    "for g in G:\n",
    "    cores = coreNode(g,0.2,'dissimilarity')\n",
    "    allcores.append(cores)\n",
    "    print(len(g.edges()),' ',len(g.nodes()),' ',len(cores))"
   ]
  },
  {
   "cell_type": "code",
   "execution_count": 9,
   "id": "talented-dominant",
   "metadata": {},
   "outputs": [
    {
     "name": "stdout",
     "output_type": "stream",
     "text": [
      "19305   3013   97\n",
      "56023   4949   95\n",
      "85569   6399   145\n",
      "90204   8148   46\n",
      "92469   9451   48\n",
      "93468   10256   70\n",
      "104198   10846   57\n",
      "98616   11397   166\n",
      "75629   8818   458\n"
     ]
    }
   ],
   "source": [
    "for i, cores in enumerate(allcores): \n",
    "    print(len(G[i].edges()),' ',len(G[i].nodes()),' ',len(cores))"
   ]
  },
  {
   "cell_type": "code",
   "execution_count": 27,
   "id": "reasonable-windows",
   "metadata": {},
   "outputs": [],
   "source": [
    "def dyCores(G,alfa=1,weight='weight'):\n",
    "    \n",
    "    communities = list()\n",
    "    \n",
    "    t = 0 \n",
    "    for g in G:\n",
    "        print(t)\n",
    "        t+=1\n",
    "        core = coreNode(g,alfa,weight)\n",
    "        for node in g.nodes():\n",
    "            g.nodes[node]['mark'] = 'unvisited'\n",
    "            if node in core: g.nodes[node]['core']=True \n",
    "            else : g.nodes[node]['core']=False\n",
    "     \n",
    "        community = dict()\n",
    "        k = 0\n",
    "        \n",
    "        \n",
    "        for p in g.nodes():\n",
    "            \n",
    "            if g.nodes[p]['mark'] == 'visited' : continue\n",
    "            if g.nodes[p]['core'] == False :\n",
    "                g.nodes[p]['mark'] = 'border'\n",
    "                continue\n",
    "                \n",
    "            candidates = set(g.neighbors(p))\n",
    "            community[k] = list(p)\n",
    "            \n",
    "            \n",
    "            while len(candidates) != 0:\n",
    "                \n",
    "                q = candidates.pop()\n",
    "                \n",
    "                if g.nodes[q]['core'] == True :\n",
    "                    \n",
    "                    if g.nodes[q]['mark'] != 'visited':\n",
    "                        g.nodes[q]['mark'] = 'visited'\n",
    "                        community[k].append(q)\n",
    "                    \n",
    "                else:\n",
    "                        \n",
    "                    for x in g.neighbors(q):\n",
    "                        if g.nodes[x]['mark'] == 'unvisited' : candidates.add(x)\n",
    "                        elif  g.nodes[x]['mark'] == 'border' : community[k].append(x) \n",
    "                        \n",
    "                        community[k].append(q)\n",
    "                        g.nodes[q]['mark'] = 'visited'\n",
    "                        \n",
    "            k = k + 1\n",
    "               \n",
    "        #OUTLIERS are the last community, are the remaining border nodes\n",
    "        community[k] = list(node for node in g.nodes() if g.nodes[node]['mark'] == 'border')  \n",
    "       \n",
    "                    \n",
    "        communities.append(community)\n",
    "    \n",
    "    return communities\n",
    "                        \n",
    "                    \n",
    "                    \n",
    "                \n",
    "            \n",
    "            \n",
    "        \n",
    "        \n",
    "        \n",
    "        \n",
    "        "
   ]
  },
  {
   "cell_type": "code",
   "execution_count": 32,
   "id": "unlike-integral",
   "metadata": {},
   "outputs": [],
   "source": [
    "def dyCores(G,alfa=0.9,weight='weight'):\n",
    "    \n",
    "    dynamic_communities = list()\n",
    "    \n",
    "    t = 0 \n",
    "    for g in G:\n",
    "        print(t)\n",
    "        \n",
    "        outliers = set()\n",
    "        components =  [c for c in sorted(nx.connected_components(g), key=len, reverse=True)]\n",
    "        for c in components[1:]: \n",
    "            for node in c: outliers.add(node) \n",
    "        \n",
    "        g = nx.subgraph(g,components[0])\n",
    "                      \n",
    "        \n",
    "        t+=1\n",
    "        core = coreNode(g,alfa,weight)\n",
    "        for node in g.nodes():\n",
    "            g.nodes[node]['mark'] = 'visited'\n",
    "            if node in core: g.nodes[node]['core']=True \n",
    "            else : g.nodes[node]['core']=False\n",
    "            \n",
    "     \n",
    "        community = dict()\n",
    "        k = 0\n",
    "        communities = list()\n",
    "        \n",
    "        for p in g.nodes():\n",
    "            \n",
    "            if g.nodes[p]['mark'] == 'visited' : continue\n",
    "            if g.nodes[p]['core'] == False :\n",
    "                g.nodes[p]['mark'] = 'border'\n",
    "                continue\n",
    "                \n",
    "            candidates = set(g.neighbors(p))\n",
    "            communities.append(list(p))\n",
    "            \n",
    "            \n",
    "            while len(candidates) != 0:\n",
    "                \n",
    "                q = candidates.pop()\n",
    "                \n",
    "                if g.nodes[q]['mark'] != 'visited':\n",
    "                        \n",
    "                        community[k].append(q)\n",
    "                        \n",
    "                        if g.nodes[q]['core'] == True :\n",
    "\n",
    "                                if g.nodes[q]['mark'] != 'visited':\n",
    "                                    g.nodes[q]['mark'] = 'visited'\n",
    "                                    community[k].append(q)\n",
    "                                    for x in g.neighbors(q):\n",
    "                                        if g.nodes[x]['mark'] == 'unvisited' : candidates.add(x)\n",
    "                                            \n",
    "                        else: g.nodes[q]['mark'] = 'border'\n",
    "                                  \n",
    "\n",
    "            k = k + 1\n",
    "               \n",
    "        #OUTLIERS are the last community, are the remaining border nodes\n",
    "        community[k] = list(node for node in g.nodes() if g.nodes[node]['mark'] == 'border')  \n",
    "       \n",
    "                    \n",
    "        communities.append(community)\n",
    "    \n",
    "    return communities\n",
    "                        \n",
    "                    \n",
    "                    \n",
    "                \n",
    "            \n",
    "            \n",
    "        \n",
    "        \n",
    "        \n",
    "        \n",
    "        "
   ]
  },
  {
   "cell_type": "code",
   "execution_count": 12,
   "id": "architectural-source",
   "metadata": {},
   "outputs": [],
   "source": [
    "def dyCores(G,alfa=1,weight='weight'):\n",
    "    \n",
    "    dynamic_communities = list()\n",
    "    \n",
    "    t = 0 \n",
    "    \n",
    "    for g in G:\n",
    "        \n",
    "        print(t)\n",
    "        t+=1\n",
    "        core = coreNode(g,alfa,weight)\n",
    "        for node in g.nodes():\n",
    "            g.nodes[node]['mark'] = 'unvisited'\n",
    "            if node in core: g.nodes[node]['core']=True \n",
    "            else : g.nodes[node]['core']=False\n",
    "     \n",
    "        communities = dict()\n",
    "        community = list()\n",
    "        k = 0\n",
    "        \n",
    "        \n",
    "        for p in g.nodes():\n",
    "            \n",
    "            if g.nodes[p]['mark'] == 'visited' or g.nodes[p]['core'] == False: continue\n",
    "                            \n",
    "            candidates = set(g.neighbors(p))\n",
    "            community.append(list(p))\n",
    "            \n",
    "            while len(candidates) != 0:\n",
    "                \n",
    "                q = candidates.pop()\n",
    "                \n",
    "                if g.nodes[q]['mark'] != 'visited':\n",
    "                    \n",
    "                    if g.nodes[q]['core'] == True :   \n",
    "                        community[k].append(q)\n",
    "                        g.nodes[q]['mark'] = 'visited'\n",
    "                        for x in g.neighbors(q):\n",
    "                            if g.nodes[x]['mark'] == 'unvisited' : candidates.add(x)\n",
    "\n",
    "                    else: g.nodes[q]['mark'] = 'border'\n",
    "                                  \n",
    "\n",
    "            k = k + 1\n",
    "               \n",
    "        #OUTLIERS are the last community, are the remaining border nodes\n",
    "        \n",
    "        \n",
    "                    \n",
    "        communities['community'] = community\n",
    "        communities['outliers'] = list(node for node in g.nodes() if g.nodes[node]['mark'] == 'border')\n",
    "        communities['coverage']= 1\n",
    "        communities['algorithm'] = 'dycores'\n",
    "        \n",
    "    return communities\n",
    "                        \n",
    "                    \n",
    "                    \n",
    "                \n",
    "            \n",
    "            \n",
    "        \n",
    "        \n",
    "        \n",
    "        \n",
    "        "
   ]
  },
  {
   "cell_type": "code",
   "execution_count": 112,
   "id": "final-classics",
   "metadata": {},
   "outputs": [],
   "source": [
    "def multicore(G,alfa=0.3,weight='weight',minsize = 4, voteweight = 'centrality'):\n",
    "    \n",
    "    #PREPARATION\n",
    "    g = G.copy()\n",
    "    core = coreNode(g,alfa,weight)\n",
    "    communities = list()\n",
    "    centrality = 1\n",
    "    k = 0\n",
    "    borders = set()\n",
    "    \n",
    "    for node in g.nodes():\n",
    "        g.nodes[node]['visited'] = False\n",
    "        g.nodes[node]['community'] = None\n",
    "        if node in core: g.nodes[node]['core']=True \n",
    "        else : g.nodes[node]['core']=False\n",
    "\n",
    "\n",
    "            \n",
    "    #INITIALIZE COMMUNITIES\n",
    "    for p in g.nodes():\n",
    "\n",
    "        if g.nodes[p]['visited'] == True or g.nodes[p]['core'] == False: continue\n",
    "        \n",
    "        candidates = set(g.neighbors(p))\n",
    "        \n",
    "        communities.append([p])\n",
    "        g.nodes[p]['community'] = k\n",
    "        g.nodes[p]['centrality'] = centrality\n",
    "        g.nodes[p]['visited'] = True\n",
    "        \n",
    "        while len(candidates) != 0:\n",
    "\n",
    "            q = candidates.pop()\n",
    "           \n",
    "            if g.nodes[q]['visited'] == False:\n",
    "\n",
    "                if g.nodes[q]['core'] == True :   \n",
    "                    communities[k].append(q)\n",
    "                    g.nodes[q]['community'] = k\n",
    "                    g.nodes[q]['centrality'] = centrality\n",
    "                    for x in g.neighbors(q):\n",
    "                        if g.nodes[x]['visited'] == False : candidates.add(x)\n",
    "                \n",
    "                else: borders.add(q)\n",
    "                g.nodes[q]['visited'] = True\n",
    "\n",
    "        k = k + 1\n",
    "        \n",
    "    \n",
    "    #PROPAGATION\n",
    "  \n",
    "    while len(borders) != 0:\n",
    "        newborders = set() \n",
    "        for p in borders: \n",
    "            votes = [0 for c in communities]\n",
    "            for q in g.neighbors(p):\n",
    "                if q not in borders:\n",
    "                    if g.nodes[q]['community'] != None:\n",
    "                        if voteweight == 'centrality': votes[g.nodes[q]['community']] += 1 / g.nodes[q]['centrality']\n",
    "                        elif voteweight == 'weight': votes[g.nodes[q]['community']] += 1 / g.edges[(p,q)][weight]\n",
    "                    else: newborders.add(q)\n",
    "            k = votes.index(max(votes))\n",
    "            communities[k].append(p)\n",
    "            g.nodes[p]['community'] = k\n",
    "            g.nodes[p]['centrality'] = centrality\n",
    "            \n",
    "        borders = newborders\n",
    "        centrality += 1\n",
    "        \n",
    "\n",
    " \n",
    "       #OUTLIERS \n",
    "    unmarked = list()\n",
    "    for k,c  in enumerate(communities): \n",
    "        if len(c) <= minsize :\n",
    "            \n",
    "            for p in c: \n",
    "                g.nodes[p]['community'] = None\n",
    "                \n",
    "            communities[k] = []    \n",
    "            unmarked.extend(c)\n",
    "            \n",
    "    borders = set()\n",
    "    for p in unmarked:\n",
    "        for q in g.neighbors(p):\n",
    "            if g.nodes[q]['community'] != None:\n",
    "                borders.add(p)\n",
    "                break\n",
    "                \n",
    "    borders = set(borders)\n",
    "    \n",
    "   \n",
    "    while len(borders) != 0:\n",
    "        newborders = set() \n",
    "        for p in borders: \n",
    "            votes = [0 for c in communities]\n",
    "            for q in g.neighbors(p):\n",
    "                if q not in borders:\n",
    "                    if g.nodes[q]['community'] != None:\n",
    "                        if voteweight == 'centrality': votes[g.nodes[q]['community']] += 1 / g.nodes[q]['centrality']\n",
    "                        elif voteweight == 'weight': votes[g.nodes[q]['community']] += 1 / g.edges[(p,q)][weight]\n",
    "                    else: newborders.add(q)\n",
    "            k = votes.index(max(votes))\n",
    "            communities[k].append(p)\n",
    "            g.nodes[p]['community'] = k\n",
    "            g.nodes[p]['centrality'] = 1 + min([g.nodes[q]['centrality'] for q in g.neighbors(p) if g.nodes[q]['community'] == k ])\n",
    "            \n",
    "        borders = newborders\n",
    "        \n",
    "            \n",
    "\n",
    "    communities = [c for c in communities if len(c) != 0 ]\n",
    "    data = dict()\n",
    "    data['communities'] = communities\n",
    "    data['outliers'] = list(node for node in g.nodes() if g.nodes[node]['community'] == None)\n",
    "    data['coverage']= 1\n",
    "    data['algorithm'] = 'multicore'\n",
    "    data['centralities'] = {node:g.nodes[node]['centrality'] for node in g.nodes}\n",
    "        \n",
    "    return data\n",
    "                        \n",
    "                    \n",
    "                    \n",
    "                \n",
    "            \n",
    "            "
   ]
  },
  {
   "cell_type": "code",
   "execution_count": 113,
   "id": "outside-shore",
   "metadata": {},
   "outputs": [],
   "source": [
    "comm = multicore(G[3],0.3,'dissimilarity',minsize = 100)"
   ]
  },
  {
   "cell_type": "code",
   "execution_count": 71,
   "id": "italic-politics",
   "metadata": {},
   "outputs": [
    {
     "name": "stdout",
     "output_type": "stream",
     "text": [
      "{}\n",
      "{}\n",
      "{}\n",
      "{}\n",
      "{}\n",
      "{}\n",
      "{}\n",
      "{}\n",
      "{}\n",
      "{}\n"
     ]
    }
   ],
   "source": [
    "for node in list(G[3].nodes())[:10]:\n",
    "    print(G[3].nodes[node])"
   ]
  },
  {
   "cell_type": "code",
   "execution_count": 114,
   "id": "hairy-colleague",
   "metadata": {},
   "outputs": [
    {
     "name": "stdout",
     "output_type": "stream",
     "text": [
      "7 [223, 3795, 2413, 957, 217, 435, 106]\n"
     ]
    }
   ],
   "source": [
    "print(len(comm['communities']),[len(c ) for c in comm['communities']])"
   ]
  },
  {
   "cell_type": "code",
   "execution_count": 60,
   "id": "narrow-uruguay",
   "metadata": {},
   "outputs": [
    {
     "name": "stdout",
     "output_type": "stream",
     "text": [
      "44.80107526881721\n"
     ]
    }
   ],
   "source": [
    "print(np.average([len(c ) for c in comm['communities']]))"
   ]
  },
  {
   "cell_type": "code",
   "execution_count": 24,
   "id": "nasty-electron",
   "metadata": {},
   "outputs": [
    {
     "name": "stdout",
     "output_type": "stream",
     "text": [
      "0\n",
      "1\n",
      "2\n"
     ]
    },
    {
     "ename": "KeyboardInterrupt",
     "evalue": "",
     "output_type": "error",
     "traceback": [
      "\u001b[1;31m---------------------------------------------------------------------------\u001b[0m",
      "\u001b[1;31mKeyboardInterrupt\u001b[0m                         Traceback (most recent call last)",
      "\u001b[1;32m<ipython-input-24-df436d56bb66>\u001b[0m in \u001b[0;36m<module>\u001b[1;34m\u001b[0m\n\u001b[1;32m----> 1\u001b[1;33m \u001b[0mcomms\u001b[0m \u001b[1;33m=\u001b[0m \u001b[0mdyCores\u001b[0m\u001b[1;33m(\u001b[0m\u001b[0mG\u001b[0m\u001b[1;33m,\u001b[0m\u001b[1;36m0.2\u001b[0m\u001b[1;33m,\u001b[0m\u001b[1;34m'dissimilarity'\u001b[0m\u001b[1;33m)\u001b[0m\u001b[1;33m\u001b[0m\u001b[1;33m\u001b[0m\u001b[0m\n\u001b[0m",
      "\u001b[1;32m<ipython-input-12-32249e4a27b4>\u001b[0m in \u001b[0;36mdyCores\u001b[1;34m(G, alfa, weight)\u001b[0m\n\u001b[0;32m     37\u001b[0m                         \u001b[0mg\u001b[0m\u001b[1;33m.\u001b[0m\u001b[0mnodes\u001b[0m\u001b[1;33m[\u001b[0m\u001b[0mq\u001b[0m\u001b[1;33m]\u001b[0m\u001b[1;33m[\u001b[0m\u001b[1;34m'mark'\u001b[0m\u001b[1;33m]\u001b[0m \u001b[1;33m=\u001b[0m \u001b[1;34m'visited'\u001b[0m\u001b[1;33m\u001b[0m\u001b[1;33m\u001b[0m\u001b[0m\n\u001b[0;32m     38\u001b[0m                         \u001b[1;32mfor\u001b[0m \u001b[0mx\u001b[0m \u001b[1;32min\u001b[0m \u001b[0mg\u001b[0m\u001b[1;33m.\u001b[0m\u001b[0mneighbors\u001b[0m\u001b[1;33m(\u001b[0m\u001b[0mq\u001b[0m\u001b[1;33m)\u001b[0m\u001b[1;33m:\u001b[0m\u001b[1;33m\u001b[0m\u001b[1;33m\u001b[0m\u001b[0m\n\u001b[1;32m---> 39\u001b[1;33m                             \u001b[1;32mif\u001b[0m \u001b[0mg\u001b[0m\u001b[1;33m.\u001b[0m\u001b[0mnodes\u001b[0m\u001b[1;33m[\u001b[0m\u001b[0mx\u001b[0m\u001b[1;33m]\u001b[0m\u001b[1;33m[\u001b[0m\u001b[1;34m'mark'\u001b[0m\u001b[1;33m]\u001b[0m \u001b[1;33m==\u001b[0m \u001b[1;34m'unvisited'\u001b[0m \u001b[1;33m:\u001b[0m \u001b[0mcandidates\u001b[0m\u001b[1;33m.\u001b[0m\u001b[0madd\u001b[0m\u001b[1;33m(\u001b[0m\u001b[0mx\u001b[0m\u001b[1;33m)\u001b[0m\u001b[1;33m\u001b[0m\u001b[1;33m\u001b[0m\u001b[0m\n\u001b[0m\u001b[0;32m     40\u001b[0m \u001b[1;33m\u001b[0m\u001b[0m\n\u001b[0;32m     41\u001b[0m                     \u001b[1;32melse\u001b[0m\u001b[1;33m:\u001b[0m \u001b[0mg\u001b[0m\u001b[1;33m.\u001b[0m\u001b[0mnodes\u001b[0m\u001b[1;33m[\u001b[0m\u001b[0mq\u001b[0m\u001b[1;33m]\u001b[0m\u001b[1;33m[\u001b[0m\u001b[1;34m'mark'\u001b[0m\u001b[1;33m]\u001b[0m \u001b[1;33m=\u001b[0m \u001b[1;34m'border'\u001b[0m\u001b[1;33m\u001b[0m\u001b[1;33m\u001b[0m\u001b[0m\n",
      "\u001b[1;32m~\\Anaconda3\\lib\\site-packages\\networkx\\classes\\graph.py\u001b[0m in \u001b[0;36mnodes\u001b[1;34m(self)\u001b[0m\n\u001b[0;32m    654\u001b[0m                 \u001b[1;32mpass\u001b[0m\u001b[1;33m\u001b[0m\u001b[1;33m\u001b[0m\u001b[0m\n\u001b[0;32m    655\u001b[0m \u001b[1;33m\u001b[0m\u001b[0m\n\u001b[1;32m--> 656\u001b[1;33m     \u001b[1;33m@\u001b[0m\u001b[0mproperty\u001b[0m\u001b[1;33m\u001b[0m\u001b[1;33m\u001b[0m\u001b[0m\n\u001b[0m\u001b[0;32m    657\u001b[0m     \u001b[1;32mdef\u001b[0m \u001b[0mnodes\u001b[0m\u001b[1;33m(\u001b[0m\u001b[0mself\u001b[0m\u001b[1;33m)\u001b[0m\u001b[1;33m:\u001b[0m\u001b[1;33m\u001b[0m\u001b[1;33m\u001b[0m\u001b[0m\n\u001b[0;32m    658\u001b[0m         \"\"\"A NodeView of the Graph as G.nodes or G.nodes().\n",
      "\u001b[1;31mKeyboardInterrupt\u001b[0m: "
     ]
    }
   ],
   "source": [
    "comms = dyCores(G,0.2,'dissimilarity')"
   ]
  },
  {
   "cell_type": "code",
   "execution_count": 18,
   "id": "naval-present",
   "metadata": {},
   "outputs": [
    {
     "ename": "TypeError",
     "evalue": "string indices must be integers",
     "output_type": "error",
     "traceback": [
      "\u001b[1;31m---------------------------------------------------------------------------\u001b[0m",
      "\u001b[1;31mTypeError\u001b[0m                                 Traceback (most recent call last)",
      "\u001b[1;32m<ipython-input-18-923c15275f27>\u001b[0m in \u001b[0;36m<module>\u001b[1;34m\u001b[0m\n\u001b[0;32m      1\u001b[0m \u001b[1;32mfor\u001b[0m \u001b[0mcomm\u001b[0m \u001b[1;32min\u001b[0m \u001b[0mcomms\u001b[0m\u001b[1;33m:\u001b[0m\u001b[1;33m\u001b[0m\u001b[1;33m\u001b[0m\u001b[0m\n\u001b[1;32m----> 2\u001b[1;33m     \u001b[0mprint\u001b[0m\u001b[1;33m(\u001b[0m\u001b[1;33m[\u001b[0m\u001b[0mlen\u001b[0m\u001b[1;33m(\u001b[0m\u001b[0mc\u001b[0m\u001b[1;33m)\u001b[0m \u001b[1;32mfor\u001b[0m \u001b[0mc\u001b[0m \u001b[1;32min\u001b[0m \u001b[0msorted\u001b[0m\u001b[1;33m(\u001b[0m\u001b[0mcomm\u001b[0m\u001b[1;33m[\u001b[0m\u001b[1;34m'communities'\u001b[0m\u001b[1;33m]\u001b[0m\u001b[1;33m[\u001b[0m\u001b[1;33m:\u001b[0m\u001b[1;33m-\u001b[0m\u001b[1;36m1\u001b[0m\u001b[1;33m]\u001b[0m\u001b[1;33m,\u001b[0m\u001b[0mkey\u001b[0m\u001b[1;33m=\u001b[0m\u001b[0mlen\u001b[0m\u001b[1;33m,\u001b[0m\u001b[0mreverse\u001b[0m\u001b[1;33m=\u001b[0m\u001b[1;32mTrue\u001b[0m\u001b[1;33m)\u001b[0m\u001b[1;33m]\u001b[0m\u001b[1;33m)\u001b[0m\u001b[1;33m\u001b[0m\u001b[1;33m\u001b[0m\u001b[0m\n\u001b[0m",
      "\u001b[1;31mTypeError\u001b[0m: string indices must be integers"
     ]
    }
   ],
   "source": [
    "for comm in comms:\n",
    "    print([len(c) for c in sorted(comm['communities'][:-1],key=len,reverse=True)])"
   ]
  },
  {
   "cell_type": "code",
   "execution_count": 15,
   "id": "provincial-thumb",
   "metadata": {},
   "outputs": [
    {
     "ename": "AttributeError",
     "evalue": "'str' object has no attribute 'items'",
     "output_type": "error",
     "traceback": [
      "\u001b[1;31m---------------------------------------------------------------------------\u001b[0m",
      "\u001b[1;31mAttributeError\u001b[0m                            Traceback (most recent call last)",
      "\u001b[1;32m<ipython-input-15-667b6dd7d77a>\u001b[0m in \u001b[0;36m<module>\u001b[1;34m\u001b[0m\n\u001b[0;32m      1\u001b[0m \u001b[1;32mfor\u001b[0m \u001b[0mcomm\u001b[0m \u001b[1;32min\u001b[0m \u001b[0mcomms\u001b[0m\u001b[1;33m:\u001b[0m\u001b[1;33m\u001b[0m\u001b[1;33m\u001b[0m\u001b[0m\n\u001b[1;32m----> 2\u001b[1;33m     \u001b[0mprint\u001b[0m\u001b[1;33m(\u001b[0m\u001b[1;33m[\u001b[0m\u001b[0mlen\u001b[0m\u001b[1;33m(\u001b[0m\u001b[0mc\u001b[0m\u001b[1;33m)\u001b[0m \u001b[1;32mfor\u001b[0m \u001b[0mi\u001b[0m\u001b[1;33m,\u001b[0m\u001b[0mc\u001b[0m \u001b[1;32min\u001b[0m \u001b[0mcomm\u001b[0m\u001b[1;33m.\u001b[0m\u001b[0mitems\u001b[0m\u001b[1;33m(\u001b[0m\u001b[1;33m)\u001b[0m\u001b[1;33m]\u001b[0m\u001b[1;33m)\u001b[0m\u001b[1;33m\u001b[0m\u001b[1;33m\u001b[0m\u001b[0m\n\u001b[0m",
      "\u001b[1;31mAttributeError\u001b[0m: 'str' object has no attribute 'items'"
     ]
    }
   ],
   "source": [
    "for comm in comms:\n",
    "    print([len(c) for i,c in comm.items()])"
   ]
  },
  {
   "cell_type": "code",
   "execution_count": null,
   "id": "purple-surprise",
   "metadata": {},
   "outputs": [],
   "source": []
  }
 ],
 "metadata": {
  "kernelspec": {
   "display_name": "Python 3",
   "language": "python",
   "name": "python3"
  },
  "language_info": {
   "codemirror_mode": {
    "name": "ipython",
    "version": 3
   },
   "file_extension": ".py",
   "mimetype": "text/x-python",
   "name": "python",
   "nbconvert_exporter": "python",
   "pygments_lexer": "ipython3",
   "version": "3.7.10"
  }
 },
 "nbformat": 4,
 "nbformat_minor": 5
}
