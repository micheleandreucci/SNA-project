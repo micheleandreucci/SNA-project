{
 "cells": [
  {
   "cell_type": "code",
   "execution_count": 1,
   "id": "4f360fb8",
   "metadata": {},
   "outputs": [],
   "source": [
    "import pandas as pd\n",
    "import numpy as np\n",
    "import sys\n",
    "import json \n",
    "import random\n",
    "import math\n",
    "import collections\n",
    "import seaborn as sns\n",
    "import os\n",
    "\n",
    "#!{sys.executable} -m pip install python-igraph\n",
    "#!{sys.executable} -m pip install igraph\n",
    "from collections import defaultdict\n",
    "from scipy.stats.stats import pearsonr\n",
    "\n",
    "from matplotlib import pyplot as plt\n",
    "#!{sys.executable} -m pip install cdlib\n",
    "\n",
    "import networkx as nx\n",
    "import dynetx as dn\n",
    "import cdlib\n",
    "from cdlib import algorithms as cd\n",
    "from cdlib import readwrite, viz, evaluation"
   ]
  },
  {
   "cell_type": "markdown",
   "id": "1e124c95",
   "metadata": {},
   "source": [
    "# Preparation\n",
    "2007 0\n",
    "2008 0\n",
    "2009 7\n",
    "2010 45\n",
    "2011 1846\n",
    "2012 19305\n",
    "2013 56023\n",
    "2014 85569\n",
    "2015 193365\n",
    "2016 322918\n",
    "2017 354174\n",
    "2018 310313\n",
    "2019 289450\n",
    "2020 75629\n",
    "2021 245\n"
   ]
  },
  {
   "cell_type": "code",
   "execution_count": null,
   "id": "5c62373d",
   "metadata": {},
   "outputs": [],
   "source": []
  },
  {
   "cell_type": "code",
   "execution_count": 2,
   "id": "11fca8f1",
   "metadata": {},
   "outputs": [
    {
     "name": "stdout",
     "output_type": "stream",
     "text": [
      "2007.weighted.edgelist\n",
      "2008.weighted.edgelist\n",
      "2009.weighted.edgelist\n",
      "2010.weighted.edgelist\n",
      "2011.weighted.edgelist\n",
      "2012.weighted.edgelist\n",
      "2013.weighted.edgelist\n",
      "2014.weighted.edgelist\n",
      "2015.weighted.edgelist\n",
      "2016.weighted.edgelist\n",
      "2017.weighted.edgelist\n",
      "2018.weighted.edgelist\n",
      "2019.weighted.edgelist\n",
      "2020.weighted.edgelist\n",
      "2021.weighted.edgelist\n"
     ]
    }
   ],
   "source": [
    "import os \n",
    "data = dict()\n",
    "\n",
    "\n",
    "G = dn.DynGraph(edge_removal=True)\n",
    "\n",
    "for f in os.listdir('../../data/years/'):\n",
    "    if f.find('.weighted.edgelist')>=0:\n",
    "        print(f)\n",
    "        with open('../../data/years/'+f,'r') as gf:\n",
    "            for line in gf.readlines():\n",
    "                u,v,w = line.split(' ')\n",
    "                t = int(f[:4])\n",
    "                G.add_interaction(u,v,t)\n",
    "            \n",
    "            "
   ]
  },
  {
   "cell_type": "code",
   "execution_count": 3,
   "id": "42f2ee3f",
   "metadata": {},
   "outputs": [],
   "source": [
    "dn.write_snapshots(G, '../data/years.weighted.edgelist')"
   ]
  },
  {
   "cell_type": "markdown",
   "id": "c9de9f42",
   "metadata": {},
   "source": [
    "## Load"
   ]
  },
  {
   "cell_type": "code",
   "execution_count": 4,
   "id": "96d387e5",
   "metadata": {},
   "outputs": [],
   "source": [
    "G = dn.read_snapshots('../data/years.weighted.edgelist', nodetype=int, timestamptype=int)\n"
   ]
  },
  {
   "cell_type": "code",
   "execution_count": null,
   "id": "cfa80a24",
   "metadata": {},
   "outputs": [],
   "source": [
    "tiles = cd.tiles(G)"
   ]
  },
  {
   "cell_type": "code",
   "execution_count": null,
   "id": "7d6a1bc0",
   "metadata": {},
   "outputs": [],
   "source": [
    "\n",
    "readwrite.write_community_json(tiles,'../data/years_tiles.json')"
   ]
  },
  {
   "cell_type": "code",
   "execution_count": null,
   "id": "quantitative-straight",
   "metadata": {},
   "outputs": [],
   "source": []
  }
 ],
 "metadata": {
  "kernelspec": {
   "display_name": "Python 3",
   "language": "python",
   "name": "python3"
  },
  "language_info": {
   "codemirror_mode": {
    "name": "ipython",
    "version": 3
   },
   "file_extension": ".py",
   "mimetype": "text/x-python",
   "name": "python",
   "nbconvert_exporter": "python",
   "pygments_lexer": "ipython3",
   "version": "3.7.10"
  }
 },
 "nbformat": 4,
 "nbformat_minor": 5
}
