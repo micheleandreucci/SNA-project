{
 "cells": [
  {
   "cell_type": "code",
   "execution_count": 3,
   "metadata": {},
   "outputs": [],
   "source": [
    "import linkpred"
   ]
  },
  {
   "cell_type": "code",
   "execution_count": 4,
   "metadata": {},
   "outputs": [],
   "source": [
    "%matplotlib inline\n",
    "import matplotlib.pyplot as plt\n",
    "import networkx as nx\n",
    "import numpy as np"
   ]
  },
  {
   "cell_type": "code",
   "execution_count": null,
   "metadata": {},
   "outputs": [],
   "source": []
  },
  {
   "cell_type": "code",
   "execution_count": 5,
   "metadata": {},
   "outputs": [
    {
     "name": "stdout",
     "output_type": "stream",
     "text": [
      "5796 366988\n"
     ]
    }
   ],
   "source": [
    "G = nx.read_graphml('../data/pre2014.graphml')\n",
    "print(len(G), len(G.edges))"
   ]
  },
  {
   "cell_type": "code",
   "execution_count": 6,
   "metadata": {},
   "outputs": [],
   "source": [
    "dataset_edges = [e for e in G.edges if  int(G.edges[e]['first']) <20110700]"
   ]
  },
  {
   "cell_type": "code",
   "execution_count": 7,
   "metadata": {},
   "outputs": [],
   "source": [
    "g = G.edge_subgraph(dataset_edges)"
   ]
  },
  {
   "cell_type": "code",
   "execution_count": 8,
   "metadata": {},
   "outputs": [
    {
     "data": {
      "text/plain": [
       "4168"
      ]
     },
     "execution_count": 8,
     "metadata": {},
     "output_type": "execute_result"
    }
   ],
   "source": [
    "len(g.edges)"
   ]
  },
  {
   "cell_type": "code",
   "execution_count": 9,
   "metadata": {},
   "outputs": [],
   "source": [
    "train_edges = list()\n",
    "test_edges = list()\n",
    "\n",
    "for e in list(g.edges):\n",
    "    if int(g.edges[e]['first']) <20110500: train_edges.append(e)\n",
    "    else: test_edges.append(e)\n",
    "        \n",
    "        \n",
    "train = g.edge_subgraph(train_edges)\n",
    "test = g.edge_subgraph(test_edges)\n",
    "        "
   ]
  },
  {
   "cell_type": "code",
   "execution_count": null,
   "metadata": {},
   "outputs": [],
   "source": []
  },
  {
   "cell_type": "code",
   "execution_count": 10,
   "metadata": {},
   "outputs": [
    {
     "name": "stdout",
     "output_type": "stream",
     "text": [
      "934 699\n"
     ]
    }
   ],
   "source": [
    "print(len(train),len(test))"
   ]
  },
  {
   "cell_type": "code",
   "execution_count": 26,
   "metadata": {},
   "outputs": [],
   "source": [
    "g = train.copy()"
   ]
  },
  {
   "cell_type": "markdown",
   "metadata": {},
   "source": [
    "### Methods"
   ]
  },
  {
   "cell_type": "code",
   "execution_count": 27,
   "metadata": {},
   "outputs": [
    {
     "name": "stdout",
     "output_type": "stream",
     "text": [
      "5392 - 1796 8.0\n",
      "5408 - 4056 7.0\n",
      "4140 - 4085 7.0\n",
      "4156 - 15189 6.0\n",
      "10897 - 10647 6.0\n"
     ]
    }
   ],
   "source": [
    "cn = linkpred.predictors.CommonNeighbours(g, excluded=g.edges()) # We aim to predict only new links, thus we exclude existing ones\n",
    "cn_results = cn.predict()\n",
    "\n",
    "top = cn_results.top(5)\n",
    "for edge, score in top.items():\n",
    "    print(edge, score)"
   ]
  },
  {
   "cell_type": "markdown",
   "metadata": {},
   "source": [
    "##### **Jaccard**\n",
    "The more similar our friends circles are, the more likely we will become friends."
   ]
  },
  {
   "cell_type": "code",
   "execution_count": 5,
   "metadata": {},
   "outputs": [
    {
     "name": "stdout",
     "output_type": "stream",
     "text": [
      "RED_PRIEST - KINVARA 1.0\n",
      "LITTLE_SAM - DICKON 1.0\n",
      "TOMMEN - MACE 0.7272727272727273\n",
      "JOFFREY - CAMELLO 0.7272727272727273\n",
      "OLD_NAN - BENJEN 0.7142857142857143\n"
     ]
    }
   ],
   "source": [
    "jc = linkpred.predictors.Jaccard(g, excluded=g.edges())\n",
    "jc_results = jc.predict()\n",
    "\n",
    "top = jc_results.top(5)\n",
    "for edge, score in top.items():\n",
    "    print(edge, score)"
   ]
  },
  {
   "cell_type": "markdown",
   "metadata": {},
   "source": [
    "##### **Adamic Adar**\n",
    "The more selective our mutual friends are, the more likely we will become friends."
   ]
  },
  {
   "cell_type": "code",
   "execution_count": 6,
   "metadata": {},
   "outputs": [
    {
     "name": "stdout",
     "output_type": "stream",
     "text": [
      "TOMMEN - MACE 3.187557281030789\n",
      "NED - LADY_CRANE 3.1263711657257836\n",
      "NED - CLARENZO 3.1263711657257836\n",
      "SANSA - ROBB 3.096644315133246\n",
      "JOFFREY - CAMELLO 2.8944937119329133\n"
     ]
    }
   ],
   "source": [
    "aa = linkpred.predictors.AdamicAdar(g, excluded=g.edges())\n",
    "aa_results = aa.predict()\n",
    "\n",
    "top = aa_results.top(5)\n",
    "for edge, score in top.items():\n",
    "    print(edge, score)"
   ]
  },
  {
   "cell_type": "markdown",
   "metadata": {},
   "source": [
    "#### 2.B.2 Paths\n",
    "\n",
    "The second family of predictors is the one that tries to relate node pairs distance with the likelihood of observing a tie among them in the future. </br>\n",
    "The question such predictors try to answer is: *How distant are we?*\n",
    "\n",
    "\n",
    "##### **Katz**\n",
    "Katz computes the weighted sum over all the paths between two nodes."
   ]
  },
  {
   "cell_type": "code",
   "execution_count": 7,
   "metadata": {},
   "outputs": [
    {
     "name": "stdout",
     "output_type": "stream",
     "text": [
      "\n",
      "LADY_CRANE - JAQEN 0.005567281893477002\n",
      "SANSA - ALLISER_THORNE 0.004169953567762\n",
      "TYRION - DAARIO 0.004128725185609999\n",
      "CERSEI - BRIENNE 0.0038690808165880003\n",
      "MELISANDRE - LYANNA_MORMONT 0.00354647474534\n"
     ]
    }
   ],
   "source": [
    "kz = linkpred.predictors.Katz(g, excluded=g.edges())\n",
    "kz_results = kz.predict()\n",
    "\n",
    "top = kz_results.top(5)\n",
    "for edge, score in top.items():\n",
    "    print(edge, score)"
   ]
  },
  {
   "cell_type": "markdown",
   "metadata": {},
   "source": [
    "##### **Graph Distance**\n",
    "Graph Distance computes the (negated) length of the shortest path between two nodes"
   ]
  },
  {
   "cell_type": "code",
   "execution_count": 8,
   "metadata": {},
   "outputs": [
    {
     "name": "stdout",
     "output_type": "stream",
     "text": [
      "LADY_CRANE - JAQEN 36.136054421768705\n",
      "TYRION - DAARIO 30.29268292682927\n",
      "CERSEI - BRIENNE 28.44827586206896\n",
      "MELISANDRE - LITTLEFINGER 23.427491305005294\n",
      "CERSEI - BRONN 23.294117647058822\n"
     ]
    }
   ],
   "source": [
    "gd = linkpred.predictors.GraphDistance(g, excluded=g.edges())\n",
    "gd_results = gd.predict()\n",
    "\n",
    "top = gd_results.top(5)\n",
    "for edge, score in top.items():\n",
    "    print(edge, score)"
   ]
  },
  {
   "cell_type": "markdown",
   "metadata": {},
   "source": [
    "#### 2.B.3 Rankig\n",
    "\n",
    "The third family of predictors is the one that tries to relate node pairs position in the graph with the likelihood of observing a tie among them in the future. </br>\n",
    "The question such predictors try to answer is: *How similar are we?\n",
    "\n",
    "##### **SimRank**\n",
    "Two nodes are similar to the extent that their neighborhoods are similar."
   ]
  },
  {
   "cell_type": "code",
   "execution_count": 9,
   "metadata": {},
   "outputs": [
    {
     "name": "stdout",
     "output_type": "stream",
     "text": [
      "MAESTER_CITADEL - MAESTER_AEMON 0.3920701611834243\n",
      "RAY - GATINS 0.3886464843365491\n",
      "GATINS - BERIC 0.3675791855431439\n",
      "THOROS - GATINS 0.3636591552182033\n",
      "MAESTER_AEMON - GILLY 0.3198896231577875\n"
     ]
    }
   ],
   "source": [
    "simrank = linkpred.predictors.SimRank(g, excluded=g.edges())\n",
    "simrank_results = simrank.predict(c=0.5)\n",
    "\n",
    "top = simrank_results.top(5)\n",
    "for edge, score in top.items():\n",
    "    print(edge, score)"
   ]
  },
  {
   "cell_type": "markdown",
   "metadata": {},
   "source": [
    "#### 2.B.4 Miscellanea\n",
    "\n",
    "In this family fall alternative definitios of link predictors. </br>\n",
    "``linkpred`` groups here approaches that are commonly used as baselines.\n",
    "\n",
    "##### **Random**\n",
    "\n",
    "Random guessing."
   ]
  },
  {
   "cell_type": "code",
   "execution_count": 10,
   "metadata": {},
   "outputs": [
    {
     "name": "stdout",
     "output_type": "stream",
     "text": [
      "MAESTER_CITADEL - MAESTER_AEMON 0.3920701611834243\n",
      "RAY - GATINS 0.3886464843365491\n",
      "GATINS - BERIC 0.3675791855431439\n",
      "THOROS - GATINS 0.3636591552182033\n",
      "MAESTER_AEMON - GILLY 0.3198896231577875\n"
     ]
    }
   ],
   "source": [
    "rnd = linkpred.predictors.Random(g, excluded=g.edges())\n",
    "rnd_results = rnd.predict()\n",
    "\n",
    "top = simrank_results.top(5)\n",
    "for edge, score in top.items():\n",
    "    print(edge, score)"
   ]
  },
  {
   "cell_type": "markdown",
   "metadata": {},
   "source": [
    "<a id='eval'></a>\n",
    "### 2.C Evaluation and comparison of different predictors\n",
    "\n",
    "To evaluate a link predictor we have to separate the network used for training from the one used for testing purposes."
   ]
  },
  {
   "cell_type": "code",
   "execution_count": 28,
   "metadata": {},
   "outputs": [],
   "source": [
    "import random\n",
    "import itertools\n",
    "from linkpred.evaluation import Pair\n",
    "\n",
    "# Building the test network\n",
    "test = test\n",
    "\n",
    "# Exclude test network from learning phase\n",
    "training = g.copy()\n",
    "\n",
    "# Node set\n",
    "nodes = list(g.nodes())\n",
    "nodes.extend(list(test.nodes()))\n",
    "\n",
    "# Compute the test set and the universe set\n",
    "test = [Pair(i) for i in test.edges()]\n",
    "universe = set([Pair(i) for i in itertools.product(nodes, nodes) if i[0]!=i[1]])"
   ]
  },
  {
   "cell_type": "markdown",
   "metadata": {},
   "source": [
    "After that, we can apply the predictors to the training network"
   ]
  },
  {
   "cell_type": "code",
   "execution_count": 29,
   "metadata": {},
   "outputs": [],
   "source": [
    "cn = linkpred.predictors.CommonNeighbours(training, excluded=training.edges())\n",
    "cn_results = cn.predict()\n",
    "\n",
    "aa = linkpred.predictors.AdamicAdar(training, excluded=training.edges())\n",
    "aa_results = aa.predict()\n",
    "\n",
    "jc = linkpred.predictors.Jaccard(training, excluded=training.edges())\n",
    "jc_results = jc.predict()"
   ]
  },
  {
   "cell_type": "markdown",
   "metadata": {},
   "source": [
    "Thus, we can evaluate the obtained prediction against the test"
   ]
  },
  {
   "cell_type": "code",
   "execution_count": 30,
   "metadata": {},
   "outputs": [],
   "source": [
    "\n",
    "cn_evaluation = linkpred.evaluation.EvaluationSheet(cn_results, test, universe)\n",
    "aa_evaluation = linkpred.evaluation.EvaluationSheet(aa_results, test, universe)\n",
    "jc_evaluation = linkpred.evaluation.EvaluationSheet(jc_results, test, universe)\n",
    "\n"
   ]
  },
  {
   "cell_type": "markdown",
   "metadata": {},
   "source": [
    "The results can be easily compared using a ROC plot"
   ]
  },
  {
   "cell_type": "code",
   "execution_count": 31,
   "metadata": {},
   "outputs": [
    {
     "data": {
      "image/png": "[encoded data removed]",
      "text/plain": [
       "<Figure size 432x288 with 1 Axes>"
      ]
     },
     "metadata": {
      "needs_background": "light"
     },
     "output_type": "display_data"
    }
   ],
   "source": [
    "plt.plot(cn_evaluation.fallout(), cn_evaluation.recall(), label=\"Common Neighbors\")\n",
    "plt.plot(aa_evaluation.fallout(), aa_evaluation.recall(), label=\"Adamic Adar\")\n",
    "plt.plot(jc_evaluation.fallout(), jc_evaluation.recall(), label=\"Jaccard\")\n",
    "plt.ylabel(\"TPR\")\n",
    "plt.xlabel(\"FPR\")\n",
    "plt.legend()\n",
    "plt.show()"
   ]
  },
  {
   "cell_type": "markdown",
   "metadata": {},
   "source": [
    "A simple way to summarize the results offered by the ROC curve is through its AUC"
   ]
  },
  {
   "cell_type": "code",
   "execution_count": 32,
   "metadata": {},
   "outputs": [
    {
     "name": "stdout",
     "output_type": "stream",
     "text": [
      "Area Under Roc Curve (AUROC)\n",
      "Common Neigh.: \t 0.001317830102250289\n",
      "Adamic Adar: \t 0.001487387714381032\n",
      "Jaccard: \t 0.0009871704625349035\n"
     ]
    }
   ],
   "source": [
    "from sklearn.metrics import auc\n",
    "\n",
    "print(\"Area Under Roc Curve (AUROC)\")\n",
    "print(f\"Common Neigh.: \\t {auc(cn_evaluation.fallout(), cn_evaluation.recall())}\")\n",
    "print(f\"Adamic Adar: \\t {auc(aa_evaluation.fallout(), aa_evaluation.recall())}\")\n",
    "print(f\"Jaccard: \\t {auc(jc_evaluation.fallout(), jc_evaluation.recall())}\")"
   ]
  },
  {
   "cell_type": "code",
   "execution_count": 34,
   "metadata": {},
   "outputs": [
    {
     "name": "stdout",
     "output_type": "stream",
     "text": [
      "Area Under Roc Curve (AUROC)\n",
      "Common Neigh.: \t 0.00019623970346680452\n",
      "Adamic Adar: \t 0.00022247210785973423\n",
      "Jaccard: \t 0.00011954584133899441\n"
     ]
    }
   ],
   "source": [
    "from sklearn.metrics import auc\n",
    "\n",
    "print(\"Area Under Roc Curve (AUROC)\")\n",
    "print(f\"Common Neigh.: \\t {auc(cn_evaluation.fallout(), cn_evaluation.precision())}\")\n",
    "print(f\"Adamic Adar: \\t {auc(aa_evaluation.fallout(), aa_evaluation.precision())}\")\n",
    "print(f\"Jaccard: \\t {auc(jc_evaluation.fallout(), jc_evaluation.precision())}\")"
   ]
  },
  {
   "cell_type": "code",
   "execution_count": null,
   "metadata": {},
   "outputs": [],
   "source": []
  }
 ],
 "metadata": {
  "kernelspec": {
   "display_name": "Python 3",
   "language": "python",
   "name": "python3"
  },
  "language_info": {
   "codemirror_mode": {
    "name": "ipython",
    "version": 3
   },
   "file_extension": ".py",
   "mimetype": "text/x-python",
   "name": "python",
   "nbconvert_exporter": "python",
   "pygments_lexer": "ipython3",
   "version": "3.7.10"
  }
 },
 "nbformat": 4,
 "nbformat_minor": 4
}
