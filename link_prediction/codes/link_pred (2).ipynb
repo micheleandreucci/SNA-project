{
 "cells": [
  {
   "cell_type": "code",
   "execution_count": 1,
   "id": "czech-buying",
   "metadata": {},
   "outputs": [],
   "source": [
    "import pandas as pd\n",
    "import numpy as np\n",
    "import sys\n",
    "import json \n",
    "import random\n",
    "import math\n",
    "import collections\n",
    "import seaborn as sns\n",
    "import networkx as nx"
   ]
  },
  {
   "cell_type": "markdown",
   "id": "powered-housing",
   "metadata": {},
   "source": [
    "## Load Data"
   ]
  },
  {
   "cell_type": "code",
   "execution_count": 2,
   "id": "adopted-traffic",
   "metadata": {},
   "outputs": [
    {
     "data": {
      "text/html": [
       "<div>\n",
       "<style scoped>\n",
       "    .dataframe tbody tr th:only-of-type {\n",
       "        vertical-align: middle;\n",
       "    }\n",
       "\n",
       "    .dataframe tbody tr th {\n",
       "        vertical-align: top;\n",
       "    }\n",
       "\n",
       "    .dataframe thead th {\n",
       "        text-align: right;\n",
       "    }\n",
       "</style>\n",
       "<table border=\"1\" class=\"dataframe\">\n",
       "  <thead>\n",
       "    <tr style=\"text-align: right;\">\n",
       "      <th></th>\n",
       "      <th>index</th>\n",
       "      <th>position</th>\n",
       "      <th>name</th>\n",
       "      <th>city</th>\n",
       "      <th>menu</th>\n",
       "      <th>link</th>\n",
       "      <th>score</th>\n",
       "      <th>N_reviews</th>\n",
       "      <th>price</th>\n",
       "      <th>Name</th>\n",
       "      <th>...</th>\n",
       "      <th>specialDiets</th>\n",
       "      <th>positionlink</th>\n",
       "      <th>province</th>\n",
       "      <th>Link</th>\n",
       "      <th>provinceOK</th>\n",
       "      <th>louvain</th>\n",
       "      <th>kmeans</th>\n",
       "      <th>async_fluid_7</th>\n",
       "      <th>multicore</th>\n",
       "      <th>demon</th>\n",
       "    </tr>\n",
       "  </thead>\n",
       "  <tbody>\n",
       "    <tr>\n",
       "      <th>0</th>\n",
       "      <td>0</td>\n",
       "      <td>2018</td>\n",
       "      <td>Osteria al Borgo</td>\n",
       "      <td>Lucca</td>\n",
       "      <td>False</td>\n",
       "      <td>/Restaurant_Review-g187898-d23137800-Reviews-O...</td>\n",
       "      <td>5.0</td>\n",
       "      <td>6</td>\n",
       "      <td>NaN</td>\n",
       "      <td>Osteria al Borgo</td>\n",
       "      <td>...</td>\n",
       "      <td>Vegetarian Friendly, Vegan Options, Gluten Fre...</td>\n",
       "      <td>j39_https://maps.google.com/maps?saddr=&amp;daddr=...</td>\n",
       "      <td>pisa</td>\n",
       "      <td>/Restaurant_Review-g187898-d23137800-Reviews-O...</td>\n",
       "      <td>0</td>\n",
       "      <td>8.0</td>\n",
       "      <td>1.0</td>\n",
       "      <td>6.0</td>\n",
       "      <td>2.0</td>\n",
       "      <td>58</td>\n",
       "    </tr>\n",
       "    <tr>\n",
       "      <th>1</th>\n",
       "      <td>12</td>\n",
       "      <td>1309</td>\n",
       "      <td>Il Genio Italiano</td>\n",
       "      <td>Florence</td>\n",
       "      <td>True</td>\n",
       "      <td>/Restaurant_Review-g187895-d2483611-Reviews-Il...</td>\n",
       "      <td>4.0</td>\n",
       "      <td>229</td>\n",
       "      <td>2.5</td>\n",
       "      <td>Il Genio Italiano</td>\n",
       "      <td>...</td>\n",
       "      <td>Vegetarian Friendly</td>\n",
       "      <td>vs1_https://maps.google.com/maps?saddr=&amp;daddr=...</td>\n",
       "      <td>florence</td>\n",
       "      <td>/Restaurant_Review-g187895-d2483611-Reviews-Il...</td>\n",
       "      <td>1</td>\n",
       "      <td>8.0</td>\n",
       "      <td>0.0</td>\n",
       "      <td>6.0</td>\n",
       "      <td>2.0</td>\n",
       "      <td>58</td>\n",
       "    </tr>\n",
       "    <tr>\n",
       "      <th>2</th>\n",
       "      <td>37</td>\n",
       "      <td>1316</td>\n",
       "      <td>La Taverna</td>\n",
       "      <td>Scandicci</td>\n",
       "      <td>False</td>\n",
       "      <td>/Restaurant_Review-g644284-d2660933-Reviews-La...</td>\n",
       "      <td>4.0</td>\n",
       "      <td>236</td>\n",
       "      <td>2.5</td>\n",
       "      <td>La Taverna</td>\n",
       "      <td>...</td>\n",
       "      <td>Vegetarian Friendly</td>\n",
       "      <td>zhJ_https://maps.google.com/maps?saddr=&amp;daddr=...</td>\n",
       "      <td>florence</td>\n",
       "      <td>/Restaurant_Review-g644284-d2660933-Reviews-La...</td>\n",
       "      <td>1</td>\n",
       "      <td>8.0</td>\n",
       "      <td>0.0</td>\n",
       "      <td>6.0</td>\n",
       "      <td>2.0</td>\n",
       "      <td>58</td>\n",
       "    </tr>\n",
       "    <tr>\n",
       "      <th>3</th>\n",
       "      <td>48</td>\n",
       "      <td>1301</td>\n",
       "      <td>Bar Pasticceria Deanna</td>\n",
       "      <td>Florence</td>\n",
       "      <td>False</td>\n",
       "      <td>/Restaurant_Review-g187895-d2077023-Reviews-Ba...</td>\n",
       "      <td>4.0</td>\n",
       "      <td>162</td>\n",
       "      <td>1.0</td>\n",
       "      <td>Bar Pasticceria Deanna</td>\n",
       "      <td>...</td>\n",
       "      <td>Vegetarian Friendly, Vegan Options, Gluten Fre...</td>\n",
       "      <td>hSR_https://maps.google.com/maps?saddr=&amp;daddr=...</td>\n",
       "      <td>florence</td>\n",
       "      <td>/Restaurant_Review-g187895-d2077023-Reviews-Ba...</td>\n",
       "      <td>1</td>\n",
       "      <td>8.0</td>\n",
       "      <td>0.0</td>\n",
       "      <td>6.0</td>\n",
       "      <td>3.0</td>\n",
       "      <td>58</td>\n",
       "    </tr>\n",
       "    <tr>\n",
       "      <th>4</th>\n",
       "      <td>50</td>\n",
       "      <td>1332</td>\n",
       "      <td>Perseus Fiesolano</td>\n",
       "      <td>Fiesole</td>\n",
       "      <td>True</td>\n",
       "      <td>/Restaurant_Review-g187896-d2720609-Reviews-Pe...</td>\n",
       "      <td>3.5</td>\n",
       "      <td>754</td>\n",
       "      <td>2.5</td>\n",
       "      <td>Perseus Fiesolano</td>\n",
       "      <td>...</td>\n",
       "      <td>Gluten Free Options</td>\n",
       "      <td>d5H_https://maps.google.com/maps?saddr=&amp;daddr=...</td>\n",
       "      <td>florence</td>\n",
       "      <td>/Restaurant_Review-g187896-d2720609-Reviews-Pe...</td>\n",
       "      <td>1</td>\n",
       "      <td>8.0</td>\n",
       "      <td>0.0</td>\n",
       "      <td>6.0</td>\n",
       "      <td>3.0</td>\n",
       "      <td>58</td>\n",
       "    </tr>\n",
       "  </tbody>\n",
       "</table>\n",
       "<p>5 rows × 29 columns</p>\n",
       "</div>"
      ],
      "text/plain": [
       "   index  position                    name       city   menu  \\\n",
       "0      0      2018        Osteria al Borgo      Lucca  False   \n",
       "1     12      1309       Il Genio Italiano   Florence   True   \n",
       "2     37      1316              La Taverna  Scandicci  False   \n",
       "3     48      1301  Bar Pasticceria Deanna   Florence  False   \n",
       "4     50      1332       Perseus Fiesolano    Fiesole   True   \n",
       "\n",
       "                                                link  score  N_reviews  price  \\\n",
       "0  /Restaurant_Review-g187898-d23137800-Reviews-O...    5.0          6    NaN   \n",
       "1  /Restaurant_Review-g187895-d2483611-Reviews-Il...    4.0        229    2.5   \n",
       "2  /Restaurant_Review-g644284-d2660933-Reviews-La...    4.0        236    2.5   \n",
       "3  /Restaurant_Review-g187895-d2077023-Reviews-Ba...    4.0        162    1.0   \n",
       "4  /Restaurant_Review-g187896-d2720609-Reviews-Pe...    3.5        754    2.5   \n",
       "\n",
       "                     Name  ...  \\\n",
       "0        Osteria al Borgo  ...   \n",
       "1       Il Genio Italiano  ...   \n",
       "2              La Taverna  ...   \n",
       "3  Bar Pasticceria Deanna  ...   \n",
       "4       Perseus Fiesolano  ...   \n",
       "\n",
       "                                        specialDiets  \\\n",
       "0  Vegetarian Friendly, Vegan Options, Gluten Fre...   \n",
       "1                                Vegetarian Friendly   \n",
       "2                                Vegetarian Friendly   \n",
       "3  Vegetarian Friendly, Vegan Options, Gluten Fre...   \n",
       "4                                Gluten Free Options   \n",
       "\n",
       "                                        positionlink  province  \\\n",
       "0  j39_https://maps.google.com/maps?saddr=&daddr=...      pisa   \n",
       "1  vs1_https://maps.google.com/maps?saddr=&daddr=...  florence   \n",
       "2  zhJ_https://maps.google.com/maps?saddr=&daddr=...  florence   \n",
       "3  hSR_https://maps.google.com/maps?saddr=&daddr=...  florence   \n",
       "4  d5H_https://maps.google.com/maps?saddr=&daddr=...  florence   \n",
       "\n",
       "                                                Link  provinceOK  louvain  \\\n",
       "0  /Restaurant_Review-g187898-d23137800-Reviews-O...           0      8.0   \n",
       "1  /Restaurant_Review-g187895-d2483611-Reviews-Il...           1      8.0   \n",
       "2  /Restaurant_Review-g644284-d2660933-Reviews-La...           1      8.0   \n",
       "3  /Restaurant_Review-g187895-d2077023-Reviews-Ba...           1      8.0   \n",
       "4  /Restaurant_Review-g187896-d2720609-Reviews-Pe...           1      8.0   \n",
       "\n",
       "   kmeans async_fluid_7 multicore demon  \n",
       "0     1.0           6.0       2.0    58  \n",
       "1     0.0           6.0       2.0    58  \n",
       "2     0.0           6.0       2.0    58  \n",
       "3     0.0           6.0       3.0    58  \n",
       "4     0.0           6.0       3.0    58  \n",
       "\n",
       "[5 rows x 29 columns]"
      ]
     },
     "execution_count": 2,
     "metadata": {},
     "output_type": "execute_result"
    }
   ],
   "source": [
    "G = nx.read_weighted_edgelist('conn_communities.weighted.edgelist')\n",
    "G = nx.relabel_nodes(G, {node:int(node) for node in G.nodes}) \n",
    "df = pd.read_csv('conn_communities.csv',index_col=0)\n",
    "\n",
    "df.head()"
   ]
  },
  {
   "cell_type": "code",
   "execution_count": 3,
   "id": "trying-emerald",
   "metadata": {},
   "outputs": [
    {
     "data": {
      "text/plain": [
       "2"
      ]
     },
     "execution_count": 3,
     "metadata": {},
     "output_type": "execute_result"
    }
   ],
   "source": [
    "True + True"
   ]
  },
  {
   "cell_type": "code",
   "execution_count": 4,
   "id": "statewide-celebration",
   "metadata": {},
   "outputs": [
    {
     "data": {
      "text/plain": [
       "Index(['index', 'position', 'name', 'city', 'menu', 'link', 'score',\n",
       "       'N_reviews', 'price', 'Name', 'Province', 'City', 'claimed',\n",
       "       'covidMeasure', 'travellersChoice', 'latitude', 'longitude', 'cuisines',\n",
       "       'meals', 'specialDiets', 'positionlink', 'province', 'Link',\n",
       "       'provinceOK', 'louvain', 'kmeans', 'async_fluid_7', 'multicore',\n",
       "       'demon'],\n",
       "      dtype='object')"
      ]
     },
     "execution_count": 4,
     "metadata": {},
     "output_type": "execute_result"
    }
   ],
   "source": [
    "df.columns"
   ]
  },
  {
   "cell_type": "code",
   "execution_count": 6,
   "id": "precise-cruise",
   "metadata": {},
   "outputs": [
    {
     "data": {
      "text/html": [
       "<div>\n",
       "<style scoped>\n",
       "    .dataframe tbody tr th:only-of-type {\n",
       "        vertical-align: middle;\n",
       "    }\n",
       "\n",
       "    .dataframe tbody tr th {\n",
       "        vertical-align: top;\n",
       "    }\n",
       "\n",
       "    .dataframe thead th {\n",
       "        text-align: right;\n",
       "    }\n",
       "</style>\n",
       "<table border=\"1\" class=\"dataframe\">\n",
       "  <thead>\n",
       "    <tr style=\"text-align: right;\">\n",
       "      <th></th>\n",
       "      <th>u</th>\n",
       "      <th>v</th>\n",
       "      <th>weight</th>\n",
       "    </tr>\n",
       "  </thead>\n",
       "  <tbody>\n",
       "    <tr>\n",
       "      <th>0</th>\n",
       "      <td>0</td>\n",
       "      <td>1</td>\n",
       "      <td>1.0</td>\n",
       "    </tr>\n",
       "    <tr>\n",
       "      <th>1</th>\n",
       "      <td>0</td>\n",
       "      <td>2</td>\n",
       "      <td>1.0</td>\n",
       "    </tr>\n",
       "    <tr>\n",
       "      <th>2</th>\n",
       "      <td>0</td>\n",
       "      <td>3</td>\n",
       "      <td>1.0</td>\n",
       "    </tr>\n",
       "    <tr>\n",
       "      <th>3</th>\n",
       "      <td>0</td>\n",
       "      <td>4</td>\n",
       "      <td>1.0</td>\n",
       "    </tr>\n",
       "    <tr>\n",
       "      <th>4</th>\n",
       "      <td>0</td>\n",
       "      <td>5</td>\n",
       "      <td>1.0</td>\n",
       "    </tr>\n",
       "    <tr>\n",
       "      <th>...</th>\n",
       "      <td>...</td>\n",
       "      <td>...</td>\n",
       "      <td>...</td>\n",
       "    </tr>\n",
       "    <tr>\n",
       "      <th>136641</th>\n",
       "      <td>14067</td>\n",
       "      <td>14999</td>\n",
       "      <td>1.0</td>\n",
       "    </tr>\n",
       "    <tr>\n",
       "      <th>136642</th>\n",
       "      <td>14067</td>\n",
       "      <td>15000</td>\n",
       "      <td>2.0</td>\n",
       "    </tr>\n",
       "    <tr>\n",
       "      <th>136643</th>\n",
       "      <td>14999</td>\n",
       "      <td>15000</td>\n",
       "      <td>1.0</td>\n",
       "    </tr>\n",
       "    <tr>\n",
       "      <th>136644</th>\n",
       "      <td>14669</td>\n",
       "      <td>14892</td>\n",
       "      <td>1.0</td>\n",
       "    </tr>\n",
       "    <tr>\n",
       "      <th>136645</th>\n",
       "      <td>14783</td>\n",
       "      <td>14863</td>\n",
       "      <td>1.0</td>\n",
       "    </tr>\n",
       "  </tbody>\n",
       "</table>\n",
       "<p>136646 rows × 3 columns</p>\n",
       "</div>"
      ],
      "text/plain": [
       "            u      v  weight\n",
       "0           0      1     1.0\n",
       "1           0      2     1.0\n",
       "2           0      3     1.0\n",
       "3           0      4     1.0\n",
       "4           0      5     1.0\n",
       "...       ...    ...     ...\n",
       "136641  14067  14999     1.0\n",
       "136642  14067  15000     2.0\n",
       "136643  14999  15000     1.0\n",
       "136644  14669  14892     1.0\n",
       "136645  14783  14863     1.0\n",
       "\n",
       "[136646 rows x 3 columns]"
      ]
     },
     "execution_count": 6,
     "metadata": {},
     "output_type": "execute_result"
    }
   ],
   "source": [
    "dfg = pd.read_csv('conn_communities.weighted.edgelist',index_col = None, header = None, sep=' ', names=['u','v','weight'])\n",
    "dfg"
   ]
  },
  {
   "cell_type": "code",
   "execution_count": 7,
   "id": "indirect-africa",
   "metadata": {},
   "outputs": [],
   "source": [
    "C = G.copy()\n",
    "nodeList = list(C.nodes)"
   ]
  },
  {
   "cell_type": "code",
   "execution_count": 8,
   "id": "tight-hands",
   "metadata": {},
   "outputs": [],
   "source": [
    "noedge = []\n",
    "\n",
    "while len(noedge) < 136646:\n",
    "    \n",
    "    u = random.choice(nodeList)\n",
    "    v = random.choice(nodeList)\n",
    "    \n",
    "    if u != v and C.has_edge(u,v) == False:\n",
    "        \n",
    "        C.add_edge(u,v, weight=0)\n",
    "        dfg = dfg.append({'u':u,'v':v,'weight':0},ignore_index=True)\n",
    "        noedge.append((u,v))"
   ]
  },
  {
   "cell_type": "code",
   "execution_count": 9,
   "id": "introductory-driving",
   "metadata": {},
   "outputs": [],
   "source": [
    "dfg.to_csv('dfg.csv')"
   ]
  },
  {
   "cell_type": "code",
   "execution_count": 22,
   "id": "precious-appeal",
   "metadata": {},
   "outputs": [
    {
     "data": {
      "text/plain": [
       "136646"
      ]
     },
     "execution_count": 22,
     "metadata": {},
     "output_type": "execute_result"
    }
   ],
   "source": [
    "len(noedge)"
   ]
  },
  {
   "cell_type": "code",
   "execution_count": 10,
   "id": "exotic-fence",
   "metadata": {},
   "outputs": [],
   "source": [
    "dfg = pd.read_csv('dfg.csv',index_col = 0)"
   ]
  },
  {
   "cell_type": "code",
   "execution_count": 11,
   "id": "durable-logic",
   "metadata": {},
   "outputs": [
    {
     "data": {
      "text/html": [
       "<div>\n",
       "<style scoped>\n",
       "    .dataframe tbody tr th:only-of-type {\n",
       "        vertical-align: middle;\n",
       "    }\n",
       "\n",
       "    .dataframe tbody tr th {\n",
       "        vertical-align: top;\n",
       "    }\n",
       "\n",
       "    .dataframe thead th {\n",
       "        text-align: right;\n",
       "    }\n",
       "</style>\n",
       "<table border=\"1\" class=\"dataframe\">\n",
       "  <thead>\n",
       "    <tr style=\"text-align: right;\">\n",
       "      <th></th>\n",
       "      <th>u</th>\n",
       "      <th>v</th>\n",
       "      <th>weight</th>\n",
       "    </tr>\n",
       "  </thead>\n",
       "  <tbody>\n",
       "    <tr>\n",
       "      <th>0</th>\n",
       "      <td>0</td>\n",
       "      <td>1</td>\n",
       "      <td>1.0</td>\n",
       "    </tr>\n",
       "    <tr>\n",
       "      <th>1</th>\n",
       "      <td>0</td>\n",
       "      <td>2</td>\n",
       "      <td>1.0</td>\n",
       "    </tr>\n",
       "    <tr>\n",
       "      <th>2</th>\n",
       "      <td>0</td>\n",
       "      <td>3</td>\n",
       "      <td>1.0</td>\n",
       "    </tr>\n",
       "    <tr>\n",
       "      <th>3</th>\n",
       "      <td>0</td>\n",
       "      <td>4</td>\n",
       "      <td>1.0</td>\n",
       "    </tr>\n",
       "    <tr>\n",
       "      <th>4</th>\n",
       "      <td>0</td>\n",
       "      <td>5</td>\n",
       "      <td>1.0</td>\n",
       "    </tr>\n",
       "    <tr>\n",
       "      <th>...</th>\n",
       "      <td>...</td>\n",
       "      <td>...</td>\n",
       "      <td>...</td>\n",
       "    </tr>\n",
       "    <tr>\n",
       "      <th>273287</th>\n",
       "      <td>14500</td>\n",
       "      <td>506</td>\n",
       "      <td>0.0</td>\n",
       "    </tr>\n",
       "    <tr>\n",
       "      <th>273288</th>\n",
       "      <td>1265</td>\n",
       "      <td>9155</td>\n",
       "      <td>0.0</td>\n",
       "    </tr>\n",
       "    <tr>\n",
       "      <th>273289</th>\n",
       "      <td>2710</td>\n",
       "      <td>1182</td>\n",
       "      <td>0.0</td>\n",
       "    </tr>\n",
       "    <tr>\n",
       "      <th>273290</th>\n",
       "      <td>14722</td>\n",
       "      <td>2661</td>\n",
       "      <td>0.0</td>\n",
       "    </tr>\n",
       "    <tr>\n",
       "      <th>273291</th>\n",
       "      <td>5328</td>\n",
       "      <td>7892</td>\n",
       "      <td>0.0</td>\n",
       "    </tr>\n",
       "  </tbody>\n",
       "</table>\n",
       "<p>273292 rows × 3 columns</p>\n",
       "</div>"
      ],
      "text/plain": [
       "            u     v  weight\n",
       "0           0     1     1.0\n",
       "1           0     2     1.0\n",
       "2           0     3     1.0\n",
       "3           0     4     1.0\n",
       "4           0     5     1.0\n",
       "...       ...   ...     ...\n",
       "273287  14500   506     0.0\n",
       "273288   1265  9155     0.0\n",
       "273289   2710  1182     0.0\n",
       "273290  14722  2661     0.0\n",
       "273291   5328  7892     0.0\n",
       "\n",
       "[273292 rows x 3 columns]"
      ]
     },
     "execution_count": 11,
     "metadata": {},
     "output_type": "execute_result"
    }
   ],
   "source": [
    "dfg"
   ]
  },
  {
   "cell_type": "code",
   "execution_count": null,
   "id": "failing-kennedy",
   "metadata": {},
   "outputs": [],
   "source": []
  },
  {
   "cell_type": "code",
   "execution_count": 12,
   "id": "damaged-proposition",
   "metadata": {},
   "outputs": [
    {
     "data": {
      "text/plain": [
       "index                  0\n",
       "position               0\n",
       "name                   0\n",
       "city                   2\n",
       "menu                   0\n",
       "link                   0\n",
       "score                518\n",
       "N_reviews              0\n",
       "price               2892\n",
       "Name                   0\n",
       "Province               0\n",
       "City                   0\n",
       "claimed                0\n",
       "covidMeasure           0\n",
       "travellersChoice       0\n",
       "latitude               0\n",
       "longitude              0\n",
       "cuisines            1337\n",
       "meals               6281\n",
       "specialDiets        8389\n",
       "positionlink           1\n",
       "province               0\n",
       "Link                1752\n",
       "provinceOK             0\n",
       "louvain                0\n",
       "kmeans                 0\n",
       "async_fluid_7          0\n",
       "multicore              0\n",
       "demon               5730\n",
       "dtype: int64"
      ]
     },
     "execution_count": 12,
     "metadata": {},
     "output_type": "execute_result"
    }
   ],
   "source": [
    "df.isnull().sum()"
   ]
  },
  {
   "cell_type": "code",
   "execution_count": 13,
   "id": "centered-puppy",
   "metadata": {},
   "outputs": [],
   "source": [
    "df.loc[df.city.isna(),'city'] = df.loc[df.city.isna(),'province']"
   ]
  },
  {
   "cell_type": "code",
   "execution_count": 14,
   "id": "czech-trinidad",
   "metadata": {},
   "outputs": [],
   "source": [
    "df.loc[df.specialDiets.isna(),'specialDiets'] = 0\n",
    "df.loc[df.cuisines.isna(),'cuisines'] = 0"
   ]
  },
  {
   "cell_type": "code",
   "execution_count": 15,
   "id": "violent-average",
   "metadata": {},
   "outputs": [],
   "source": [
    "df.loc[df.score.isna(),'score'] = 0\n",
    "df.loc[df.price.isna(),'price'] = 0"
   ]
  },
  {
   "cell_type": "code",
   "execution_count": 16,
   "id": "vanilla-criminal",
   "metadata": {},
   "outputs": [
    {
     "data": {
      "text/plain": [
       "index                  0\n",
       "position               0\n",
       "name                   0\n",
       "city                   0\n",
       "menu                   0\n",
       "link                   0\n",
       "score                  0\n",
       "N_reviews              0\n",
       "price                  0\n",
       "Name                   0\n",
       "Province               0\n",
       "City                   0\n",
       "claimed                0\n",
       "covidMeasure           0\n",
       "travellersChoice       0\n",
       "latitude               0\n",
       "longitude              0\n",
       "cuisines               0\n",
       "meals               6281\n",
       "specialDiets           0\n",
       "positionlink           1\n",
       "province               0\n",
       "Link                1752\n",
       "provinceOK             0\n",
       "louvain                0\n",
       "kmeans                 0\n",
       "async_fluid_7          0\n",
       "multicore              0\n",
       "demon               5730\n",
       "dtype: int64"
      ]
     },
     "execution_count": 16,
     "metadata": {},
     "output_type": "execute_result"
    }
   ],
   "source": [
    "df.isnull().sum()"
   ]
  },
  {
   "cell_type": "code",
   "execution_count": 17,
   "id": "immediate-sociology",
   "metadata": {},
   "outputs": [],
   "source": [
    "for i in dfg.index:\n",
    "    \n",
    "    u = dfg.loc[i,'u'] \n",
    "    v = dfg.loc[i,'v']\n",
    "    \n",
    "    if df.loc[u,'province'] == df.loc[v,'province']: dfg.loc[i,'province'] = 1\n",
    "    else: dfg.loc[i,'province'] = 0\n",
    "    if df.loc[u,'city'] == df.loc[v,'city']: dfg.loc[i,'city'] = 1\n",
    "    else: dfg.loc[i,'city'] = 0\n",
    "    \n",
    "    xu = df.loc[u,'longitude']\n",
    "    xv = df.loc[v,'longitude']\n",
    "    yu = df.loc[u,'latitude']\n",
    "    yv = df.loc[v,'latitude'] \n",
    "    dfg.loc[i,'geoDistance'] =  (((xu-xv)**2)  + ((yu-yv)**2))**0.5\n",
    "    \n",
    "    dfg.loc[i,'reviewsDiff'] = abs(df.loc[u,'N_reviews'] - df.loc[v,'N_reviews'])  \n",
    "    dfg.loc[i,'scoreDiff'] = abs(df.loc[u,'score'] - df.loc[v,'score'])\n",
    "    dfg.loc[i,'priceDiff'] = abs(df.loc[u,'price'] - df.loc[v,'price'])\n",
    "    dfg.loc[i,'reviewsSum'] = df.loc[u,'N_reviews'] + df.loc[v,'N_reviews']\n",
    "    dfg.loc[i,'scoreSum'] = df.loc[u,'score'] + df.loc[v,'score']\n",
    "    dfg.loc[i,'priceSum'] = df.loc[u,'price'] + df.loc[v,'price']\n",
    "    \n",
    "    \n",
    "    specialDietsu = df.loc[u,'specialDiets']\n",
    "    specialDietsv = df.loc[v,'specialDiets']\n",
    "    if specialDietsu != 0 and specialDietsv != 0:\n",
    "        dfg.loc[i,'specialDiets'] = len(set(specialDietsu.split(', ')).intersection(set(specialDietsv.split(', '))))\n",
    "    else: dfg.loc[i,'specialDiets'] = 0\n",
    "    \n",
    "    cuisinesu = df.loc[u,'cuisines']\n",
    "    cuisinesv = df.loc[v,'cuisines']\n",
    "    if cuisinesu != 0 and cuisinesv != 0:\n",
    "        dfg.loc[i,'cuisines'] = len(set(cuisinesu.split(', ')).intersection(set(cuisinesv.split(', '))))\n",
    "    else: dfg.loc[i,'cuisines'] = 0\n",
    "    \n",
    "    for boolean in ['menu','covidMeasure','travellersChoice','claimed']:\n",
    "        dfg.loc[i,boolean] = df.loc[u,boolean] + df.loc[v,boolean] "
   ]
  },
  {
   "cell_type": "code",
   "execution_count": 18,
   "id": "lesser-possible",
   "metadata": {},
   "outputs": [
    {
     "ename": "AttributeError",
     "evalue": "'set' object has no attribute 'interception'",
     "output_type": "error",
     "traceback": [
      "\u001b[1;31m---------------------------------------------------------------------------\u001b[0m",
      "\u001b[1;31mAttributeError\u001b[0m                            Traceback (most recent call last)",
      "\u001b[1;32m<ipython-input-18-6f9a9244d79f>\u001b[0m in \u001b[0;36m<module>\u001b[1;34m\u001b[0m\n\u001b[0;32m      1\u001b[0m \u001b[0mcuisinesv\u001b[0m \u001b[1;33m=\u001b[0m \u001b[0mdf\u001b[0m\u001b[1;33m.\u001b[0m\u001b[0mloc\u001b[0m\u001b[1;33m[\u001b[0m\u001b[0mv\u001b[0m\u001b[1;33m,\u001b[0m\u001b[1;34m'cuisines'\u001b[0m\u001b[1;33m]\u001b[0m\u001b[1;33m\u001b[0m\u001b[1;33m\u001b[0m\u001b[0m\n\u001b[0;32m      2\u001b[0m \u001b[1;32mif\u001b[0m \u001b[0mcuisinesu\u001b[0m \u001b[1;33m!=\u001b[0m \u001b[1;36m0\u001b[0m \u001b[1;32mand\u001b[0m \u001b[0mcuisinesv\u001b[0m \u001b[1;33m!=\u001b[0m \u001b[1;36m0\u001b[0m\u001b[1;33m:\u001b[0m\u001b[1;33m\u001b[0m\u001b[1;33m\u001b[0m\u001b[0m\n\u001b[1;32m----> 3\u001b[1;33m     \u001b[0mdfg\u001b[0m\u001b[1;33m.\u001b[0m\u001b[0mloc\u001b[0m\u001b[1;33m[\u001b[0m\u001b[0mi\u001b[0m\u001b[1;33m,\u001b[0m\u001b[1;34m'cuisines'\u001b[0m\u001b[1;33m]\u001b[0m \u001b[1;33m=\u001b[0m \u001b[0mlen\u001b[0m\u001b[1;33m(\u001b[0m\u001b[0mset\u001b[0m\u001b[1;33m(\u001b[0m\u001b[0mcuisinesu\u001b[0m\u001b[1;33m.\u001b[0m\u001b[0msplit\u001b[0m\u001b[1;33m(\u001b[0m\u001b[1;34m', '\u001b[0m\u001b[1;33m)\u001b[0m\u001b[1;33m)\u001b[0m\u001b[1;33m.\u001b[0m\u001b[0minterception\u001b[0m\u001b[1;33m(\u001b[0m\u001b[0mset\u001b[0m\u001b[1;33m(\u001b[0m\u001b[0mcuisinesv\u001b[0m\u001b[1;33m.\u001b[0m\u001b[0msplit\u001b[0m\u001b[1;33m(\u001b[0m\u001b[1;34m', '\u001b[0m\u001b[1;33m)\u001b[0m\u001b[1;33m)\u001b[0m\u001b[1;33m)\u001b[0m\u001b[1;33m)\u001b[0m\u001b[1;33m\u001b[0m\u001b[1;33m\u001b[0m\u001b[0m\n\u001b[0m\u001b[0;32m      4\u001b[0m \u001b[1;32melse\u001b[0m\u001b[1;33m:\u001b[0m \u001b[0mdfg\u001b[0m\u001b[1;33m.\u001b[0m\u001b[0mloc\u001b[0m\u001b[1;33m[\u001b[0m\u001b[0mi\u001b[0m\u001b[1;33m,\u001b[0m\u001b[1;34m'cuisines'\u001b[0m\u001b[1;33m]\u001b[0m \u001b[1;33m=\u001b[0m \u001b[1;36m0\u001b[0m\u001b[1;33m\u001b[0m\u001b[1;33m\u001b[0m\u001b[0m\n",
      "\u001b[1;31mAttributeError\u001b[0m: 'set' object has no attribute 'interception'"
     ]
    }
   ],
   "source": [
    "cuisinesv = df.loc[v,'cuisines']\n",
    "if cuisinesu != 0 and cuisinesv != 0:\n",
    "    dfg.loc[i,'cuisines'] = len(set(cuisinesu.split(', ')).intersection(set(cuisinesv.split(', '))))\n",
    "else: \n",
    "    dfg.loc[i,'cuisines'] = 0"
   ]
  },
  {
   "cell_type": "code",
   "execution_count": 19,
   "id": "heated-arkansas",
   "metadata": {},
   "outputs": [
    {
     "data": {
      "text/plain": [
       "Index(['index', 'position', 'name', 'city', 'menu', 'link', 'score',\n",
       "       'N_reviews', 'price', 'Name', 'Province', 'City', 'claimed',\n",
       "       'covidMeasure', 'travellersChoice', 'latitude', 'longitude', 'cuisines',\n",
       "       'meals', 'specialDiets', 'positionlink', 'province', 'Link',\n",
       "       'provinceOK', 'louvain', 'kmeans', 'async_fluid_7', 'multicore',\n",
       "       'demon'],\n",
       "      dtype='object')"
      ]
     },
     "execution_count": 19,
     "metadata": {},
     "output_type": "execute_result"
    }
   ],
   "source": [
    "df.columns"
   ]
  },
  {
   "cell_type": "code",
   "execution_count": 20,
   "id": "worst-class",
   "metadata": {},
   "outputs": [
    {
     "data": {
      "text/html": [
       "<div>\n",
       "<style scoped>\n",
       "    .dataframe tbody tr th:only-of-type {\n",
       "        vertical-align: middle;\n",
       "    }\n",
       "\n",
       "    .dataframe tbody tr th {\n",
       "        vertical-align: top;\n",
       "    }\n",
       "\n",
       "    .dataframe thead th {\n",
       "        text-align: right;\n",
       "    }\n",
       "</style>\n",
       "<table border=\"1\" class=\"dataframe\">\n",
       "  <thead>\n",
       "    <tr style=\"text-align: right;\">\n",
       "      <th></th>\n",
       "      <th>index</th>\n",
       "      <th>position</th>\n",
       "      <th>name</th>\n",
       "      <th>city</th>\n",
       "      <th>menu</th>\n",
       "      <th>link</th>\n",
       "      <th>score</th>\n",
       "      <th>N_reviews</th>\n",
       "      <th>price</th>\n",
       "      <th>Name</th>\n",
       "      <th>...</th>\n",
       "      <th>specialDiets</th>\n",
       "      <th>positionlink</th>\n",
       "      <th>province</th>\n",
       "      <th>Link</th>\n",
       "      <th>provinceOK</th>\n",
       "      <th>louvain</th>\n",
       "      <th>kmeans</th>\n",
       "      <th>async_fluid_7</th>\n",
       "      <th>multicore</th>\n",
       "      <th>demon</th>\n",
       "    </tr>\n",
       "  </thead>\n",
       "  <tbody>\n",
       "  </tbody>\n",
       "</table>\n",
       "<p>0 rows × 29 columns</p>\n",
       "</div>"
      ],
      "text/plain": [
       "Empty DataFrame\n",
       "Columns: [index, position, name, city, menu, link, score, N_reviews, price, Name, Province, City, claimed, covidMeasure, travellersChoice, latitude, longitude, cuisines, meals, specialDiets, positionlink, province, Link, provinceOK, louvain, kmeans, async_fluid_7, multicore, demon]\n",
       "Index: []\n",
       "\n",
       "[0 rows x 29 columns]"
      ]
     },
     "execution_count": 20,
     "metadata": {},
     "output_type": "execute_result"
    }
   ],
   "source": [
    "df[df.specialDiets.isna()]"
   ]
  },
  {
   "cell_type": "code",
   "execution_count": null,
   "id": "mounted-double",
   "metadata": {},
   "outputs": [],
   "source": [
    "dfg.to_csv('linkPrediction.csv')"
   ]
  },
  {
   "cell_type": "markdown",
   "id": "passing-render",
   "metadata": {},
   "source": [
    "### Train Test split"
   ]
  },
  {
   "cell_type": "code",
   "execution_count": 22,
   "id": "numerical-florence",
   "metadata": {},
   "outputs": [],
   "source": [
    "dfg = pd.read_csv('linkPrediction.csv',index_col=0)"
   ]
  },
  {
   "cell_type": "code",
   "execution_count": 23,
   "id": "differential-shareware",
   "metadata": {},
   "outputs": [],
   "source": [
    "from sklearn.model_selection import train_test_split, cross_val_score \n",
    "\n",
    "from sklearn.metrics import accuracy_score, f1_score, classification_report\n",
    "from sklearn.metrics import roc_curve, auc, roc_auc_score"
   ]
  },
  {
   "cell_type": "code",
   "execution_count": 24,
   "id": "female-radical",
   "metadata": {},
   "outputs": [
    {
     "data": {
      "text/plain": [
       "1    136646\n",
       "0    136646\n",
       "Name: connected, dtype: int64"
      ]
     },
     "execution_count": 24,
     "metadata": {},
     "output_type": "execute_result"
    }
   ],
   "source": [
    "dfg['connected'] = 1\n",
    "dfg.loc[dfg['weight'] ==0,'connected'] = 0\n",
    "dfg.connected.value_counts()"
   ]
  },
  {
   "cell_type": "code",
   "execution_count": 25,
   "id": "oriented-porter",
   "metadata": {},
   "outputs": [
    {
     "data": {
      "text/plain": [
       "Index(['u', 'v', 'weight', 'province', 'city', 'geoDistance', 'reviewsDiff',\n",
       "       'scoreDiff', 'priceDiff', 'reviewsSum', 'scoreSum', 'priceSum',\n",
       "       'specialDiets', 'cuisines', 'menu', 'covidMeasure', 'travellersChoice',\n",
       "       'claimed', 'connected'],\n",
       "      dtype='object')"
      ]
     },
     "execution_count": 25,
     "metadata": {},
     "output_type": "execute_result"
    }
   ],
   "source": [
    "dfg.columns"
   ]
  },
  {
   "cell_type": "code",
   "execution_count": 26,
   "id": "oriented-causing",
   "metadata": {},
   "outputs": [],
   "source": [
    "attributes = ['province', 'city', 'geoDistance', 'reviewsDiff',\n",
    "       'scoreDiff', 'priceDiff', 'reviewsSum', 'scoreSum', 'priceSum',\n",
    "       'specialDiets', 'cuisines', 'menu', 'covidMeasure', 'travellersChoice',\n",
    "       'claimed'] \n",
    "target =  'connected'\n",
    "\n",
    "X = dfg[attributes].values\n",
    "y = dfg[target].values\n",
    "X_train, X_test, y_train, y_test = train_test_split(X, y, test_size=0.3, random_state=100, stratify=y)"
   ]
  },
  {
   "cell_type": "markdown",
   "id": "diverse-shopping",
   "metadata": {},
   "source": [
    "### Random Forest"
   ]
  },
  {
   "cell_type": "code",
   "execution_count": 27,
   "id": "loaded-residence",
   "metadata": {},
   "outputs": [],
   "source": [
    "from sklearn.ensemble import RandomForestClassifier"
   ]
  },
  {
   "cell_type": "code",
   "execution_count": 28,
   "id": "distinct-karaoke",
   "metadata": {},
   "outputs": [
    {
     "name": "stdout",
     "output_type": "stream",
     "text": [
      "Accuracy 0.762745767673318\n",
      "F1-score [0.77761518 0.74574543]\n",
      "              precision    recall  f1-score   support\n",
      "\n",
      "           0       0.73      0.83      0.78     40994\n",
      "           1       0.80      0.70      0.75     40994\n",
      "\n",
      "    accuracy                           0.76     81988\n",
      "   macro avg       0.77      0.76      0.76     81988\n",
      "weighted avg       0.77      0.76      0.76     81988\n",
      "\n"
     ]
    }
   ],
   "source": [
    "clf = RandomForestClassifier(n_estimators=100, criterion='gini', max_depth=None, min_samples_split=10, \n",
    "                             min_samples_leaf=3, min_weight_fraction_leaf=0.0, max_features='auto', random_state=0)\n",
    "clf.fit(X_train, y_train)\n",
    "\n",
    "y_pred = clf.predict(X_test)\n",
    "\n",
    "print('Accuracy %s' % accuracy_score(y_test, y_pred))\n",
    "print('F1-score %s' % f1_score(y_test, y_pred, average=None))\n",
    "print(classification_report(y_test, y_pred))"
   ]
  },
  {
   "cell_type": "code",
   "execution_count": null,
   "id": "casual-volunteer",
   "metadata": {},
   "outputs": [],
   "source": []
  },
  {
   "cell_type": "code",
   "execution_count": null,
   "id": "leading-condition",
   "metadata": {},
   "outputs": [],
   "source": []
  },
  {
   "cell_type": "markdown",
   "id": "prescription-breed",
   "metadata": {},
   "source": [
    "### AdaBoost"
   ]
  },
  {
   "cell_type": "code",
   "execution_count": 29,
   "id": "stunning-requirement",
   "metadata": {},
   "outputs": [],
   "source": [
    "from sklearn.ensemble import AdaBoostClassifier"
   ]
  },
  {
   "cell_type": "code",
   "execution_count": 30,
   "id": "intermediate-artist",
   "metadata": {},
   "outputs": [
    {
     "name": "stdout",
     "output_type": "stream",
     "text": [
      "Accuracy 0.7595379811679758\n",
      "F1-score [0.77206775 0.74555052]\n",
      "              precision    recall  f1-score   support\n",
      "\n",
      "           0       0.73      0.81      0.77     40994\n",
      "           1       0.79      0.70      0.75     40994\n",
      "\n",
      "    accuracy                           0.76     81988\n",
      "   macro avg       0.76      0.76      0.76     81988\n",
      "weighted avg       0.76      0.76      0.76     81988\n",
      "\n"
     ]
    }
   ],
   "source": [
    "clf = AdaBoostClassifier(base_estimator=RandomForestClassifier(n_estimators=100), n_estimators=400, random_state=0)\n",
    "clf.fit(X_train, y_train)\n",
    "\n",
    "y_pred = clf.predict(X_test)\n",
    "\n",
    "print('Accuracy %s' % accuracy_score(y_test, y_pred))\n",
    "print('F1-score %s' % f1_score(y_test, y_pred, average=None))\n",
    "print(classification_report(y_test, y_pred))"
   ]
  },
  {
   "cell_type": "markdown",
   "id": "steady-publicity",
   "metadata": {},
   "source": [
    "### Bagging"
   ]
  },
  {
   "cell_type": "code",
   "execution_count": 31,
   "id": "aquatic-blogger",
   "metadata": {},
   "outputs": [],
   "source": [
    "from sklearn.svm import SVC\n",
    "from sklearn.ensemble import BaggingClassifier"
   ]
  },
  {
   "cell_type": "code",
   "execution_count": 32,
   "id": "vanilla-tsunami",
   "metadata": {},
   "outputs": [
    {
     "name": "stdout",
     "output_type": "stream",
     "text": [
      "Accuracy 0.7540981607064449\n",
      "F1-score [0.76468048 0.74251925]\n",
      "              precision    recall  f1-score   support\n",
      "\n",
      "           0       0.73      0.80      0.76     40994\n",
      "           1       0.78      0.71      0.74     40994\n",
      "\n",
      "    accuracy                           0.75     81988\n",
      "   macro avg       0.76      0.75      0.75     81988\n",
      "weighted avg       0.76      0.75      0.75     81988\n",
      "\n"
     ]
    }
   ],
   "source": [
    "clf = BaggingClassifier(base_estimator=None, n_estimators=100, random_state=0)\n",
    "clf.fit(X_train, y_train)\n",
    "\n",
    "y_pred = clf.predict(X_test)\n",
    "\n",
    "print('Accuracy %s' % accuracy_score(y_test, y_pred))\n",
    "print('F1-score %s' % f1_score(y_test, y_pred, average=None))\n",
    "print(classification_report(y_test, y_pred))"
   ]
  },
  {
   "cell_type": "code",
   "execution_count": 39,
   "id": "descending-fossil",
   "metadata": {},
   "outputs": [],
   "source": [
    "cn = linkpred.predictors.CommonNeighbours(G, excluded=G.edges()) # We aim to predict only new links, thus we exclude existing ones\n",
    "cn_results = cn.predict()\n",
    "\n",
    "#top = cn_results.top(5)\n",
    "#for edge, score in top.items():\n",
    "#    print(edge, score)"
   ]
  },
  {
   "cell_type": "code",
   "execution_count": 37,
   "id": "automotive-bunny",
   "metadata": {},
   "outputs": [
    {
     "data": {
      "text/plain": [
       "5"
      ]
     },
     "execution_count": 37,
     "metadata": {},
     "output_type": "execute_result"
    }
   ],
   "source": [
    "import linkpred\n",
    "common_nbor = len(set([n for n in G.neighbors(1)]).intersection(set([n for n in G.neighbors(2)])))\n",
    "common_nbor"
   ]
  },
  {
   "cell_type": "code",
   "execution_count": 40,
   "id": "adolescent-graph",
   "metadata": {},
   "outputs": [],
   "source": [
    "# Take a random sample of edges\n",
    "edge_subset = random.sample(G.edges(), int(0.25 * G.number_of_edges()))\n",
    "# Remove some edges\n",
    "G_train = G.copy()\n",
    "G_train.remove_edges_from(edge_subset)"
   ]
  },
  {
   "cell_type": "code",
   "execution_count": 43,
   "id": "returning-routine",
   "metadata": {},
   "outputs": [
    {
     "name": "stdout",
     "output_type": "stream",
     "text": [
      "Number of nodes : 15003\n",
      "Number of edges : 136646\n",
      "Number of connected components : 1\n"
     ]
    }
   ],
   "source": [
    "n = G.number_of_nodes()\n",
    "m = G.number_of_edges()\n",
    "print(\"Number of nodes :\", str(n))\n",
    "print(\"Number of edges :\", str(m))\n",
    "print(\"Number of connected components :\", str(nx.number_connected_components(G)))"
   ]
  },
  {
   "cell_type": "code",
   "execution_count": 44,
   "id": "pleased-virus",
   "metadata": {},
   "outputs": [
    {
     "name": "stdout",
     "output_type": "stream",
     "text": [
      "Deleted :  34161\n",
      "Remaining :  102485\n"
     ]
    }
   ],
   "source": [
    "edge_subset_size = len(list(edge_subset))\n",
    "print(\"Deleted : \", str(edge_subset_size))\n",
    "print(\"Remaining : \", str((m - edge_subset_size)))"
   ]
  },
  {
   "cell_type": "code",
   "execution_count": null,
   "id": "minus-prefix",
   "metadata": {},
   "outputs": [],
   "source": [
    "# Make prediction using Jaccard Coefficient\n",
    "pred_jaccard = list(nx.jaccard_coefficient(G_train))\n",
    "score_jaccard, label_jaccard = zip(*[(s, (u,v) in edge_subset) for (u,v,s) in pred_jaccard])"
   ]
  },
  {
   "cell_type": "code",
   "execution_count": null,
   "id": "fifteen-welsh",
   "metadata": {},
   "outputs": [],
   "source": [
    "# Compute the ROC AUC Score\n",
    "fpr_jaccard, tpr_jaccard, _ = roc_curve(label_jaccard, pred_jaccard)\n",
    "auc_jaccard = roc_auc_score(label_jaccard, score_jaccard)"
   ]
  },
  {
   "cell_type": "code",
   "execution_count": null,
   "id": "egyptian-effectiveness",
   "metadata": {},
   "outputs": [],
   "source": [
    "# Prediction using Adamic Adar \n",
    "pred_adamic = list(nx.adamic_adar_index(G_train))\n",
    "score_adamic, label_adamic = zip(*[(s, (u,v) in edge_subset) for (u,v,s) in pred_adamic])"
   ]
  },
  {
   "cell_type": "code",
   "execution_count": null,
   "id": "satisfactory-width",
   "metadata": {},
   "outputs": [],
   "source": [
    "# Compute the ROC AUC Score\n",
    "fpr_jaccard, tpr_jaccard, _ = roc_curve(label_jaccard, score_jaccard)\n",
    "auc_jaccard = roc_auc_score(label_jaccard, score_jaccard)"
   ]
  },
  {
   "cell_type": "code",
   "execution_count": null,
   "id": "recovered-communist",
   "metadata": {},
   "outputs": [],
   "source": [
    "# Compute the Preferential Attachment\n",
    "pred_pref = list(nx.preferential_attachment(G_karate_train))\n",
    "score_pref, label_pref = zip(*[(s, (u,v) in edge_subset) for (u,v,s) in pred_pref])"
   ]
  },
  {
   "cell_type": "code",
   "execution_count": null,
   "id": "second-military",
   "metadata": {},
   "outputs": [],
   "source": [
    "fpr_pref, tpr_pref, _ = roc_curve(label_pref, score_pref)\n",
    "auc_pref = roc_auc_score(label_pref, score_pref)"
   ]
  },
  {
   "cell_type": "code",
   "execution_count": null,
   "id": "affected-death",
   "metadata": {},
   "outputs": [],
   "source": [
    "from node2vec import Node2Vec"
   ]
  },
  {
   "cell_type": "code",
   "execution_count": null,
   "id": "offshore-cooper",
   "metadata": {},
   "outputs": [],
   "source": [
    "node2vec = Node2Vec(G, dimensions=64, walk_length=30, num_walks=200, workers=4)"
   ]
  },
  {
   "cell_type": "code",
   "execution_count": null,
   "id": "nominated-belize",
   "metadata": {},
   "outputs": [],
   "source": [
    "model = node2vec.fit(window=10, min_count=1, batch_words=4)"
   ]
  },
  {
   "cell_type": "code",
   "execution_count": null,
   "id": "active-florida",
   "metadata": {},
   "outputs": [],
   "source": [
    "model.wv.get_vector('2')"
   ]
  },
  {
   "cell_type": "code",
   "execution_count": null,
   "id": "detected-israeli",
   "metadata": {},
   "outputs": [],
   "source": [
    "model.wv.most_similar('2')"
   ]
  },
  {
   "cell_type": "code",
   "execution_count": null,
   "id": "commercial-badge",
   "metadata": {},
   "outputs": [],
   "source": [
    "from node2vec.edges import HadamardEmbedder\n",
    "edges_embs = HadamardEmbedder(keyed_vectors=model.wv)"
   ]
  },
  {
   "cell_type": "code",
   "execution_count": null,
   "id": "mighty-kentucky",
   "metadata": {},
   "outputs": [],
   "source": [
    "edges_embs[('1', '2')]"
   ]
  },
  {
   "cell_type": "code",
   "execution_count": null,
   "id": "hollywood-luxury",
   "metadata": {},
   "outputs": [],
   "source": [
    "edges_kv = edges_embs.as_keyed_vectors()\n",
    "edges_kv.most_similar(str(('1', '2')))"
   ]
  },
  {
   "cell_type": "code",
   "execution_count": null,
   "id": "behind-fruit",
   "metadata": {},
   "outputs": [],
   "source": []
  }
 ],
 "metadata": {
  "kernelspec": {
   "display_name": "Python 3",
   "language": "python",
   "name": "python3"
  },
  "language_info": {
   "codemirror_mode": {
    "name": "ipython",
    "version": 3
   },
   "file_extension": ".py",
   "mimetype": "text/x-python",
   "name": "python",
   "nbconvert_exporter": "python",
   "pygments_lexer": "ipython3",
   "version": "3.7.10"
  }
 },
 "nbformat": 4,
 "nbformat_minor": 5
}
