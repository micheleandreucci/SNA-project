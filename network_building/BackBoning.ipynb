{
 "cells": [
  {
   "cell_type": "code",
   "execution_count": 1,
   "id": "yellow-convertible",
   "metadata": {},
   "outputs": [],
   "source": [
    "import pandas as pd \n",
    "import numpy as np \n",
    "import networkx as nx \n",
    "import json \n",
    "import seaborn as sns\n",
    "from matplotlib import pyplot as plt "
   ]
  },
  {
   "cell_type": "code",
   "execution_count": 2,
   "id": "absent-occurrence",
   "metadata": {},
   "outputs": [],
   "source": [
    "import backboning \n",
    "from backboning import backboning as bb"
   ]
  },
  {
   "cell_type": "code",
   "execution_count": 5,
   "id": "bearing-referral",
   "metadata": {},
   "outputs": [],
   "source": [
    "table, nnodes, nnedges = bb.read('../data/tuscany_backboned.csv',column_of_interest='w',sep= ' ', undirected = True)"
   ]
  },
  {
   "cell_type": "code",
   "execution_count": 6,
   "id": "announced-disease",
   "metadata": {},
   "outputs": [
    {
     "name": "stderr",
     "output_type": "stream",
     "text": [
      "Calculating NC score...\n"
     ]
    }
   ],
   "source": [
    "nc_table = bb.noise_corrected(table)"
   ]
  },
  {
   "cell_type": "code",
   "execution_count": 17,
   "id": "enormous-smart",
   "metadata": {},
   "outputs": [
    {
     "data": {
      "text/plain": [
       "46879"
      ]
     },
     "execution_count": 17,
     "metadata": {},
     "output_type": "execute_result"
    }
   ],
   "source": [
    "nc_backbone = bb.thresholding(nc_table, 600)\n",
    "len(nc_backbone)"
   ]
  },
  {
   "cell_type": "code",
   "execution_count": 18,
   "id": "automotive-cambridge",
   "metadata": {},
   "outputs": [
    {
     "data": {
      "text/plain": [
       "14978"
      ]
     },
     "execution_count": 18,
     "metadata": {},
     "output_type": "execute_result"
    }
   ],
   "source": [
    "len(set(nc_backbone.src.append(nc_backbone.trg)))"
   ]
  },
  {
   "cell_type": "code",
   "execution_count": 82,
   "id": "adverse-association",
   "metadata": {},
   "outputs": [],
   "source": [
    "bb.write(nc_backbone,'tuscany_backboned.weighted.edgelist' , \"nc\",\"../data/\")"
   ]
  },
  {
   "cell_type": "code",
   "execution_count": 25,
   "id": "smooth-europe",
   "metadata": {},
   "outputs": [
    {
     "data": {
      "text/html": [
       "<div>\n",
       "<style scoped>\n",
       "    .dataframe tbody tr th:only-of-type {\n",
       "        vertical-align: middle;\n",
       "    }\n",
       "\n",
       "    .dataframe tbody tr th {\n",
       "        vertical-align: top;\n",
       "    }\n",
       "\n",
       "    .dataframe thead th {\n",
       "        text-align: right;\n",
       "    }\n",
       "</style>\n",
       "<table border=\"1\" class=\"dataframe\">\n",
       "  <thead>\n",
       "    <tr style=\"text-align: right;\">\n",
       "      <th></th>\n",
       "      <th>src</th>\n",
       "      <th>trg</th>\n",
       "      <th>nij</th>\n",
       "      <th>score</th>\n",
       "      <th>sdev_cij</th>\n",
       "    </tr>\n",
       "  </thead>\n",
       "  <tbody>\n",
       "    <tr>\n",
       "      <th>src</th>\n",
       "      <td>1.000000</td>\n",
       "      <td>0.160430</td>\n",
       "      <td>-0.002946</td>\n",
       "      <td>0.012753</td>\n",
       "      <td>-0.001771</td>\n",
       "    </tr>\n",
       "    <tr>\n",
       "      <th>trg</th>\n",
       "      <td>0.160430</td>\n",
       "      <td>1.000000</td>\n",
       "      <td>0.006577</td>\n",
       "      <td>0.038881</td>\n",
       "      <td>-0.022777</td>\n",
       "    </tr>\n",
       "    <tr>\n",
       "      <th>nij</th>\n",
       "      <td>-0.002946</td>\n",
       "      <td>0.006577</td>\n",
       "      <td>1.000000</td>\n",
       "      <td>0.075032</td>\n",
       "      <td>-0.149231</td>\n",
       "    </tr>\n",
       "    <tr>\n",
       "      <th>score</th>\n",
       "      <td>0.012753</td>\n",
       "      <td>0.038881</td>\n",
       "      <td>0.075032</td>\n",
       "      <td>1.000000</td>\n",
       "      <td>-0.592139</td>\n",
       "    </tr>\n",
       "    <tr>\n",
       "      <th>sdev_cij</th>\n",
       "      <td>-0.001771</td>\n",
       "      <td>-0.022777</td>\n",
       "      <td>-0.149231</td>\n",
       "      <td>-0.592139</td>\n",
       "      <td>1.000000</td>\n",
       "    </tr>\n",
       "  </tbody>\n",
       "</table>\n",
       "</div>"
      ],
      "text/plain": [
       "               src       trg       nij     score  sdev_cij\n",
       "src       1.000000  0.160430 -0.002946  0.012753 -0.001771\n",
       "trg       0.160430  1.000000  0.006577  0.038881 -0.022777\n",
       "nij      -0.002946  0.006577  1.000000  0.075032 -0.149231\n",
       "score     0.012753  0.038881  0.075032  1.000000 -0.592139\n",
       "sdev_cij -0.001771 -0.022777 -0.149231 -0.592139  1.000000"
      ]
     },
     "execution_count": 25,
     "metadata": {},
     "output_type": "execute_result"
    }
   ],
   "source": [
    "nc_table.corr()"
   ]
  },
  {
   "cell_type": "code",
   "execution_count": 80,
   "id": "vanilla-drama",
   "metadata": {},
   "outputs": [
    {
     "data": {
      "text/plain": [
       "<matplotlib.collections.PathCollection at 0x1e50f62bd48>"
      ]
     },
     "execution_count": 80,
     "metadata": {},
     "output_type": "execute_result"
    },
    {
     "data": {
      "image/png": "[encoded data removed]",
      "text/plain": [
       "<Figure size 432x288 with 1 Axes>"
      ]
     },
     "metadata": {
      "needs_background": "light"
     },
     "output_type": "display_data"
    }
   ],
   "source": [
    "plt.scatter(table.nij,nc_table.score)"
   ]
  },
  {
   "cell_type": "code",
   "execution_count": 66,
   "id": "exclusive-privacy",
   "metadata": {},
   "outputs": [],
   "source": [
    "nc_backbone.to_csv('../data/tucany_backboned.csv', index=False, sep=' ', columns=['src','trg','nij'])"
   ]
  },
  {
   "cell_type": "code",
   "execution_count": 67,
   "id": "ecological-minute",
   "metadata": {},
   "outputs": [],
   "source": [
    "G = nx.read_weighted_edgelist(f'../data/tuscany_backboned.weighted.edgelist')"
   ]
  },
  {
   "cell_type": "code",
   "execution_count": 76,
   "id": "shaped-brook",
   "metadata": {},
   "outputs": [],
   "source": [
    "\n",
    "weights = [G.edges[edge]['weight'] for edge in G.edges()]\n",
    "maxW = max(weights) \n",
    "for edge in G.edges():\n",
    "    G.edges[edge]['dissimilarity'] =  10000 - G.edges[edge]['weight']"
   ]
  },
  {
   "cell_type": "code",
   "execution_count": 69,
   "id": "valid-chicago",
   "metadata": {},
   "outputs": [
    {
     "name": "stdout",
     "output_type": "stream",
     "text": [
      "average componets size:  2.176470588235294\n",
      "35\n",
      "[15003, 3, 3, 3, 3, 3, 3, 2, 2, 2, 2, 2, 2, 2, 2, 2, 2, 2, 2, 2] etc...\n"
     ]
    }
   ],
   "source": [
    "components =  [c for c in sorted(nx.connected_components(G), key=len, reverse=True)]\n",
    "avg_size = np.average([len(c) for c in components[1:]])\n",
    "print('average componets size: ', avg_size)\n",
    "print(len(components))\n",
    "print([len(c) for c in components[:20]],'etc...')\n",
    "\n",
    "C = G.subgraph(components[0])"
   ]
  },
  {
   "cell_type": "code",
   "execution_count": 70,
   "id": "driven-haven",
   "metadata": {},
   "outputs": [
    {
     "data": {
      "text/html": [
       "<div>\n",
       "<style scoped>\n",
       "    .dataframe tbody tr th:only-of-type {\n",
       "        vertical-align: middle;\n",
       "    }\n",
       "\n",
       "    .dataframe tbody tr th {\n",
       "        vertical-align: top;\n",
       "    }\n",
       "\n",
       "    .dataframe thead th {\n",
       "        text-align: right;\n",
       "    }\n",
       "</style>\n",
       "<table border=\"1\" class=\"dataframe\">\n",
       "  <thead>\n",
       "    <tr style=\"text-align: right;\">\n",
       "      <th></th>\n",
       "      <th>position</th>\n",
       "      <th>name</th>\n",
       "      <th>city</th>\n",
       "      <th>menu</th>\n",
       "      <th>link</th>\n",
       "      <th>score</th>\n",
       "      <th>N_reviews</th>\n",
       "      <th>price</th>\n",
       "      <th>Name</th>\n",
       "      <th>Province</th>\n",
       "      <th>...</th>\n",
       "      <th>travellersChoice</th>\n",
       "      <th>latitude</th>\n",
       "      <th>longitude</th>\n",
       "      <th>cuisines</th>\n",
       "      <th>meals</th>\n",
       "      <th>specialDiets</th>\n",
       "      <th>positionlink</th>\n",
       "      <th>province</th>\n",
       "      <th>Link</th>\n",
       "      <th>provinceOK</th>\n",
       "    </tr>\n",
       "  </thead>\n",
       "  <tbody>\n",
       "    <tr>\n",
       "      <th>0</th>\n",
       "      <td>2018</td>\n",
       "      <td>Osteria al Borgo</td>\n",
       "      <td>Lucca</td>\n",
       "      <td>False</td>\n",
       "      <td>/Restaurant_Review-g187898-d23137800-Reviews-O...</td>\n",
       "      <td>5.0</td>\n",
       "      <td>6</td>\n",
       "      <td>NaN</td>\n",
       "      <td>Osteria al Borgo</td>\n",
       "      <td>lucca</td>\n",
       "      <td>...</td>\n",
       "      <td>False</td>\n",
       "      <td>43.851350</td>\n",
       "      <td>10.506207</td>\n",
       "      <td>Pizza, Tuscan, Central-Italian</td>\n",
       "      <td>NaN</td>\n",
       "      <td>Vegetarian Friendly, Vegan Options, Gluten Fre...</td>\n",
       "      <td>j39_https://maps.google.com/maps?saddr=&amp;daddr=...</td>\n",
       "      <td>pisa</td>\n",
       "      <td>/Restaurant_Review-g187898-d23137800-Reviews-O...</td>\n",
       "      <td>0</td>\n",
       "    </tr>\n",
       "    <tr>\n",
       "      <th>1</th>\n",
       "      <td>551</td>\n",
       "      <td>Acino Bianco</td>\n",
       "      <td>Marina di Massa</td>\n",
       "      <td>False</td>\n",
       "      <td>/Restaurant_Review-g194814-d12843022-Reviews-A...</td>\n",
       "      <td>4.5</td>\n",
       "      <td>92</td>\n",
       "      <td>2.5</td>\n",
       "      <td>Acino Bianco</td>\n",
       "      <td>massacarrara</td>\n",
       "      <td>...</td>\n",
       "      <td>True</td>\n",
       "      <td>44.004616</td>\n",
       "      <td>10.115488</td>\n",
       "      <td>Italian</td>\n",
       "      <td>Dinner</td>\n",
       "      <td>Vegetarian Friendly, Gluten Free Options</td>\n",
       "      <td>yEU_https://maps.google.com/maps?saddr=&amp;daddr=...</td>\n",
       "      <td>lucca</td>\n",
       "      <td>/Restaurant_Review-g194814-d12843022-Reviews-A...</td>\n",
       "      <td>0</td>\n",
       "    </tr>\n",
       "    <tr>\n",
       "      <th>2</th>\n",
       "      <td>308</td>\n",
       "      <td>El Artista Ristorante Argentino</td>\n",
       "      <td>Massa</td>\n",
       "      <td>False</td>\n",
       "      <td>/Restaurant_Review-g660766-d17543924-Reviews-E...</td>\n",
       "      <td>4.5</td>\n",
       "      <td>78</td>\n",
       "      <td>2.5</td>\n",
       "      <td>El Artista Ristorante Argentino</td>\n",
       "      <td>massacarrara</td>\n",
       "      <td>...</td>\n",
       "      <td>False</td>\n",
       "      <td>44.041000</td>\n",
       "      <td>10.124396</td>\n",
       "      <td>Barbecue, Argentinean, Steakhouse</td>\n",
       "      <td>Dinner, Lunch</td>\n",
       "      <td>NaN</td>\n",
       "      <td>U0P_https://maps.google.com/maps?saddr=&amp;daddr=...</td>\n",
       "      <td>lucca</td>\n",
       "      <td>/Restaurant_Review-g660766-d17543924-Reviews-E...</td>\n",
       "      <td>0</td>\n",
       "    </tr>\n",
       "    <tr>\n",
       "      <th>3</th>\n",
       "      <td>1285</td>\n",
       "      <td>La Locanda di Bivigliano</td>\n",
       "      <td>Bivigliano</td>\n",
       "      <td>False</td>\n",
       "      <td>/Restaurant_Review-g1957776-d13948598-Reviews-...</td>\n",
       "      <td>NaN</td>\n",
       "      <td>28</td>\n",
       "      <td>NaN</td>\n",
       "      <td>La Locanda di Bivigliano</td>\n",
       "      <td>florence</td>\n",
       "      <td>...</td>\n",
       "      <td>False</td>\n",
       "      <td>43.896214</td>\n",
       "      <td>11.321173</td>\n",
       "      <td>Italian, Mediterranean, Barbecue, Tuscan, Cent...</td>\n",
       "      <td>NaN</td>\n",
       "      <td>Vegetarian Friendly</td>\n",
       "      <td>rg1_https://maps.google.com/maps?saddr=&amp;daddr=...</td>\n",
       "      <td>prato</td>\n",
       "      <td>/Restaurant_Review-g1957776-d13948598-Reviews-...</td>\n",
       "      <td>0</td>\n",
       "    </tr>\n",
       "    <tr>\n",
       "      <th>4</th>\n",
       "      <td>1499</td>\n",
       "      <td>Beach Bar @PuntAla</td>\n",
       "      <td>Punta Ala</td>\n",
       "      <td>False</td>\n",
       "      <td>/Restaurant_Review-g194871-d19315573-Reviews-B...</td>\n",
       "      <td>2.5</td>\n",
       "      <td>2</td>\n",
       "      <td>1.0</td>\n",
       "      <td>Beach Bar @PuntAla</td>\n",
       "      <td>grosseto</td>\n",
       "      <td>...</td>\n",
       "      <td>False</td>\n",
       "      <td>42.841410</td>\n",
       "      <td>10.775602</td>\n",
       "      <td>Italian, Mediterranean</td>\n",
       "      <td>Lunch, Brunch, Drinks</td>\n",
       "      <td>NaN</td>\n",
       "      <td>32Q_https://maps.google.com/maps?saddr=&amp;daddr=...</td>\n",
       "      <td>grosseto</td>\n",
       "      <td>/Restaurant_Review-g194871-d19315573-Reviews-B...</td>\n",
       "      <td>1</td>\n",
       "    </tr>\n",
       "  </tbody>\n",
       "</table>\n",
       "<p>5 rows × 23 columns</p>\n",
       "</div>"
      ],
      "text/plain": [
       "   position                             name             city   menu  \\\n",
       "0      2018                 Osteria al Borgo            Lucca  False   \n",
       "1       551                     Acino Bianco  Marina di Massa  False   \n",
       "2       308  El Artista Ristorante Argentino            Massa  False   \n",
       "3      1285         La Locanda di Bivigliano       Bivigliano  False   \n",
       "4      1499               Beach Bar @PuntAla        Punta Ala  False   \n",
       "\n",
       "                                                link  score  N_reviews  price  \\\n",
       "0  /Restaurant_Review-g187898-d23137800-Reviews-O...    5.0          6    NaN   \n",
       "1  /Restaurant_Review-g194814-d12843022-Reviews-A...    4.5         92    2.5   \n",
       "2  /Restaurant_Review-g660766-d17543924-Reviews-E...    4.5         78    2.5   \n",
       "3  /Restaurant_Review-g1957776-d13948598-Reviews-...    NaN         28    NaN   \n",
       "4  /Restaurant_Review-g194871-d19315573-Reviews-B...    2.5          2    1.0   \n",
       "\n",
       "                              Name      Province  ... travellersChoice  \\\n",
       "0                 Osteria al Borgo         lucca  ...            False   \n",
       "1                     Acino Bianco  massacarrara  ...             True   \n",
       "2  El Artista Ristorante Argentino  massacarrara  ...            False   \n",
       "3         La Locanda di Bivigliano      florence  ...            False   \n",
       "4               Beach Bar @PuntAla      grosseto  ...            False   \n",
       "\n",
       "    latitude  longitude                                           cuisines  \\\n",
       "0  43.851350  10.506207                     Pizza, Tuscan, Central-Italian   \n",
       "1  44.004616  10.115488                                            Italian   \n",
       "2  44.041000  10.124396                  Barbecue, Argentinean, Steakhouse   \n",
       "3  43.896214  11.321173  Italian, Mediterranean, Barbecue, Tuscan, Cent...   \n",
       "4  42.841410  10.775602                             Italian, Mediterranean   \n",
       "\n",
       "                   meals                                       specialDiets  \\\n",
       "0                    NaN  Vegetarian Friendly, Vegan Options, Gluten Fre...   \n",
       "1                 Dinner           Vegetarian Friendly, Gluten Free Options   \n",
       "2          Dinner, Lunch                                                NaN   \n",
       "3                    NaN                                Vegetarian Friendly   \n",
       "4  Lunch, Brunch, Drinks                                                NaN   \n",
       "\n",
       "                                        positionlink  province  \\\n",
       "0  j39_https://maps.google.com/maps?saddr=&daddr=...      pisa   \n",
       "1  yEU_https://maps.google.com/maps?saddr=&daddr=...     lucca   \n",
       "2  U0P_https://maps.google.com/maps?saddr=&daddr=...     lucca   \n",
       "3  rg1_https://maps.google.com/maps?saddr=&daddr=...     prato   \n",
       "4  32Q_https://maps.google.com/maps?saddr=&daddr=...  grosseto   \n",
       "\n",
       "                                                Link provinceOK  \n",
       "0  /Restaurant_Review-g187898-d23137800-Reviews-O...          0  \n",
       "1  /Restaurant_Review-g194814-d12843022-Reviews-A...          0  \n",
       "2  /Restaurant_Review-g660766-d17543924-Reviews-E...          0  \n",
       "3  /Restaurant_Review-g1957776-d13948598-Reviews-...          0  \n",
       "4  /Restaurant_Review-g194871-d19315573-Reviews-B...          1  \n",
       "\n",
       "[5 rows x 23 columns]"
      ]
     },
     "execution_count": 70,
     "metadata": {},
     "output_type": "execute_result"
    }
   ],
   "source": [
    "import pandas as pd\n",
    "df = pd.read_csv(\"../data_collection/data/tuscany.csv\",index_col=0)\n",
    "\n",
    "for node in C.nodes():\n",
    "    C.nodes[node]['name'] = df.loc[int(node),'name']\n",
    "    \n",
    "df.head()"
   ]
  },
  {
   "cell_type": "code",
   "execution_count": 71,
   "id": "advanced-prince",
   "metadata": {},
   "outputs": [],
   "source": [
    "def plot_kcentral(G,dictionary,k=10):\n",
    "    sorted_dictionary =  sorted(dictionary.items(), key=lambda x: x[1],reverse = True)\n",
    "    nodes, values = zip(*sorted_dictionary)\n",
    "    nodes = nodes[:k]\n",
    "    values = values[:k]\n",
    "    names = [G.nodes[node]['name'] for node in nodes]\n",
    "    \n",
    "    plt.figure(figsize=(20,5))\n",
    "    plt.bar(names, values, color=sns.color_palette('ocean',k))\n",
    "    plt.xticks(rotation=25)"
   ]
  },
  {
   "cell_type": "code",
   "execution_count": 72,
   "id": "enormous-rhythm",
   "metadata": {},
   "outputs": [],
   "source": [
    "degree_centrality = nx.degree_centrality(C)"
   ]
  },
  {
   "cell_type": "code",
   "execution_count": 73,
   "id": "available-beijing",
   "metadata": {},
   "outputs": [
    {
     "data": {
      "image/png": "[encoded data removed]",
      "text/plain": [
       "<Figure size 1440x360 with 1 Axes>"
      ]
     },
     "metadata": {
      "needs_background": "light"
     },
     "output_type": "display_data"
    }
   ],
   "source": [
    "plot_kcentral(G,degree_centrality,20)"
   ]
  },
  {
   "cell_type": "code",
   "execution_count": 81,
   "id": "quarterly-italian",
   "metadata": {},
   "outputs": [
    {
     "data": {
      "text/html": [
       "<div>\n",
       "<style scoped>\n",
       "    .dataframe tbody tr th:only-of-type {\n",
       "        vertical-align: middle;\n",
       "    }\n",
       "\n",
       "    .dataframe tbody tr th {\n",
       "        vertical-align: top;\n",
       "    }\n",
       "\n",
       "    .dataframe thead th {\n",
       "        text-align: right;\n",
       "    }\n",
       "</style>\n",
       "<table border=\"1\" class=\"dataframe\">\n",
       "  <thead>\n",
       "    <tr style=\"text-align: right;\">\n",
       "      <th></th>\n",
       "      <th>position</th>\n",
       "      <th>name</th>\n",
       "      <th>city</th>\n",
       "      <th>menu</th>\n",
       "      <th>link</th>\n",
       "      <th>score</th>\n",
       "      <th>N_reviews</th>\n",
       "      <th>price</th>\n",
       "      <th>Name</th>\n",
       "      <th>Province</th>\n",
       "      <th>...</th>\n",
       "      <th>travellersChoice</th>\n",
       "      <th>latitude</th>\n",
       "      <th>longitude</th>\n",
       "      <th>cuisines</th>\n",
       "      <th>meals</th>\n",
       "      <th>specialDiets</th>\n",
       "      <th>positionlink</th>\n",
       "      <th>province</th>\n",
       "      <th>Link</th>\n",
       "      <th>provinceOK</th>\n",
       "    </tr>\n",
       "  </thead>\n",
       "  <tbody>\n",
       "    <tr>\n",
       "      <th>13504</th>\n",
       "      <td>1098</td>\n",
       "      <td>Al parco</td>\n",
       "      <td>Arezzo</td>\n",
       "      <td>True</td>\n",
       "      <td>/Restaurant_Review-g194673-d3165165-Reviews-Al...</td>\n",
       "      <td>3.0</td>\n",
       "      <td>69</td>\n",
       "      <td>1.0</td>\n",
       "      <td>Al parco</td>\n",
       "      <td>arezzo</td>\n",
       "      <td>...</td>\n",
       "      <td>False</td>\n",
       "      <td>43.45841</td>\n",
       "      <td>11.8802</td>\n",
       "      <td>Italian, Pizza</td>\n",
       "      <td>Lunch</td>\n",
       "      <td>NaN</td>\n",
       "      <td>3B8_https://maps.google.com/maps?saddr=&amp;daddr=...</td>\n",
       "      <td>arezzo</td>\n",
       "      <td>/Restaurant_Review-g194673-d3165165-Reviews-Al...</td>\n",
       "      <td>1</td>\n",
       "    </tr>\n",
       "  </tbody>\n",
       "</table>\n",
       "<p>1 rows × 23 columns</p>\n",
       "</div>"
      ],
      "text/plain": [
       "       position      name    city  menu  \\\n",
       "13504      1098  Al parco  Arezzo  True   \n",
       "\n",
       "                                                    link  score  N_reviews  \\\n",
       "13504  /Restaurant_Review-g194673-d3165165-Reviews-Al...    3.0         69   \n",
       "\n",
       "       price      Name Province  ... travellersChoice  latitude  longitude  \\\n",
       "13504    1.0  Al parco   arezzo  ...            False  43.45841    11.8802   \n",
       "\n",
       "             cuisines  meals  specialDiets  \\\n",
       "13504  Italian, Pizza  Lunch           NaN   \n",
       "\n",
       "                                            positionlink province  \\\n",
       "13504  3B8_https://maps.google.com/maps?saddr=&daddr=...   arezzo   \n",
       "\n",
       "                                                    Link provinceOK  \n",
       "13504  /Restaurant_Review-g194673-d3165165-Reviews-Al...          1  \n",
       "\n",
       "[1 rows x 23 columns]"
      ]
     },
     "execution_count": 81,
     "metadata": {},
     "output_type": "execute_result"
    }
   ],
   "source": [
    "df[df.name=='Al parco']"
   ]
  },
  {
   "cell_type": "code",
   "execution_count": 74,
   "id": "chubby-tennis",
   "metadata": {},
   "outputs": [],
   "source": [
    "eigenvector_centrality = nx.eigenvector_centrality(G, weight=None, max_iter=1000)"
   ]
  },
  {
   "cell_type": "code",
   "execution_count": 75,
   "id": "generic-living",
   "metadata": {},
   "outputs": [
    {
     "data": {
      "image/png": "[encoded data removed]",
      "text/plain": [
       "<Figure size 1440x360 with 1 Axes>"
      ]
     },
     "metadata": {
      "needs_background": "light"
     },
     "output_type": "display_data"
    }
   ],
   "source": [
    "plot_kcentral(G,degree_centrality,20)"
   ]
  },
  {
   "cell_type": "code",
   "execution_count": 56,
   "id": "accessory-battle",
   "metadata": {},
   "outputs": [
    {
     "ename": "PowerIterationFailedConvergence",
     "evalue": "(PowerIterationFailedConvergence(...), 'power iteration failed to converge within 200 iterations')",
     "output_type": "error",
     "traceback": [
      "\u001b[1;31m---------------------------------------------------------------------------\u001b[0m",
      "\u001b[1;31mPowerIterationFailedConvergence\u001b[0m           Traceback (most recent call last)",
      "\u001b[1;32m<ipython-input-56-1c8575a80f28>\u001b[0m in \u001b[0;36m<module>\u001b[1;34m\u001b[0m\n\u001b[1;32m----> 1\u001b[1;33m \u001b[0mkatz_centrality\u001b[0m \u001b[1;33m=\u001b[0m \u001b[0mnx\u001b[0m\u001b[1;33m.\u001b[0m\u001b[0mkatz_centrality\u001b[0m\u001b[1;33m(\u001b[0m\u001b[0mG\u001b[0m\u001b[1;33m,\u001b[0m \u001b[0mweight\u001b[0m\u001b[1;33m=\u001b[0m\u001b[1;34m'dissimilarity'\u001b[0m\u001b[1;33m,\u001b[0m \u001b[0mmax_iter\u001b[0m\u001b[1;33m=\u001b[0m\u001b[1;36m200\u001b[0m\u001b[1;33m)\u001b[0m\u001b[1;33m\u001b[0m\u001b[1;33m\u001b[0m\u001b[0m\n\u001b[0m",
      "\u001b[1;32m<decorator-gen-283>\u001b[0m in \u001b[0;36mkatz_centrality\u001b[1;34m(G, alpha, beta, max_iter, tol, nstart, normalized, weight)\u001b[0m\n",
      "\u001b[1;32m~\\Anaconda3\\lib\\site-packages\\networkx\\utils\\decorators.py\u001b[0m in \u001b[0;36m_not_implemented_for\u001b[1;34m(not_implement_for_func, *args, **kwargs)\u001b[0m\n\u001b[0;32m     76\u001b[0m             \u001b[1;32mraise\u001b[0m \u001b[0mnx\u001b[0m\u001b[1;33m.\u001b[0m\u001b[0mNetworkXNotImplemented\u001b[0m\u001b[1;33m(\u001b[0m\u001b[0mmsg\u001b[0m\u001b[1;33m)\u001b[0m\u001b[1;33m\u001b[0m\u001b[1;33m\u001b[0m\u001b[0m\n\u001b[0;32m     77\u001b[0m         \u001b[1;32melse\u001b[0m\u001b[1;33m:\u001b[0m\u001b[1;33m\u001b[0m\u001b[1;33m\u001b[0m\u001b[0m\n\u001b[1;32m---> 78\u001b[1;33m             \u001b[1;32mreturn\u001b[0m \u001b[0mnot_implement_for_func\u001b[0m\u001b[1;33m(\u001b[0m\u001b[1;33m*\u001b[0m\u001b[0margs\u001b[0m\u001b[1;33m,\u001b[0m \u001b[1;33m**\u001b[0m\u001b[0mkwargs\u001b[0m\u001b[1;33m)\u001b[0m\u001b[1;33m\u001b[0m\u001b[1;33m\u001b[0m\u001b[0m\n\u001b[0m\u001b[0;32m     79\u001b[0m \u001b[1;33m\u001b[0m\u001b[0m\n\u001b[0;32m     80\u001b[0m     \u001b[1;32mreturn\u001b[0m \u001b[0m_not_implemented_for\u001b[0m\u001b[1;33m\u001b[0m\u001b[1;33m\u001b[0m\u001b[0m\n",
      "\u001b[1;32m~\\Anaconda3\\lib\\site-packages\\networkx\\algorithms\\centrality\\katz.py\u001b[0m in \u001b[0;36mkatz_centrality\u001b[1;34m(G, alpha, beta, max_iter, tol, nstart, normalized, weight)\u001b[0m\n\u001b[0;32m    190\u001b[0m                 \u001b[0mx\u001b[0m\u001b[1;33m[\u001b[0m\u001b[0mn\u001b[0m\u001b[1;33m]\u001b[0m \u001b[1;33m*=\u001b[0m \u001b[0ms\u001b[0m\u001b[1;33m\u001b[0m\u001b[1;33m\u001b[0m\u001b[0m\n\u001b[0;32m    191\u001b[0m             \u001b[1;32mreturn\u001b[0m \u001b[0mx\u001b[0m\u001b[1;33m\u001b[0m\u001b[1;33m\u001b[0m\u001b[0m\n\u001b[1;32m--> 192\u001b[1;33m     \u001b[1;32mraise\u001b[0m \u001b[0mnx\u001b[0m\u001b[1;33m.\u001b[0m\u001b[0mPowerIterationFailedConvergence\u001b[0m\u001b[1;33m(\u001b[0m\u001b[0mmax_iter\u001b[0m\u001b[1;33m)\u001b[0m\u001b[1;33m\u001b[0m\u001b[1;33m\u001b[0m\u001b[0m\n\u001b[0m\u001b[0;32m    193\u001b[0m \u001b[1;33m\u001b[0m\u001b[0m\n\u001b[0;32m    194\u001b[0m \u001b[1;33m\u001b[0m\u001b[0m\n",
      "\u001b[1;31mPowerIterationFailedConvergence\u001b[0m: (PowerIterationFailedConvergence(...), 'power iteration failed to converge within 200 iterations')"
     ]
    }
   ],
   "source": [
    "katz_centrality = nx.katz_centrality(G, weight='dissimilarity', max_iter=200)"
   ]
  },
  {
   "cell_type": "code",
   "execution_count": null,
   "id": "rolled-encoding",
   "metadata": {},
   "outputs": [],
   "source": [
    "plot_kcentral(G,katz_centrality)"
   ]
  }
 ],
 "metadata": {
  "kernelspec": {
   "display_name": "Python 3",
   "language": "python",
   "name": "python3"
  },
  "language_info": {
   "codemirror_mode": {
    "name": "ipython",
    "version": 3
   },
   "file_extension": ".py",
   "mimetype": "text/x-python",
   "name": "python",
   "nbconvert_exporter": "python",
   "pygments_lexer": "ipython3",
   "version": "3.7.10"
  }
 },
 "nbformat": 4,
 "nbformat_minor": 5
}
