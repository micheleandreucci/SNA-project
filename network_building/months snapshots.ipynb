{
 "cells": [
  {
   "cell_type": "code",
   "execution_count": 1,
   "id": "amber-adjustment",
   "metadata": {},
   "outputs": [],
   "source": [
    "import pandas as pd\n",
    "import numpy as np\n",
    "import json \n",
    "import networkx as nx \n"
   ]
  },
  {
   "cell_type": "code",
   "execution_count": 3,
   "id": "laughing-insert",
   "metadata": {},
   "outputs": [
    {
     "data": {
      "text/plain": [
       "15863"
      ]
     },
     "execution_count": 3,
     "metadata": {},
     "output_type": "execute_result"
    }
   ],
   "source": [
    "with open('../data_collection/data/tuscany_init.json') as jf:\n",
    "    data = json.load(jf)\n",
    "    \n",
    "len(data)"
   ]
  },
  {
   "cell_type": "code",
   "execution_count": 7,
   "id": "informal-bridge",
   "metadata": {},
   "outputs": [],
   "source": [
    "\n",
    "datayears = dict()\n",
    "\n",
    "for restaurant in data.keys():\n",
    "    for review in data[restaurant]:\n",
    "        y = review['date'][:4]\n",
    "        m = review['date'][4:6]\n",
    "        review_ym = str(int(y)*12 +int(m))\n",
    "        \n",
    "        if review_ym not in datayears.keys():\n",
    "            datayears[review_ym] = dict()\n",
    "            \n",
    "        if restaurant not in datayears[review_ym].keys():\n",
    "            datayears[review_ym][restaurant] = list()\n",
    "            \n",
    "        datayears[review_ym][restaurant].append(review)\n",
    "        \n"
   ]
  },
  {
   "cell_type": "code",
   "execution_count": 8,
   "id": "paperback-financing",
   "metadata": {},
   "outputs": [],
   "source": [
    "for ym in datayears.keys():\n",
    "    with open(f\"../data/months/{ym}.json\",'w') as jf:\n",
    "        json.dump(datayears[ym],jf)\n",
    "        "
   ]
  },
  {
   "cell_type": "code",
   "execution_count": 11,
   "id": "finnish-eclipse",
   "metadata": {},
   "outputs": [
    {
     "name": "stdout",
     "output_type": "stream",
     "text": [
      "0\n",
      "1\n",
      "2\n",
      "3\n",
      "4\n",
      "5\n",
      "6\n",
      "7\n",
      "8\n",
      "9\n"
     ]
    }
   ],
   "source": [
    "for i in list(data.keys())[:10]:\n",
    "    print(i)"
   ]
  },
  {
   "cell_type": "code",
   "execution_count": 9,
   "id": "featured-rover",
   "metadata": {},
   "outputs": [
    {
     "name": "stdout",
     "output_type": "stream",
     "text": [
      "0 1000 2000 3000 6000 8000 10000 11000 12000 13000 14000 0 2000 4000 6000 10000 11000 12000 13000 14000 0 2000 4000 5000 9000 11000 13000 14000 0 5000 6000 11000 14000 15000 0 2000 4000 6000 11000 13000 14000 15000 0 4000 6000 11000 14000 0 0 3000 12000 15000 0 1000 4000 11000 12000 13000 0 1000 12000 13000 0 3000 8000 11000 12000 13000 0 3000 12000 13000 0 1000 2000 3000 8000 10000 13000 15000 0 2000 3000 4000 8000 9000 11000 13000 0 1000 3000 4000 8000 0 1000 3000 4000 8000 12000 15000 0 1000 3000 4000 8000 13000 0 1000 2000 3000 4000 8000 11000 13000 0 3000 4000 6000 8000 10000 11000 12000 13000 0 1000 2000 3000 4000 6000 8000 11000 13000 0 1000 3000 4000 11000 13000 15000 0 1000 2000 3000 4000 12000 13000 14000 0 1000 2000 3000 6000 14000 0 2000 3000 4000 0 2000 4000 6000 12000 13000 0 4000 12000 13000 14000 15000 0 2000 4000 6000 11000 12000 13000 14000 0 2000 4000 6000 9000 10000 11000 13000 14000 0 2000 4000 5000 9000 11000 12000 13000 14000 0 2000 4000 5000 6000 10000 11000 12000 13000 15000 0 2000 4000 6000 9000 10000 11000 12000 15000 0 2000 4000 5000 6000 10000 13000 15000 0 2000 4000 11000 13000 0 2000 4000 6000 11000 13000 14000 0 2000 4000 9000 10000 14000 0 4000 6000 10000 11000 13000 14000 15000 0 2000 4000 10000 11000 14000 0 2000 4000 9000 14000 0 2000 4000 6000 9000 11000 13000 14000 0 2000 4000 10000 11000 13000 15000 0 2000 4000 9000 11000 13000 14000 0 2000 4000 9000 13000 14000 15000 0 2000 6000 9000 10000 11000 15000 0 2000 4000 9000 10000 11000 14000 0 2000 4000 11000 13000 14000 15000 0 2000 4000 9000 11000 13000 14000 15000 0 2000 4000 5000 6000 10000 11000 13000 14000 0 2000 4000 11000 14000 0 2000 4000 10000 15000 0 2000 4000 10000 11000 13000 14000 15000 0 2000 6000 9000 10000 11000 13000 0 4000 6000 11000 13000 0 4000 6000 11000 13000 14000 0 4000 6000 10000 11000 15000 0 4000 9000 10000 11000 13000 15000 0 4000 9000 10000 11000 0 4000 11000 13000 14000 0 6000 9000 10000 11000 13000 0 4000 6000 11000 13000 14000 0 4000 6000 11000 13000 15000 0 4000 6000 10000 11000 13000 14000 15000 0 4000 10000 11000 13000 14000 0 4000 10000 11000 13000 14000 15000 0 4000 6000 7000 11000 13000 0 4000 6000 10000 11000 13000 15000 0 4000 6000 11000 13000 0 4000 6000 13000 14000 0 4000 10000 11000 13000 14000 0 4000 6000 13000 14000 0 4000 11000 13000 14000 0 4000 11000 13000 14000 0 4000 6000 10000 11000 13000 14000 0 4000 6000 11000 13000 14000 0 4000 14000 4000 8000 1000 12000 4000 10000 11000 13000 14000 4000 6000 10000 11000 13000 14000 4000 11000 13000 11000 13000 4000 6000 13000 14000 4000 10000 14000 4000 11000 13000 4000 7000 13000 4000 7000 13000 6000 13000 4000 11000 13000 4000 6000 11000 13000 4000 13000 4000 13000 4000 6000 11000 13000 4000 6000 11000 13000 4000 11000 13000 4000 11000 13000 4000 11000 13000 4000 11000 13000 4000 11000 13000 11000 13000 11000 13000 4000 11000 13000 4000 4000 7000 13000 15000 4000 11000 13000 4000 13000 4000 11000 4000 11000 4000 13000 11000 13000 4000 11000 4000 11000 13000 13000 13000 4000 13000 13000 "
     ]
    }
   ],
   "source": [
    "for ym in datayears.keys():\n",
    "    with open(f\"../data/months/{ym}.weighted.edgelist\",'w+') as f:\n",
    "        keys  = list(datayears[ym].keys())\n",
    "        for i in keys:\n",
    "            if int(i) % 1000 == 0: print(i, end= ' ')\n",
    "            if len(datayears[ym][str(i)])==0: continue\n",
    "            else: reviewers_i = set([review['username'] for review in datayears[ym][str(i)] ])\n",
    "\n",
    "\n",
    "            for j in keys[int(i)+1:]:\n",
    "                if len(datayears[ym][str(j)])==0: continue\n",
    "\n",
    "                reviewers_j = set([review['username'] for review in datayears[ym][str(j)] ])\n",
    "                common_reviewers = list(reviewers_i.intersection(reviewers_j))\n",
    "                w = len(common_reviewers)\n",
    "\n",
    "                if w > 0 : f.write(f'{str(i)} {str(j)} {str(w)}\\n')\n",
    "        "
   ]
  },
  {
   "cell_type": "code",
   "execution_count": null,
   "id": "vulnerable-tackle",
   "metadata": {},
   "outputs": [],
   "source": []
  }
 ],
 "metadata": {
  "kernelspec": {
   "display_name": "Python 3",
   "language": "python",
   "name": "python3"
  },
  "language_info": {
   "codemirror_mode": {
    "name": "ipython",
    "version": 3
   },
   "file_extension": ".py",
   "mimetype": "text/x-python",
   "name": "python",
   "nbconvert_exporter": "python",
   "pygments_lexer": "ipython3",
   "version": "3.7.10"
  }
 },
 "nbformat": 4,
 "nbformat_minor": 5
}
