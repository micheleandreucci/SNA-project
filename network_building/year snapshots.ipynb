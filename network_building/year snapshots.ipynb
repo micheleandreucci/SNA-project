{
 "cells": [
  {
   "cell_type": "code",
   "execution_count": null,
   "id": "amber-adjustment",
   "metadata": {},
   "outputs": [],
   "source": [
    "import pandas as pd\n",
    "import numpy as np\n",
    "import json \n",
    "import networkx as nx \n"
   ]
  },
  {
   "cell_type": "code",
   "execution_count": 2,
   "id": "laughing-insert",
   "metadata": {},
   "outputs": [
    {
     "data": {
      "text/plain": [
       "15863"
      ]
     },
     "execution_count": 2,
     "metadata": {},
     "output_type": "execute_result"
    }
   ],
   "source": [
    "with open('../data_collection/data/tuscany_init.json') as jf:\n",
    "    data = json.load(jf)\n",
    "    \n",
    "len(data)"
   ]
  },
  {
   "cell_type": "code",
   "execution_count": null,
   "id": "eastern-cross",
   "metadata": {},
   "outputs": [],
   "source": [
    "keys  = list(data.keys())\n",
    "for i in keys:\n",
    "    if int(i) % 100 == 0: print(i, end= ' ')\n",
    "    if len(data[str(i)])==0: continue\n",
    "    else: reviewers_i = set([review['username'] for review in data[str(i)] ])\n",
    "    \n",
    "        \n",
    "    for j in keys[int(i)+1:]:\n",
    "        if len(data[str(j)])==0: continue\n",
    "        \n",
    "        reviewers_j = set([review['username'] for review in data[str(j)] ])\n",
    "        common_reviewers = list(reviewers_i.intersection(reviewers_j))\n",
    "        w = len(common_reviewers)\n",
    "        \n",
    "        if w > 0 : G.add_edge(i, j, weight=w) "
   ]
  },
  {
   "cell_type": "code",
   "execution_count": 6,
   "id": "shaped-tokyo",
   "metadata": {},
   "outputs": [],
   "source": [
    "years = [y for y in range(2007,2022)]"
   ]
  },
  {
   "cell_type": "code",
   "execution_count": 9,
   "id": "informal-bridge",
   "metadata": {},
   "outputs": [],
   "source": [
    "keys  = list(data.keys())\n",
    "datayears = {str(y):dict() for y in years}\n",
    "\n",
    "for restaurant in data.keys():\n",
    "    for review in data[restaurant]:\n",
    "        review_year = review['date'][:4]\n",
    "        \n",
    "        if restaurant not in datayears[review_year].keys():\n",
    "            datayears[review_year][restaurant] = list()\n",
    "            \n",
    "        datayears[review_year][restaurant].append(review)\n",
    "        \n"
   ]
  },
  {
   "cell_type": "code",
   "execution_count": 10,
   "id": "paperback-financing",
   "metadata": {},
   "outputs": [],
   "source": [
    "for y in years:\n",
    "    with open(f\"../data/years/{str(y)}.json\",'w') as jf:\n",
    "        json.dump(datayears[str(y)],jf)\n",
    "        "
   ]
  },
  {
   "cell_type": "code",
   "execution_count": 11,
   "id": "finnish-eclipse",
   "metadata": {},
   "outputs": [
    {
     "name": "stdout",
     "output_type": "stream",
     "text": [
      "0\n",
      "1\n",
      "2\n",
      "3\n",
      "4\n",
      "5\n",
      "6\n",
      "7\n",
      "8\n",
      "9\n"
     ]
    }
   ],
   "source": [
    "for i in list(data.keys())[:10]:\n",
    "    print(i)"
   ]
  },
  {
   "cell_type": "code",
   "execution_count": 15,
   "id": "featured-rover",
   "metadata": {},
   "outputs": [
    {
     "name": "stdout",
     "output_type": "stream",
     "text": [
      "4000 13000 4000 11000 13000 4000 6000 11000 13000 4000 6000 7000 11000 13000 15000 0 4000 6000 7000 10000 11000 13000 14000 0 4000 6000 7000 9000 10000 11000 13000 14000 15000 0 2000 4000 5000 6000 9000 10000 11000 13000 14000 15000 0 2000 4000 5000 6000 9000 10000 11000 13000 14000 15000 0 2000 4000 5000 6000 9000 10000 11000 12000 13000 14000 15000 0 1000 2000 3000 4000 6000 8000 10000 11000 12000 13000 14000 15000 0 1000 2000 3000 4000 8000 9000 10000 11000 12000 13000 15000 0 4000 11000 "
     ]
    }
   ],
   "source": [
    "for y in years:\n",
    "    with open(f\"../data/years/{str(y)}.weighted.edgelist\",'w+') as f:\n",
    "        keys  = list(datayears[str(y)].keys())\n",
    "        for i in keys:\n",
    "            if int(i) % 1000 == 0: print(i, end= ' ')\n",
    "            if len(datayears[str(y)][str(i)])==0: continue\n",
    "            else: reviewers_i = set([review['username'] for review in datayears[str(y)][str(i)] ])\n",
    "\n",
    "\n",
    "            for j in keys[int(i)+1:]:\n",
    "                if len(datayears[str(y)][str(j)])==0: continue\n",
    "\n",
    "                reviewers_j = set([review['username'] for review in datayears[str(y)][str(j)] ])\n",
    "                common_reviewers = list(reviewers_i.intersection(reviewers_j))\n",
    "                w = len(common_reviewers)\n",
    "\n",
    "                if w > 0 : f.write(f'{str(i)} {str(j)} {str(w)}\\n')\n",
    "        "
   ]
  },
  {
   "cell_type": "code",
   "execution_count": 41,
   "id": "orange-japanese",
   "metadata": {},
   "outputs": [],
   "source": [
    "G = nx.read_weighted_edgelist(\"../data/years/2016.weighted.edgelist\")"
   ]
  },
  {
   "cell_type": "code",
   "execution_count": 43,
   "id": "cooperative-configuration",
   "metadata": {},
   "outputs": [
    {
     "data": {
      "text/plain": [
       "9451"
      ]
     },
     "execution_count": 43,
     "metadata": {},
     "output_type": "execute_result"
    }
   ],
   "source": [
    "len(G.nodes)"
   ]
  },
  {
   "cell_type": "code",
   "execution_count": 33,
   "id": "hollow-modem",
   "metadata": {},
   "outputs": [],
   "source": [
    "weights = [G.edges()[edge]['weight'] for edge in G.edges]"
   ]
  },
  {
   "cell_type": "code",
   "execution_count": 37,
   "id": "applied-parts",
   "metadata": {},
   "outputs": [
    {
     "data": {
      "text/plain": [
       "0.1997958108896463"
      ]
     },
     "execution_count": 37,
     "metadata": {},
     "output_type": "execute_result"
    }
   ],
   "source": [
    "np.average(weights)\n",
    "np.var(weights)\n"
   ]
  },
  {
   "cell_type": "code",
   "execution_count": 38,
   "id": "hindu-prescription",
   "metadata": {},
   "outputs": [],
   "source": [
    "all_reviews = [len(reviews) for reviews in data.values()]"
   ]
  },
  {
   "cell_type": "code",
   "execution_count": 39,
   "id": "certain-caution",
   "metadata": {},
   "outputs": [
    {
     "data": {
      "text/plain": [
       "2530280"
      ]
     },
     "execution_count": 39,
     "metadata": {},
     "output_type": "execute_result"
    }
   ],
   "source": [
    "sum(all_reviews)"
   ]
  },
  {
   "cell_type": "code",
   "execution_count": 40,
   "id": "alone-somerset",
   "metadata": {},
   "outputs": [
    {
     "data": {
      "text/plain": [
       "15863"
      ]
     },
     "execution_count": 40,
     "metadata": {},
     "output_type": "execute_result"
    }
   ],
   "source": [
    "len(data)\n"
   ]
  },
  {
   "cell_type": "markdown",
   "id": "99495fb7",
   "metadata": {},
   "source": [
    "### BackBoning"
   ]
  },
  {
   "cell_type": "code",
   "execution_count": 2,
   "id": "legislative-swaziland",
   "metadata": {},
   "outputs": [],
   "source": [
    "import backboning \n",
    "from backboning import backboning as bb"
   ]
  },
  {
   "cell_type": "code",
   "execution_count": 4,
   "id": "particular-samoa",
   "metadata": {},
   "outputs": [
    {
     "name": "stdout",
     "output_type": "stream",
     "text": [
      "2007  -> edges: 0\n",
      "2008  -> edges: 0\n",
      "2009  -> edges: 7\n",
      "2010  -> edges: 45\n",
      "2011  -> edges: 1846\n",
      "2012  -> edges: 19305\n",
      "2013  -> edges: 56023\n",
      "2014  -> edges: 85569\n",
      "2015  -> edges: 193365\n",
      "2016  -> edges: 322918\n",
      "2017  -> edges: 354174\n",
      "2018  -> edges: 310313\n",
      "2019  -> edges: 289450\n",
      "2020  -> edges: 75629\n",
      "2021  -> edges: 245\n"
     ]
    }
   ],
   "source": [
    "for y in years:\n",
    "    with open(f\"../data/years/{str(y)}.weighted.edgelist\",'r') as f:\n",
    "        print(y,' -> edges:',len(f.readlines()))"
   ]
  },
  {
   "cell_type": "code",
   "execution_count": null,
   "id": "7d93c33c",
   "metadata": {},
   "outputs": [],
   "source": []
  },
  {
   "cell_type": "code",
   "execution_count": 7,
   "id": "8194a688",
   "metadata": {},
   "outputs": [],
   "source": [
    "for y in years:\n",
    "    df = pd.read_csv(f\"../data/years/{str(y)}.weighted.edgelist\",sep= ' ',names=['src','trg','w'])\n",
    "    df.to_csv(f\"../data/years/{str(y)}.csv\", index=False)"
   ]
  },
  {
   "cell_type": "code",
   "execution_count": 10,
   "id": "27c36f33",
   "metadata": {},
   "outputs": [],
   "source": []
  },
  {
   "cell_type": "markdown",
   "id": "exotic-vintage",
   "metadata": {},
   "source": [
    "#### 2015"
   ]
  },
  {
   "cell_type": "code",
   "execution_count": 45,
   "id": "47e9997f",
   "metadata": {},
   "outputs": [
    {
     "name": "stderr",
     "output_type": "stream",
     "text": [
      "Calculating NC score...\n"
     ]
    },
    {
     "name": "stdout",
     "output_type": "stream",
     "text": [
      "90204\n"
     ]
    }
   ],
   "source": [
    "\n",
    "table, nnodes, nnedges = bb.read('../data/years/2015.csv',column_of_interest='w',sep= ',', undirected = True)\n",
    "nc_table = bb.noise_corrected(table)\n",
    "\n",
    "nc_backbone = bb.thresholding(nc_table,30)\n",
    "print(len(nc_backbone))\n",
    "nc_backbone.drop('score',axis=1,inplace=True)\n",
    "nc_backbone.to_csv('../data/years/2015bb.weighted.edgelist',index=False,header=False,sep= ' ')"
   ]
  },
  {
   "cell_type": "markdown",
   "id": "grateful-selection",
   "metadata": {},
   "source": [
    " #### 2016"
   ]
  },
  {
   "cell_type": "code",
   "execution_count": 46,
   "id": "asian-collector",
   "metadata": {},
   "outputs": [
    {
     "name": "stderr",
     "output_type": "stream",
     "text": [
      "Calculating NC score...\n"
     ]
    },
    {
     "name": "stdout",
     "output_type": "stream",
     "text": [
      "92469\n"
     ]
    }
   ],
   "source": [
    "\n",
    "table, nnodes, nnedges = bb.read('../data/years/2016.csv',column_of_interest='w',sep= ',', undirected = True)\n",
    "nc_table = bb.noise_corrected(table)\n",
    "\n",
    "nc_backbone = bb.thresholding(nc_table,55)\n",
    "print(len(nc_backbone))\n",
    "nc_backbone.drop('score',axis=1,inplace=True)\n",
    "nc_backbone.to_csv('../data/years/2016bb.weighted.edgelist',index=False,header=False,sep= ' ')"
   ]
  },
  {
   "cell_type": "markdown",
   "id": "developmental-gathering",
   "metadata": {},
   "source": [
    "#### 2017"
   ]
  },
  {
   "cell_type": "code",
   "execution_count": 47,
   "id": "offshore-longer",
   "metadata": {},
   "outputs": [
    {
     "name": "stderr",
     "output_type": "stream",
     "text": [
      "Calculating NC score...\n"
     ]
    },
    {
     "name": "stdout",
     "output_type": "stream",
     "text": [
      "93468\n"
     ]
    }
   ],
   "source": [
    "\n",
    "table, nnodes, nnedges = bb.read('../data/years/2017.csv',column_of_interest='w',sep= ',', undirected = True)\n",
    "nc_table = bb.noise_corrected(table)\n",
    "\n",
    "nc_backbone = bb.thresholding(nc_table,70)\n",
    "print(len(nc_backbone))\n",
    "nc_backbone.drop('score',axis=1,inplace=True)\n",
    "nc_backbone.to_csv('../data/years/2017bb.weighted.edgelist',index=False,header=False,sep= ' ')"
   ]
  },
  {
   "cell_type": "markdown",
   "id": "pleasant-laptop",
   "metadata": {},
   "source": [
    "#### 2018"
   ]
  },
  {
   "cell_type": "code",
   "execution_count": 48,
   "id": "compact-hepatitis",
   "metadata": {},
   "outputs": [
    {
     "name": "stderr",
     "output_type": "stream",
     "text": [
      "Calculating NC score...\n"
     ]
    },
    {
     "name": "stdout",
     "output_type": "stream",
     "text": [
      "104198\n"
     ]
    }
   ],
   "source": [
    "\n",
    "table, nnodes, nnedges = bb.read('../data/years/2018.csv',column_of_interest='w',sep= ',', undirected = True)\n",
    "nc_table = bb.noise_corrected(table)\n",
    "\n",
    "nc_backbone = bb.thresholding(nc_table,70)\n",
    "print(len(nc_backbone))\n",
    "nc_backbone.drop('score',axis=1,inplace=True)\n",
    "nc_backbone.to_csv('../data/years/2018bb.weighted.edgelist',index=False,header=False,sep= ' ')"
   ]
  },
  {
   "cell_type": "markdown",
   "id": "opened-certification",
   "metadata": {},
   "source": [
    "#### 2019"
   ]
  },
  {
   "cell_type": "code",
   "execution_count": 49,
   "id": "tropical-montreal",
   "metadata": {},
   "outputs": [
    {
     "name": "stderr",
     "output_type": "stream",
     "text": [
      "Calculating NC score...\n"
     ]
    },
    {
     "name": "stdout",
     "output_type": "stream",
     "text": [
      "98616\n"
     ]
    }
   ],
   "source": [
    "\n",
    "table, nnodes, nnedges = bb.read('../data/years/2019.csv',column_of_interest='w',sep= ',', undirected = True)\n",
    "nc_table = bb.noise_corrected(table)\n",
    "\n",
    "nc_backbone = bb.thresholding(nc_table,85)\n",
    "print(len(nc_backbone))\n",
    "nc_backbone.drop('score',axis=1,inplace=True)\n",
    "nc_backbone.to_csv('../data/years/2019bb.weighted.edgelist',index=False,header=False,sep= ' ')"
   ]
  },
  {
   "cell_type": "code",
   "execution_count": null,
   "id": "complimentary-berry",
   "metadata": {},
   "outputs": [],
   "source": []
  },
  {
   "cell_type": "code",
   "execution_count": null,
   "id": "strategic-neighborhood",
   "metadata": {},
   "outputs": [],
   "source": []
  },
  {
   "cell_type": "code",
   "execution_count": 4,
   "id": "former-association",
   "metadata": {},
   "outputs": [],
   "source": [
    "for y in range(2009,2022):\n",
    "    if y not in range(2015,2020):\n",
    "        G = nx.read_weighted_edgelist(f\"../data/years/{str(y)}.weighted.edgelist\")\n",
    "        nx.write_weighted_edgelist(G,f\"../community_discovery/data/years/{str(y)}.weighted.edgelist\")\n",
    "    else:\n",
    "        G = nx.read_weighted_edgelist(f\"../data/years/{str(y)}bb.weighted.edgelist\")\n",
    "        nx.write_weighted_edgelist(G,f\"../community_discovery/data/years/{str(y)}bb.weighted.edgelist\")"
   ]
  },
  {
   "cell_type": "code",
   "execution_count": null,
   "id": "vulnerable-tackle",
   "metadata": {},
   "outputs": [],
   "source": []
  }
 ],
 "metadata": {
  "kernelspec": {
   "display_name": "Python 3",
   "language": "python",
   "name": "python3"
  },
  "language_info": {
   "codemirror_mode": {
    "name": "ipython",
    "version": 3
   },
   "file_extension": ".py",
   "mimetype": "text/x-python",
   "name": "python",
   "nbconvert_exporter": "python",
   "pygments_lexer": "ipython3",
   "version": "3.7.10"
  }
 },
 "nbformat": 4,
 "nbformat_minor": 5
}
