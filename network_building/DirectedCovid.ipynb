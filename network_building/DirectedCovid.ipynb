{
 "cells": [
  {
   "cell_type": "code",
   "execution_count": 1,
   "id": "southwest-tiger",
   "metadata": {},
   "outputs": [],
   "source": [
    "import pandas as pd\n",
    "import numpy as np\n",
    "import json \n",
    "import networkx as nx \n",
    "import linkpred"
   ]
  },
  {
   "cell_type": "code",
   "execution_count": 9,
   "id": "chicken-technical",
   "metadata": {},
   "outputs": [
    {
     "data": {
      "text/plain": [
       "15863"
      ]
     },
     "execution_count": 9,
     "metadata": {},
     "output_type": "execute_result"
    }
   ],
   "source": [
    "with open('../data_collection/data/tuscany_init.json') as jf:\n",
    "    data = json.load(jf)\n",
    "    \n",
    "len(data)"
   ]
  },
  {
   "cell_type": "code",
   "execution_count": 10,
   "id": "independent-prior",
   "metadata": {},
   "outputs": [],
   "source": [
    "tuscany = dict()\n",
    "\n",
    "for restaurant, reviews in data.items():\n",
    "    if len(reviews)>0 : tuscany[restaurant] = dict()\n",
    "    else: continue\n",
    "    for review in reviews : \n",
    "        username = review['username']\n",
    "        date = review['date']\n",
    "        \n",
    "        if username not in tuscany[restaurant] : tuscany[restaurant][username] = [date]\n",
    "        else:                                    tuscany[restaurant][username].append(date)"
   ]
  },
  {
   "cell_type": "code",
   "execution_count": 11,
   "id": "approved-polyester",
   "metadata": {},
   "outputs": [],
   "source": [
    "with open('../data_collection/data/tuscany_alldates.json','w+') as jf:\n",
    "    json.dump(tuscany,jf)"
   ]
  },
  {
   "cell_type": "code",
   "execution_count": 70,
   "id": "buried-directory",
   "metadata": {},
   "outputs": [],
   "source": [
    "with open('../data_collection/data/tuscany_alldates.json') as jf:\n",
    "    tuscany = json.load(jf)"
   ]
  },
  {
   "cell_type": "code",
   "execution_count": 71,
   "id": "experimental-winter",
   "metadata": {},
   "outputs": [
    {
     "data": {
      "text/plain": [
       "15863"
      ]
     },
     "execution_count": 71,
     "metadata": {},
     "output_type": "execute_result"
    }
   ],
   "source": [
    "len(tuscany)"
   ]
  },
  {
   "cell_type": "code",
   "execution_count": 72,
   "id": "coupled-anatomy",
   "metadata": {},
   "outputs": [],
   "source": [
    "tuscanyCovid = dict()\n",
    "for restaurant, reviews in tuscany.items():\n",
    "    tuscanyCovid[restaurant] = dict()\n",
    "    for reviewer,dates in reviews.items() : \n",
    "        tuscanyCovid[restaurant][reviewer] = [int(date) for date in dates if int(date) >= 20200000]"
   ]
  },
  {
   "cell_type": "code",
   "execution_count": 38,
   "id": "particular-purchase",
   "metadata": {},
   "outputs": [],
   "source": [
    "deleteRestaurants = []\n",
    "deleteReviewers = dict()\n",
    "for restaurant, reviews in tuscanyCovid.items():\n",
    "    if len(reviews)==0 : deleteRestaurants.append(restaurant)\n",
    "    else: \n",
    "        \n",
    "        for reviewer,dates in reviews.items() : \n",
    "            \n",
    "            if len(dates)==0: \n",
    "                if restaurant in deleteReviewers: deleteReviewers[restaurant].append(reviewer)\n",
    "                else : deleteReviewers[restaurant] = [reviewer]"
   ]
  },
  {
   "cell_type": "code",
   "execution_count": 39,
   "id": "different-closure",
   "metadata": {},
   "outputs": [],
   "source": [
    "for restaurant in deleteRestaurants: tuscanyCovid.pop(restaurant)\n"
   ]
  },
  {
   "cell_type": "code",
   "execution_count": 36,
   "id": "lightweight-banks",
   "metadata": {},
   "outputs": [],
   "source": [
    "for restaurant in deleteReviewers:\n",
    "    for reviewer in deleteReviewers[restaurant]:\n",
    "         tuscanyCovid[restaurant].pop(reviewer)"
   ]
  },
  {
   "cell_type": "code",
   "execution_count": 38,
   "id": "homeless-health",
   "metadata": {},
   "outputs": [],
   "source": [
    "deleteRestaurants = []\n",
    "deleteReviewers = dict()\n",
    "for restaurant, reviews in tuscanyCovid.items():\n",
    "    if len(reviews)==0 : deleteRestaurants.append(restaurant)\n",
    "    else: \n",
    "        \n",
    "        for reviewer,dates in reviews.items() : \n",
    "            \n",
    "            if len(dates)==0: \n",
    "                if restaurant in deleteReviewers: deleteReviewers[restaurant].append(reviewer)\n",
    "                else : deleteReviewers[restaurant] = [reviewer]"
   ]
  },
  {
   "cell_type": "code",
   "execution_count": 39,
   "id": "based-remains",
   "metadata": {},
   "outputs": [],
   "source": [
    "for restaurant in deleteRestaurants: tuscanyCovid.pop(restaurant)\n"
   ]
  },
  {
   "cell_type": "code",
   "execution_count": 80,
   "id": "everyday-expansion",
   "metadata": {},
   "outputs": [],
   "source": [
    "G = nx.MultiDiGraph()"
   ]
  },
  {
   "cell_type": "code",
   "execution_count": 75,
   "id": "impaired-dutch",
   "metadata": {},
   "outputs": [],
   "source": [
    "tuscany = tuscanyCovid"
   ]
  },
  {
   "cell_type": "code",
   "execution_count": 77,
   "id": "otherwise-mounting",
   "metadata": {},
   "outputs": [],
   "source": [
    "with open('../data_collection/data/tuscanyCovid.json','w+') as jf:\n",
    "    json.dump(tuscany,jf)"
   ]
  },
  {
   "cell_type": "code",
   "execution_count": 82,
   "id": "molecular-strike",
   "metadata": {},
   "outputs": [
    {
     "name": "stdout",
     "output_type": "stream",
     "text": [
      "0 1000 2000 3000 4000 5000 6000 7000 8000 9000 10000 11000 12000 13000 14000 15000 "
     ]
    }
   ],
   "source": [
    "for i,reviews_i in tuscany.items():\n",
    "    if int(i) % 1000 == 0: print(i, end= ' ')\n",
    "    if len(tuscany[str(i)])==0: continue\n",
    "    reviewers_i = set(reviews_i.keys())\n",
    "\n",
    "    for j, reviews_j in list(tuscany.items())[int(i)+1:]:\n",
    "        if len(tuscany[str(j)])==0: continue\n",
    "\n",
    "        reviewers_j = set(reviews_j.keys())\n",
    "       \n",
    "        intersection = list(reviewers_i.intersection(reviewers_j))\n",
    "        if len(intersection) > 0:\n",
    "            for reviewer in intersection:\n",
    "                dates_i = reviews_i[reviewer]\n",
    "                dates_j = reviews_j[reviewer]\n",
    "               \n",
    "                datepairs = []\n",
    "                for date_i in dates_i: \n",
    "                    for date_j in dates_j:\n",
    "\n",
    "                        if date_i < date_j:  G.add_edge(i,j, start=date_i,end=date_j)\n",
    "                        elif date_i > date_j:  G.add_edge(j,i, start=date_j,end=date_i)\n",
    "                        else: \n",
    "                            G.add_edge(j,i, start=date_j,end=date_i)\n",
    "                            G.add_edge(i,j, start=date_i,end=date_j)"
   ]
  },
  {
   "cell_type": "code",
   "execution_count": 84,
   "id": "patent-failure",
   "metadata": {},
   "outputs": [],
   "source": [
    "nx.write_graphml(G,'../data/multicoviddigraph.graphml')"
   ]
  },
  {
   "cell_type": "code",
   "execution_count": 86,
   "id": "christian-balance",
   "metadata": {},
   "outputs": [
    {
     "data": {
      "text/plain": [
       "225902"
      ]
     },
     "execution_count": 86,
     "metadata": {},
     "output_type": "execute_result"
    }
   ],
   "source": [
    "len(G.edges)"
   ]
  },
  {
   "cell_type": "code",
   "execution_count": 2,
   "id": "collect-utilization",
   "metadata": {},
   "outputs": [],
   "source": [
    "with open('../data_collection/data/tuscany_alldates.json') as jf:\n",
    "    tuscany = json.load(jf)"
   ]
  },
  {
   "cell_type": "code",
   "execution_count": 3,
   "id": "closing-passion",
   "metadata": {},
   "outputs": [],
   "source": [
    "tuscanyCovid = dict()\n",
    "for restaurant, reviews in tuscany.items():\n",
    "    tuscanyCovid[restaurant] = dict()\n",
    "    for reviewer,dates in reviews.items() : \n",
    "        tuscanyCovid[restaurant][reviewer] = [int(date) for date in dates if int(date) >= 20200224]"
   ]
  },
  {
   "cell_type": "code",
   "execution_count": 5,
   "id": "dedicated-ozone",
   "metadata": {},
   "outputs": [],
   "source": [
    "tuscany = tuscanyCovid"
   ]
  },
  {
   "cell_type": "code",
   "execution_count": 6,
   "id": "opened-explanation",
   "metadata": {},
   "outputs": [],
   "source": [
    "tuscanyCovid = dict()\n",
    "for restaurant, reviews in tuscany.items():\n",
    "    for reviewer,dates in reviews.items() : \n",
    "        if reviewer not in tuscanyCovid: tuscanyCovid[reviewer] = list()\n",
    "        for date in dates:\n",
    "            tuscanyCovid[reviewer].append((restaurant,date))"
   ]
  },
  {
   "cell_type": "code",
   "execution_count": 7,
   "id": "retired-america",
   "metadata": {},
   "outputs": [],
   "source": [
    "with open('../data_collection/data/tuscanyCovidReviewer.json','w+') as jf:\n",
    "    json.dump(tuscanyCovid,jf)"
   ]
  },
  {
   "cell_type": "code",
   "execution_count": 8,
   "id": "running-activation",
   "metadata": {},
   "outputs": [],
   "source": [
    "tuscany = tuscanyCovid"
   ]
  },
  {
   "cell_type": "code",
   "execution_count": 9,
   "id": "accomplished-iceland",
   "metadata": {},
   "outputs": [],
   "source": [
    "G = nx.MultiDiGraph()"
   ]
  },
  {
   "cell_type": "code",
   "execution_count": 22,
   "id": "piano-exhibit",
   "metadata": {},
   "outputs": [
    {
     "data": {
      "text/plain": [
       "48945"
      ]
     },
     "execution_count": 22,
     "metadata": {},
     "output_type": "execute_result"
    }
   ],
   "source": [
    "sum([len(r)-1 for r in tus.values()])"
   ]
  },
  {
   "cell_type": "code",
   "execution_count": 23,
   "id": "lovely-madison",
   "metadata": {},
   "outputs": [
    {
     "data": {
      "text/plain": [
       "24653"
      ]
     },
     "execution_count": 23,
     "metadata": {},
     "output_type": "execute_result"
    }
   ],
   "source": [
    "len(tus)"
   ]
  },
  {
   "cell_type": "code",
   "execution_count": null,
   "id": "prescription-convenience",
   "metadata": {},
   "outputs": [],
   "source": []
  },
  {
   "cell_type": "code",
   "execution_count": 4,
   "id": "perceived-mambo",
   "metadata": {},
   "outputs": [],
   "source": [
    "from tqdm.notebook import tqdm"
   ]
  },
  {
   "cell_type": "code",
   "execution_count": 24,
   "id": "nonprofit-torture",
   "metadata": {},
   "outputs": [
    {
     "data": {
      "application/vnd.jupyter.widget-view+json": {
       "model_id": "49352b8e6834412d8257c21556da6097",
       "version_major": 2,
       "version_minor": 0
      },
      "text/plain": [
       "  0%|          | 0/1021021 [00:00<?, ?it/s]"
      ]
     },
     "metadata": {},
     "output_type": "display_data"
    }
   ],
   "source": [
    "for reviewer, reviews in tqdm(tuscany.items()):\n",
    "    reviews.sort(key = lambda x: x[1])\n",
    "    for i,review in enumerate(reviews): \n",
    "        restaurant_i, date_i = review\n",
    "        if len(reviews) > i + 1 :\n",
    "            restaurant_j, date_j = reviews[i+1]\n",
    "            G.add_edge(restaurant_i,restaurant_j, start=date_i,end=date_j,user = reviewer)\n",
    "            if date_i == date_j: G.add_edge(restaurant_j,restaurant_i, start=date_j,end=date_i,user = reviewer)\n",
    "            \n",
    "        "
   ]
  },
  {
   "cell_type": "code",
   "execution_count": 25,
   "id": "distributed-running",
   "metadata": {},
   "outputs": [
    {
     "data": {
      "text/plain": [
       "72098"
      ]
     },
     "execution_count": 25,
     "metadata": {},
     "output_type": "execute_result"
    }
   ],
   "source": [
    "len(G.edges)"
   ]
  },
  {
   "cell_type": "code",
   "execution_count": 26,
   "id": "unique-utility",
   "metadata": {},
   "outputs": [],
   "source": [
    "nx.write_graphml(G,'../data/covidByUser.graphml')"
   ]
  },
  {
   "cell_type": "code",
   "execution_count": 114,
   "id": "silent-antarctica",
   "metadata": {},
   "outputs": [],
   "source": [
    "C = nx.read_graphml('../data/covidByUser.graphml')"
   ]
  },
  {
   "cell_type": "code",
   "execution_count": 117,
   "id": "graphic-bowling",
   "metadata": {},
   "outputs": [
    {
     "data": {
      "text/plain": [
       "93020"
      ]
     },
     "execution_count": 117,
     "metadata": {},
     "output_type": "execute_result"
    }
   ],
   "source": [
    "len(C.edges)"
   ]
  },
  {
   "cell_type": "code",
   "execution_count": 28,
   "id": "ahead-emperor",
   "metadata": {},
   "outputs": [
    {
     "data": {
      "application/vnd.jupyter.widget-view+json": {
       "model_id": "3229bcb79537469b8d8eebb81ce7cb69",
       "version_major": 2,
       "version_minor": 0
      },
      "text/plain": [
       "  0%|          | 0/1021021 [00:00<?, ?it/s]"
      ]
     },
     "metadata": {},
     "output_type": "display_data"
    }
   ],
   "source": [
    "tuscanyCovid = dict()\n",
    "for reviewer, reviews in tqdm(tuscany.items()):\n",
    "    if len(reviews) > 1 : tuscanyCovid[reviewer] = {review[1]: list() for review in reviews}\n",
    "    else: continue\n",
    "    for review in reviews:\n",
    "        restaurant, date = review\n",
    "        tuscanyCovid[reviewer][date].append(restaurant)\n",
    "    "
   ]
  },
  {
   "cell_type": "code",
   "execution_count": 61,
   "id": "knowing-behalf",
   "metadata": {},
   "outputs": [],
   "source": [
    "G = nx.MultiDiGraph()\n",
    "tuscany = tuscanyCovid"
   ]
  },
  {
   "cell_type": "code",
   "execution_count": 50,
   "id": "binary-reality",
   "metadata": {},
   "outputs": [
    {
     "ename": "TypeError",
     "evalue": "'int' object is not iterable",
     "output_type": "error",
     "traceback": [
      "\u001b[1;31m---------------------------------------------------------------------------\u001b[0m",
      "\u001b[1;31mTypeError\u001b[0m                                 Traceback (most recent call last)",
      "\u001b[1;32m<ipython-input-50-662025a977e3>\u001b[0m in \u001b[0;36m<module>\u001b[1;34m\u001b[0m\n\u001b[0;32m      3\u001b[0m \u001b[1;33m\u001b[0m\u001b[0m\n\u001b[0;32m      4\u001b[0m \u001b[1;33m\u001b[0m\u001b[0m\n\u001b[1;32m----> 5\u001b[1;33m \u001b[1;33m[\u001b[0m\u001b[0mi\u001b[0m \u001b[1;32mfor\u001b[0m \u001b[0mi\u001b[0m \u001b[1;32min\u001b[0m \u001b[0mproduct\u001b[0m\u001b[1;33m(\u001b[0m\u001b[0msorted\u001b[0m\u001b[1;33m(\u001b[0m\u001b[0mmydict\u001b[0m\u001b[1;33m)\u001b[0m\u001b[1;33m,\u001b[0m\u001b[1;36m2\u001b[0m\u001b[1;33m)\u001b[0m\u001b[1;33m]\u001b[0m\u001b[1;33m\u001b[0m\u001b[1;33m\u001b[0m\u001b[0m\n\u001b[0m",
      "\u001b[1;31mTypeError\u001b[0m: 'int' object is not iterable"
     ]
    }
   ],
   "source": [
    "\n",
    "from itertools import product\n",
    "from itertools import permutations \n",
    "\n",
    "\n",
    "[i for i in product(sorted(mydict),2)]"
   ]
  },
  {
   "cell_type": "code",
   "execution_count": 62,
   "id": "advised-pharmacology",
   "metadata": {},
   "outputs": [
    {
     "data": {
      "text/plain": [
       "0"
      ]
     },
     "execution_count": 62,
     "metadata": {},
     "output_type": "execute_result"
    }
   ],
   "source": [
    "len(G)"
   ]
  },
  {
   "cell_type": "code",
   "execution_count": 63,
   "id": "secret-street",
   "metadata": {},
   "outputs": [
    {
     "data": {
      "application/vnd.jupyter.widget-view+json": {
       "model_id": "d86e141cb1db437e80a9fa857bd07751",
       "version_major": 2,
       "version_minor": 0
      },
      "text/plain": [
       "  0%|          | 0/24653 [00:00<?, ?it/s]"
      ]
     },
     "metadata": {},
     "output_type": "display_data"
    }
   ],
   "source": [
    "\n",
    "\n",
    "from itertools import product\n",
    "from itertools import permutations\n",
    "\n",
    "\n",
    "for reviewer, allreviews in tqdm(tuscany.items()):\n",
    "\n",
    "    allreviews = {k:v for k,v in sorted(allreviews.items())}\n",
    "    for i, date_i in enumerate(allreviews): \n",
    "        reviews_i = allreviews[date_i]\n",
    "        if len(reviews_i) > 1 :\n",
    "            newedges = permutations(reviews_i,2)\n",
    "            for u,v in newedges:\n",
    "                G.add_edge(u,v, start=date_i,end=date_i,user = reviewer)\n",
    "             \n",
    "        \n",
    "        if len(allreviews) > i + 1 :\n",
    "            date_j = list(allreviews)[i+1]\n",
    "            reviews_j = allreviews[date_j]\n",
    "            newedges = product(reviews_i,reviews_j)\n",
    "            for u,v in newedges:\n",
    "                G.add_edge(u,v, start=date_i,end=date_j,user = reviewer)\n",
    "               \n",
    "            \n",
    "        "
   ]
  },
  {
   "cell_type": "code",
   "execution_count": 65,
   "id": "voluntary-calcium",
   "metadata": {},
   "outputs": [
    {
     "data": {
      "text/plain": [
       "111863"
      ]
     },
     "execution_count": 65,
     "metadata": {},
     "output_type": "execute_result"
    }
   ],
   "source": [
    "len(G.edges)"
   ]
  },
  {
   "cell_type": "code",
   "execution_count": 66,
   "id": "unknown-latest",
   "metadata": {},
   "outputs": [],
   "source": [
    "nx.write_graphml(G,'../data/covidByUser.graphml')"
   ]
  },
  {
   "cell_type": "code",
   "execution_count": null,
   "id": "referenced-fields",
   "metadata": {},
   "outputs": [],
   "source": []
  }
 ],
 "metadata": {
  "kernelspec": {
   "display_name": "Python 3",
   "language": "python",
   "name": "python3"
  },
  "language_info": {
   "codemirror_mode": {
    "name": "ipython",
    "version": 3
   },
   "file_extension": ".py",
   "mimetype": "text/x-python",
   "name": "python",
   "nbconvert_exporter": "python",
   "pygments_lexer": "ipython3",
   "version": "3.7.10"
  }
 },
 "nbformat": 4,
 "nbformat_minor": 5
}
