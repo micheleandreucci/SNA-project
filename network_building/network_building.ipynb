{
 "cells": [
  {
   "cell_type": "code",
   "execution_count": 1,
   "id": "alpha-century",
   "metadata": {},
   "outputs": [],
   "source": [
    "import pandas as pd\n",
    "import numpy as np\n",
    "import json \n",
    "import networkx as nx \n"
   ]
  },
  {
   "cell_type": "code",
   "execution_count": 3,
   "id": "careful-template",
   "metadata": {},
   "outputs": [
    {
     "data": {
      "text/html": [
       "<div>\n",
       "<style scoped>\n",
       "    .dataframe tbody tr th:only-of-type {\n",
       "        vertical-align: middle;\n",
       "    }\n",
       "\n",
       "    .dataframe tbody tr th {\n",
       "        vertical-align: top;\n",
       "    }\n",
       "\n",
       "    .dataframe thead th {\n",
       "        text-align: right;\n",
       "    }\n",
       "</style>\n",
       "<table border=\"1\" class=\"dataframe\">\n",
       "  <thead>\n",
       "    <tr style=\"text-align: right;\">\n",
       "      <th></th>\n",
       "      <th>position</th>\n",
       "      <th>name</th>\n",
       "      <th>city</th>\n",
       "      <th>menu</th>\n",
       "      <th>link</th>\n",
       "      <th>score</th>\n",
       "      <th>N_reviews</th>\n",
       "      <th>price</th>\n",
       "      <th>Name</th>\n",
       "      <th>Province</th>\n",
       "      <th>...</th>\n",
       "      <th>travellersChoice</th>\n",
       "      <th>latitude</th>\n",
       "      <th>longitude</th>\n",
       "      <th>cuisines</th>\n",
       "      <th>meals</th>\n",
       "      <th>specialDiets</th>\n",
       "      <th>positionlink</th>\n",
       "      <th>province</th>\n",
       "      <th>Link</th>\n",
       "      <th>provinceOK</th>\n",
       "    </tr>\n",
       "  </thead>\n",
       "  <tbody>\n",
       "    <tr>\n",
       "      <th>0</th>\n",
       "      <td>2018</td>\n",
       "      <td>Osteria al Borgo</td>\n",
       "      <td>Lucca</td>\n",
       "      <td>False</td>\n",
       "      <td>/Restaurant_Review-g187898-d23137800-Reviews-O...</td>\n",
       "      <td>5.0</td>\n",
       "      <td>6</td>\n",
       "      <td>NaN</td>\n",
       "      <td>Osteria al Borgo</td>\n",
       "      <td>lucca</td>\n",
       "      <td>...</td>\n",
       "      <td>False</td>\n",
       "      <td>43.851350</td>\n",
       "      <td>10.506207</td>\n",
       "      <td>Pizza, Tuscan, Central-Italian</td>\n",
       "      <td>NaN</td>\n",
       "      <td>Vegetarian Friendly, Vegan Options, Gluten Fre...</td>\n",
       "      <td>j39_https://maps.google.com/maps?saddr=&amp;daddr=...</td>\n",
       "      <td>pisa</td>\n",
       "      <td>/Restaurant_Review-g187898-d23137800-Reviews-O...</td>\n",
       "      <td>0</td>\n",
       "    </tr>\n",
       "    <tr>\n",
       "      <th>1</th>\n",
       "      <td>551</td>\n",
       "      <td>Acino Bianco</td>\n",
       "      <td>Marina di Massa</td>\n",
       "      <td>False</td>\n",
       "      <td>/Restaurant_Review-g194814-d12843022-Reviews-A...</td>\n",
       "      <td>4.5</td>\n",
       "      <td>92</td>\n",
       "      <td>2.5</td>\n",
       "      <td>Acino Bianco</td>\n",
       "      <td>massacarrara</td>\n",
       "      <td>...</td>\n",
       "      <td>True</td>\n",
       "      <td>44.004616</td>\n",
       "      <td>10.115488</td>\n",
       "      <td>Italian</td>\n",
       "      <td>Dinner</td>\n",
       "      <td>Vegetarian Friendly, Gluten Free Options</td>\n",
       "      <td>yEU_https://maps.google.com/maps?saddr=&amp;daddr=...</td>\n",
       "      <td>lucca</td>\n",
       "      <td>/Restaurant_Review-g194814-d12843022-Reviews-A...</td>\n",
       "      <td>0</td>\n",
       "    </tr>\n",
       "    <tr>\n",
       "      <th>2</th>\n",
       "      <td>308</td>\n",
       "      <td>El Artista Ristorante Argentino</td>\n",
       "      <td>Massa</td>\n",
       "      <td>False</td>\n",
       "      <td>/Restaurant_Review-g660766-d17543924-Reviews-E...</td>\n",
       "      <td>4.5</td>\n",
       "      <td>78</td>\n",
       "      <td>2.5</td>\n",
       "      <td>El Artista Ristorante Argentino</td>\n",
       "      <td>massacarrara</td>\n",
       "      <td>...</td>\n",
       "      <td>False</td>\n",
       "      <td>44.041000</td>\n",
       "      <td>10.124396</td>\n",
       "      <td>Barbecue, Argentinean, Steakhouse</td>\n",
       "      <td>Dinner, Lunch</td>\n",
       "      <td>NaN</td>\n",
       "      <td>U0P_https://maps.google.com/maps?saddr=&amp;daddr=...</td>\n",
       "      <td>lucca</td>\n",
       "      <td>/Restaurant_Review-g660766-d17543924-Reviews-E...</td>\n",
       "      <td>0</td>\n",
       "    </tr>\n",
       "    <tr>\n",
       "      <th>3</th>\n",
       "      <td>1285</td>\n",
       "      <td>La Locanda di Bivigliano</td>\n",
       "      <td>Bivigliano</td>\n",
       "      <td>False</td>\n",
       "      <td>/Restaurant_Review-g1957776-d13948598-Reviews-...</td>\n",
       "      <td>NaN</td>\n",
       "      <td>28</td>\n",
       "      <td>NaN</td>\n",
       "      <td>La Locanda di Bivigliano</td>\n",
       "      <td>florence</td>\n",
       "      <td>...</td>\n",
       "      <td>False</td>\n",
       "      <td>43.896214</td>\n",
       "      <td>11.321173</td>\n",
       "      <td>Italian, Mediterranean, Barbecue, Tuscan, Cent...</td>\n",
       "      <td>NaN</td>\n",
       "      <td>Vegetarian Friendly</td>\n",
       "      <td>rg1_https://maps.google.com/maps?saddr=&amp;daddr=...</td>\n",
       "      <td>prato</td>\n",
       "      <td>/Restaurant_Review-g1957776-d13948598-Reviews-...</td>\n",
       "      <td>0</td>\n",
       "    </tr>\n",
       "    <tr>\n",
       "      <th>4</th>\n",
       "      <td>1499</td>\n",
       "      <td>Beach Bar @PuntAla</td>\n",
       "      <td>Punta Ala</td>\n",
       "      <td>False</td>\n",
       "      <td>/Restaurant_Review-g194871-d19315573-Reviews-B...</td>\n",
       "      <td>2.5</td>\n",
       "      <td>2</td>\n",
       "      <td>1.0</td>\n",
       "      <td>Beach Bar @PuntAla</td>\n",
       "      <td>grosseto</td>\n",
       "      <td>...</td>\n",
       "      <td>False</td>\n",
       "      <td>42.841410</td>\n",
       "      <td>10.775602</td>\n",
       "      <td>Italian, Mediterranean</td>\n",
       "      <td>Lunch, Brunch, Drinks</td>\n",
       "      <td>NaN</td>\n",
       "      <td>32Q_https://maps.google.com/maps?saddr=&amp;daddr=...</td>\n",
       "      <td>grosseto</td>\n",
       "      <td>/Restaurant_Review-g194871-d19315573-Reviews-B...</td>\n",
       "      <td>1</td>\n",
       "    </tr>\n",
       "    <tr>\n",
       "      <th>...</th>\n",
       "      <td>...</td>\n",
       "      <td>...</td>\n",
       "      <td>...</td>\n",
       "      <td>...</td>\n",
       "      <td>...</td>\n",
       "      <td>...</td>\n",
       "      <td>...</td>\n",
       "      <td>...</td>\n",
       "      <td>...</td>\n",
       "      <td>...</td>\n",
       "      <td>...</td>\n",
       "      <td>...</td>\n",
       "      <td>...</td>\n",
       "      <td>...</td>\n",
       "      <td>...</td>\n",
       "      <td>...</td>\n",
       "      <td>...</td>\n",
       "      <td>...</td>\n",
       "      <td>...</td>\n",
       "      <td>...</td>\n",
       "      <td>...</td>\n",
       "    </tr>\n",
       "    <tr>\n",
       "      <th>15858</th>\n",
       "      <td>1543</td>\n",
       "      <td>Nicola's Irish Pub</td>\n",
       "      <td>Lucca</td>\n",
       "      <td>False</td>\n",
       "      <td>/Restaurant_Review-g187898-d2546758-Reviews-Ni...</td>\n",
       "      <td>3.5</td>\n",
       "      <td>103</td>\n",
       "      <td>2.5</td>\n",
       "      <td>Nicola's Irish Pub</td>\n",
       "      <td>lucca</td>\n",
       "      <td>...</td>\n",
       "      <td>False</td>\n",
       "      <td>43.830280</td>\n",
       "      <td>10.497290</td>\n",
       "      <td>Bar, Pub, Italian</td>\n",
       "      <td>Dinner, Late Night, Drinks</td>\n",
       "      <td>NaN</td>\n",
       "      <td>PHI_https://maps.google.com/maps?saddr=&amp;daddr=...</td>\n",
       "      <td>lucca</td>\n",
       "      <td>/Restaurant_Review-g187898-d2546758-Reviews-Ni...</td>\n",
       "      <td>1</td>\n",
       "    </tr>\n",
       "    <tr>\n",
       "      <th>15859</th>\n",
       "      <td>1544</td>\n",
       "      <td>Bagno Montecristo di Levante</td>\n",
       "      <td>Forte Dei Marmi</td>\n",
       "      <td>False</td>\n",
       "      <td>/Restaurant_Review-g194766-d6659308-Reviews-Ba...</td>\n",
       "      <td>4.0</td>\n",
       "      <td>40</td>\n",
       "      <td>2.5</td>\n",
       "      <td>Bagno Montecristo di Levante</td>\n",
       "      <td>lucca</td>\n",
       "      <td>...</td>\n",
       "      <td>False</td>\n",
       "      <td>43.958260</td>\n",
       "      <td>10.165539</td>\n",
       "      <td>Italian, Seafood</td>\n",
       "      <td>Breakfast, Lunch</td>\n",
       "      <td>Vegetarian Friendly</td>\n",
       "      <td>5zH_https://maps.google.com/maps?saddr=&amp;daddr=...</td>\n",
       "      <td>lucca</td>\n",
       "      <td>/Restaurant_Review-g194766-d6659308-Reviews-Ba...</td>\n",
       "      <td>1</td>\n",
       "    </tr>\n",
       "    <tr>\n",
       "      <th>15860</th>\n",
       "      <td>1546</td>\n",
       "      <td>Surfer Joe Cafe and Diner Lucca</td>\n",
       "      <td>Lucca</td>\n",
       "      <td>False</td>\n",
       "      <td>/Restaurant_Review-g187898-d13138519-Reviews-S...</td>\n",
       "      <td>3.5</td>\n",
       "      <td>97</td>\n",
       "      <td>1.0</td>\n",
       "      <td>Surfer Joe Cafe and Diner Lucca</td>\n",
       "      <td>lucca</td>\n",
       "      <td>...</td>\n",
       "      <td>False</td>\n",
       "      <td>43.839756</td>\n",
       "      <td>10.504320</td>\n",
       "      <td>American, Mexican, Central American, Bar, Sout...</td>\n",
       "      <td>Lunch, Dinner, Late Night, Drinks, Brunch</td>\n",
       "      <td>Vegetarian Friendly</td>\n",
       "      <td>lD0_https://maps.google.com/maps?saddr=&amp;daddr=...</td>\n",
       "      <td>lucca</td>\n",
       "      <td>/Restaurant_Review-g187898-d13138519-Reviews-S...</td>\n",
       "      <td>1</td>\n",
       "    </tr>\n",
       "    <tr>\n",
       "      <th>15861</th>\n",
       "      <td>1548</td>\n",
       "      <td>Ristorum in Campus Maior</td>\n",
       "      <td>Montemagno</td>\n",
       "      <td>True</td>\n",
       "      <td>/Restaurant_Review-g3802334-d12094110-Reviews-...</td>\n",
       "      <td>4.0</td>\n",
       "      <td>33</td>\n",
       "      <td>2.5</td>\n",
       "      <td>Ristorum in Campus Maior</td>\n",
       "      <td>lucca</td>\n",
       "      <td>...</td>\n",
       "      <td>False</td>\n",
       "      <td>43.910076</td>\n",
       "      <td>10.339700</td>\n",
       "      <td>Mediterranean</td>\n",
       "      <td>Brunch, Breakfast, Lunch, Dinner</td>\n",
       "      <td>NaN</td>\n",
       "      <td>KLl_https://maps.google.com/maps?saddr=&amp;daddr=...</td>\n",
       "      <td>lucca</td>\n",
       "      <td>/Restaurant_Review-g3802334-d12094110-Reviews-...</td>\n",
       "      <td>1</td>\n",
       "    </tr>\n",
       "    <tr>\n",
       "      <th>15862</th>\n",
       "      <td>1491</td>\n",
       "      <td>Bar Tavola Calda</td>\n",
       "      <td>Siena</td>\n",
       "      <td>False</td>\n",
       "      <td>/Restaurant_Review-g187902-d8357606-Reviews-Ba...</td>\n",
       "      <td>3.5</td>\n",
       "      <td>5</td>\n",
       "      <td>NaN</td>\n",
       "      <td>Bar Tavola Calda</td>\n",
       "      <td>siena</td>\n",
       "      <td>...</td>\n",
       "      <td>False</td>\n",
       "      <td>43.340310</td>\n",
       "      <td>11.302090</td>\n",
       "      <td>NaN</td>\n",
       "      <td>Brunch</td>\n",
       "      <td>Vegetarian Friendly, Vegan Options</td>\n",
       "      <td>Qll_https://maps.google.com/maps?saddr=&amp;daddr=...</td>\n",
       "      <td>siena</td>\n",
       "      <td>/Restaurant_Review-g187902-d8357606-Reviews-Ba...</td>\n",
       "      <td>1</td>\n",
       "    </tr>\n",
       "  </tbody>\n",
       "</table>\n",
       "<p>15863 rows × 23 columns</p>\n",
       "</div>"
      ],
      "text/plain": [
       "       position                             name             city   menu  \\\n",
       "0          2018                 Osteria al Borgo            Lucca  False   \n",
       "1           551                     Acino Bianco  Marina di Massa  False   \n",
       "2           308  El Artista Ristorante Argentino            Massa  False   \n",
       "3          1285         La Locanda di Bivigliano       Bivigliano  False   \n",
       "4          1499               Beach Bar @PuntAla        Punta Ala  False   \n",
       "...         ...                              ...              ...    ...   \n",
       "15858      1543               Nicola's Irish Pub            Lucca  False   \n",
       "15859      1544     Bagno Montecristo di Levante  Forte Dei Marmi  False   \n",
       "15860      1546  Surfer Joe Cafe and Diner Lucca            Lucca  False   \n",
       "15861      1548         Ristorum in Campus Maior       Montemagno   True   \n",
       "15862      1491                 Bar Tavola Calda            Siena  False   \n",
       "\n",
       "                                                    link  score  N_reviews  \\\n",
       "0      /Restaurant_Review-g187898-d23137800-Reviews-O...    5.0          6   \n",
       "1      /Restaurant_Review-g194814-d12843022-Reviews-A...    4.5         92   \n",
       "2      /Restaurant_Review-g660766-d17543924-Reviews-E...    4.5         78   \n",
       "3      /Restaurant_Review-g1957776-d13948598-Reviews-...    NaN         28   \n",
       "4      /Restaurant_Review-g194871-d19315573-Reviews-B...    2.5          2   \n",
       "...                                                  ...    ...        ...   \n",
       "15858  /Restaurant_Review-g187898-d2546758-Reviews-Ni...    3.5        103   \n",
       "15859  /Restaurant_Review-g194766-d6659308-Reviews-Ba...    4.0         40   \n",
       "15860  /Restaurant_Review-g187898-d13138519-Reviews-S...    3.5         97   \n",
       "15861  /Restaurant_Review-g3802334-d12094110-Reviews-...    4.0         33   \n",
       "15862  /Restaurant_Review-g187902-d8357606-Reviews-Ba...    3.5          5   \n",
       "\n",
       "       price                             Name      Province  ...  \\\n",
       "0        NaN                 Osteria al Borgo         lucca  ...   \n",
       "1        2.5                     Acino Bianco  massacarrara  ...   \n",
       "2        2.5  El Artista Ristorante Argentino  massacarrara  ...   \n",
       "3        NaN         La Locanda di Bivigliano      florence  ...   \n",
       "4        1.0               Beach Bar @PuntAla      grosseto  ...   \n",
       "...      ...                              ...           ...  ...   \n",
       "15858    2.5               Nicola's Irish Pub         lucca  ...   \n",
       "15859    2.5     Bagno Montecristo di Levante         lucca  ...   \n",
       "15860    1.0  Surfer Joe Cafe and Diner Lucca         lucca  ...   \n",
       "15861    2.5         Ristorum in Campus Maior         lucca  ...   \n",
       "15862    NaN                 Bar Tavola Calda         siena  ...   \n",
       "\n",
       "      travellersChoice   latitude  longitude  \\\n",
       "0                False  43.851350  10.506207   \n",
       "1                 True  44.004616  10.115488   \n",
       "2                False  44.041000  10.124396   \n",
       "3                False  43.896214  11.321173   \n",
       "4                False  42.841410  10.775602   \n",
       "...                ...        ...        ...   \n",
       "15858            False  43.830280  10.497290   \n",
       "15859            False  43.958260  10.165539   \n",
       "15860            False  43.839756  10.504320   \n",
       "15861            False  43.910076  10.339700   \n",
       "15862            False  43.340310  11.302090   \n",
       "\n",
       "                                                cuisines  \\\n",
       "0                         Pizza, Tuscan, Central-Italian   \n",
       "1                                                Italian   \n",
       "2                      Barbecue, Argentinean, Steakhouse   \n",
       "3      Italian, Mediterranean, Barbecue, Tuscan, Cent...   \n",
       "4                                 Italian, Mediterranean   \n",
       "...                                                  ...   \n",
       "15858                                  Bar, Pub, Italian   \n",
       "15859                                   Italian, Seafood   \n",
       "15860  American, Mexican, Central American, Bar, Sout...   \n",
       "15861                                      Mediterranean   \n",
       "15862                                                NaN   \n",
       "\n",
       "                                           meals  \\\n",
       "0                                            NaN   \n",
       "1                                         Dinner   \n",
       "2                                  Dinner, Lunch   \n",
       "3                                            NaN   \n",
       "4                          Lunch, Brunch, Drinks   \n",
       "...                                          ...   \n",
       "15858                 Dinner, Late Night, Drinks   \n",
       "15859                           Breakfast, Lunch   \n",
       "15860  Lunch, Dinner, Late Night, Drinks, Brunch   \n",
       "15861           Brunch, Breakfast, Lunch, Dinner   \n",
       "15862                                     Brunch   \n",
       "\n",
       "                                            specialDiets  \\\n",
       "0      Vegetarian Friendly, Vegan Options, Gluten Fre...   \n",
       "1               Vegetarian Friendly, Gluten Free Options   \n",
       "2                                                    NaN   \n",
       "3                                    Vegetarian Friendly   \n",
       "4                                                    NaN   \n",
       "...                                                  ...   \n",
       "15858                                                NaN   \n",
       "15859                                Vegetarian Friendly   \n",
       "15860                                Vegetarian Friendly   \n",
       "15861                                                NaN   \n",
       "15862                 Vegetarian Friendly, Vegan Options   \n",
       "\n",
       "                                            positionlink  province  \\\n",
       "0      j39_https://maps.google.com/maps?saddr=&daddr=...      pisa   \n",
       "1      yEU_https://maps.google.com/maps?saddr=&daddr=...     lucca   \n",
       "2      U0P_https://maps.google.com/maps?saddr=&daddr=...     lucca   \n",
       "3      rg1_https://maps.google.com/maps?saddr=&daddr=...     prato   \n",
       "4      32Q_https://maps.google.com/maps?saddr=&daddr=...  grosseto   \n",
       "...                                                  ...       ...   \n",
       "15858  PHI_https://maps.google.com/maps?saddr=&daddr=...     lucca   \n",
       "15859  5zH_https://maps.google.com/maps?saddr=&daddr=...     lucca   \n",
       "15860  lD0_https://maps.google.com/maps?saddr=&daddr=...     lucca   \n",
       "15861  KLl_https://maps.google.com/maps?saddr=&daddr=...     lucca   \n",
       "15862  Qll_https://maps.google.com/maps?saddr=&daddr=...     siena   \n",
       "\n",
       "                                                    Link provinceOK  \n",
       "0      /Restaurant_Review-g187898-d23137800-Reviews-O...          0  \n",
       "1      /Restaurant_Review-g194814-d12843022-Reviews-A...          0  \n",
       "2      /Restaurant_Review-g660766-d17543924-Reviews-E...          0  \n",
       "3      /Restaurant_Review-g1957776-d13948598-Reviews-...          0  \n",
       "4      /Restaurant_Review-g194871-d19315573-Reviews-B...          1  \n",
       "...                                                  ...        ...  \n",
       "15858  /Restaurant_Review-g187898-d2546758-Reviews-Ni...          1  \n",
       "15859  /Restaurant_Review-g194766-d6659308-Reviews-Ba...          1  \n",
       "15860  /Restaurant_Review-g187898-d13138519-Reviews-S...          1  \n",
       "15861  /Restaurant_Review-g3802334-d12094110-Reviews-...          1  \n",
       "15862  /Restaurant_Review-g187902-d8357606-Reviews-Ba...          1  \n",
       "\n",
       "[15863 rows x 23 columns]"
      ]
     },
     "execution_count": 3,
     "metadata": {},
     "output_type": "execute_result"
    }
   ],
   "source": [
    "df = pd.read_csv('../data_collection/data/tuscany.csv',index_col=0)\n",
    "df"
   ]
  },
  {
   "cell_type": "code",
   "execution_count": 4,
   "id": "vertical-intelligence",
   "metadata": {},
   "outputs": [
    {
     "data": {
      "text/plain": [
       "florence        3803\n",
       "lucca           1983\n",
       "livorno         1839\n",
       "pisa            1689\n",
       "grosseto        1587\n",
       "siena           1491\n",
       "arezzo          1149\n",
       "pistoia          977\n",
       "massacarrara     803\n",
       "prato            542\n",
       "Name: Province, dtype: int64"
      ]
     },
     "execution_count": 4,
     "metadata": {},
     "output_type": "execute_result"
    }
   ],
   "source": [
    "df.Province.value_counts()"
   ]
  },
  {
   "cell_type": "code",
   "execution_count": 2,
   "id": "every-owner",
   "metadata": {},
   "outputs": [
    {
     "data": {
      "text/plain": [
       "15863"
      ]
     },
     "execution_count": 2,
     "metadata": {},
     "output_type": "execute_result"
    }
   ],
   "source": [
    "with open('../data_collection/data/tuscany_init.json') as jf:\n",
    "    data = json.load(jf)\n",
    "    \n",
    "len(data)"
   ]
  },
  {
   "cell_type": "markdown",
   "id": "numeric-yukon",
   "metadata": {},
   "source": [
    "# Basic Network\n",
    "\n",
    "Indirected weighted graph. Weights are given by the cardinality of the intersection of the reviewers."
   ]
  },
  {
   "cell_type": "code",
   "execution_count": 31,
   "id": "certain-tribe",
   "metadata": {},
   "outputs": [
    {
     "name": "stdout",
     "output_type": "stream",
     "text": [
      "0 1000 "
     ]
    },
    {
     "ename": "KeyboardInterrupt",
     "evalue": "",
     "output_type": "error",
     "traceback": [
      "\u001b[1;31m---------------------------------------------------------------------------\u001b[0m",
      "\u001b[1;31mKeyboardInterrupt\u001b[0m                         Traceback (most recent call last)",
      "\u001b[1;32m<ipython-input-31-a58028f1ecff>\u001b[0m in \u001b[0;36m<module>\u001b[1;34m\u001b[0m\n\u001b[0;32m     12\u001b[0m \u001b[1;33m\u001b[0m\u001b[0m\n\u001b[0;32m     13\u001b[0m             \u001b[0mreviewers_j\u001b[0m \u001b[1;33m=\u001b[0m \u001b[0mset\u001b[0m\u001b[1;33m(\u001b[0m\u001b[1;33m[\u001b[0m\u001b[0mreview\u001b[0m\u001b[1;33m[\u001b[0m\u001b[1;34m'username'\u001b[0m\u001b[1;33m]\u001b[0m \u001b[1;32mfor\u001b[0m \u001b[0mreview\u001b[0m \u001b[1;32min\u001b[0m \u001b[0mdata\u001b[0m\u001b[1;33m[\u001b[0m\u001b[0mstr\u001b[0m\u001b[1;33m(\u001b[0m\u001b[0mj\u001b[0m\u001b[1;33m)\u001b[0m\u001b[1;33m]\u001b[0m \u001b[1;33m]\u001b[0m\u001b[1;33m)\u001b[0m\u001b[1;33m\u001b[0m\u001b[1;33m\u001b[0m\u001b[0m\n\u001b[1;32m---> 14\u001b[1;33m             \u001b[0mcommon_reviewers\u001b[0m \u001b[1;33m=\u001b[0m \u001b[0mlist\u001b[0m\u001b[1;33m(\u001b[0m\u001b[0mreviewers_i\u001b[0m\u001b[1;33m.\u001b[0m\u001b[0mintersection\u001b[0m\u001b[1;33m(\u001b[0m\u001b[0mreviewers_j\u001b[0m\u001b[1;33m)\u001b[0m\u001b[1;33m)\u001b[0m\u001b[1;33m\u001b[0m\u001b[1;33m\u001b[0m\u001b[0m\n\u001b[0m\u001b[0;32m     15\u001b[0m             \u001b[0munion_reviewers\u001b[0m \u001b[1;33m=\u001b[0m \u001b[0mlist\u001b[0m\u001b[1;33m(\u001b[0m\u001b[0mreviewers_i\u001b[0m\u001b[1;33m.\u001b[0m\u001b[0munion\u001b[0m\u001b[1;33m(\u001b[0m\u001b[0mreviewers_j\u001b[0m\u001b[1;33m)\u001b[0m\u001b[1;33m)\u001b[0m\u001b[1;33m\u001b[0m\u001b[1;33m\u001b[0m\u001b[0m\n\u001b[0;32m     16\u001b[0m \u001b[1;33m\u001b[0m\u001b[0m\n",
      "\u001b[1;31mKeyboardInterrupt\u001b[0m: "
     ]
    }
   ],
   "source": [
    "keys  = list(data.keys())\n",
    "counter= 0\n",
    "with open(f\"../data/tuscanyJ.weighted.edgelist\",'w+') as f:\n",
    "    for i in keys:\n",
    "        if int(i) % 1000 == 0: print(i, end= ' ')\n",
    "        if len(data[str(i)])==0: continue\n",
    "        else: reviewers_i = set([review['username'] for review in data[str(i)] ])\n",
    "\n",
    "\n",
    "        for j in keys[int(i)+1:]:\n",
    "            if len(data[str(j)])==0: continue\n",
    "\n",
    "            reviewers_j = set([review['username'] for review in data[str(j)] ])\n",
    "            common_reviewers = list(reviewers_i.intersection(reviewers_j))\n",
    "            union_reviewers = list(reviewers_i.union(reviewers_j))\n",
    "            \n",
    "            w = (len(common_reviewers)*10000)/len(union_reviewers) #jeccard's similarity * 10000\n",
    "            #if len(common_reviewers) >= 1 : \n",
    "                #print(len(common_reviewers), len(union_reviewers),w)\n",
    "                \n",
    "            if w > 0 : f.write(f'{str(i)} {str(j)} {str( int(w))}\\n')"
   ]
  },
  {
   "cell_type": "code",
   "execution_count": 25,
   "id": "seven-usage",
   "metadata": {},
   "outputs": [
    {
     "data": {
      "text/plain": [
       "174993"
      ]
     },
     "execution_count": 25,
     "metadata": {},
     "output_type": "execute_result"
    }
   ],
   "source": [
    "counter"
   ]
  },
  {
   "cell_type": "code",
   "execution_count": 16,
   "id": "animated-college",
   "metadata": {},
   "outputs": [
    {
     "name": "stdout",
     "output_type": "stream",
     "text": [
      "0 1000 2000 3000 4000 5000 6000 7000 8000 9000 10000 11000 12000 13000 14000 15000 "
     ]
    }
   ],
   "source": [
    "keys  = list(data.keys())\n",
    "with open(f\"../data/tuscanyJ.weighted.edgelist\",'w+') as f:\n",
    "    for i in keys:\n",
    "        if int(i) % 1000 == 0: print(i, end= ' ')\n",
    "        if len(data[str(i)])==0: continue\n",
    "        else: reviewers_i = set([review['username'] for review in data[str(i)] ])\n",
    "\n",
    "\n",
    "        for j in keys[int(i)+1:]:\n",
    "            if len(data[str(j)])==0: continue\n",
    "\n",
    "            reviewers_j = set([review['username'] for review in data[str(j)] ])\n",
    "            common_reviewers = list(reviewers_i.intersection(reviewers_j))\n",
    "            #union_reviewers = list(reviewers_i.union(reviewers_j))\n",
    "            w = len(common_reviewers) #jeccard's dissimilarity\n",
    "\n",
    "            if w > 0 : f.write(f'{str(i)} {str(j)} {str(w)}\\n')"
   ]
  },
  {
   "cell_type": "code",
   "execution_count": 18,
   "id": "practical-battle",
   "metadata": {},
   "outputs": [
    {
     "data": {
      "text/plain": [
       "Index(['position', 'name', 'city', 'menu', 'link', 'score', 'N_reviews',\n",
       "       'price', 'Name', 'Province', 'City', 'claimed', 'covidMeasure',\n",
       "       'travellersChoice', 'latitude', 'longitude', 'cuisines', 'meals',\n",
       "       'specialDiets', 'positionlink', 'province', 'Link', 'provinceOK'],\n",
       "      dtype='object')"
      ]
     },
     "execution_count": 18,
     "metadata": {},
     "output_type": "execute_result"
    }
   ],
   "source": [
    "df.columns"
   ]
  },
  {
   "cell_type": "code",
   "execution_count": 9,
   "id": "passing-retirement",
   "metadata": {},
   "outputs": [],
   "source": [
    "attributes = ['name','City','Province','latitude','longitude','covidMeasure','travellersChoice','claimed','score','menu', 'N_reviews',\n",
    "       'price']\n",
    "for node in G.nodes:\n",
    "    for attribute in attributes:\n",
    "        \n",
    "        nx.set_node_attributes(G, {node: str(df.loc[int(node),attribute])}, name=attribute)"
   ]
  },
  {
   "cell_type": "code",
   "execution_count": 8,
   "id": "alert-lebanon",
   "metadata": {},
   "outputs": [],
   "source": [
    "G = nx.read_weighted_edgelist('../data/tuscanyJ.weighted.edgelist')"
   ]
  },
  {
   "cell_type": "code",
   "execution_count": 11,
   "id": "incorporate-vacuum",
   "metadata": {},
   "outputs": [
    {
     "ename": "ValueError",
     "evalue": "too many values to unpack (expected 2)",
     "output_type": "error",
     "traceback": [
      "\u001b[1;31m---------------------------------------------------------------------------\u001b[0m",
      "\u001b[1;31mValueError\u001b[0m                                Traceback (most recent call last)",
      "\u001b[1;32m<ipython-input-11-fbdf643a84ba>\u001b[0m in \u001b[0;36m<module>\u001b[1;34m\u001b[0m\n\u001b[0;32m      3\u001b[0m \u001b[0mdensity\u001b[0m \u001b[1;33m=\u001b[0m \u001b[0mnx\u001b[0m\u001b[1;33m.\u001b[0m\u001b[0mdensity\u001b[0m\u001b[1;33m(\u001b[0m\u001b[0mG\u001b[0m\u001b[1;33m)\u001b[0m\u001b[1;33m\u001b[0m\u001b[1;33m\u001b[0m\u001b[0m\n\u001b[0;32m      4\u001b[0m \u001b[0mdegrees\u001b[0m \u001b[1;33m=\u001b[0m \u001b[1;33m[\u001b[0m\u001b[0md\u001b[0m \u001b[1;32mfor\u001b[0m \u001b[0mn\u001b[0m\u001b[1;33m,\u001b[0m \u001b[0md\u001b[0m \u001b[1;32min\u001b[0m \u001b[0mG\u001b[0m\u001b[1;33m.\u001b[0m\u001b[0mdegree\u001b[0m\u001b[1;33m(\u001b[0m\u001b[1;33m)\u001b[0m\u001b[1;33m]\u001b[0m\u001b[1;33m\u001b[0m\u001b[1;33m\u001b[0m\u001b[0m\n\u001b[1;32m----> 5\u001b[1;33m \u001b[0mweights\u001b[0m \u001b[1;33m=\u001b[0m \u001b[1;33m[\u001b[0m\u001b[0mG\u001b[0m\u001b[1;33m.\u001b[0m\u001b[0medges\u001b[0m\u001b[1;33m[\u001b[0m\u001b[1;34m'weight'\u001b[0m\u001b[1;33m]\u001b[0m \u001b[1;32mfor\u001b[0m \u001b[0medge\u001b[0m \u001b[1;32min\u001b[0m \u001b[0mG\u001b[0m\u001b[1;33m.\u001b[0m\u001b[0medges\u001b[0m\u001b[1;33m(\u001b[0m\u001b[1;33m)\u001b[0m \u001b[1;33m]\u001b[0m\u001b[1;33m\u001b[0m\u001b[1;33m\u001b[0m\u001b[0m\n\u001b[0m\u001b[0;32m      6\u001b[0m \u001b[0mprint\u001b[0m\u001b[1;33m(\u001b[0m\u001b[0mN\u001b[0m\u001b[1;33m,\u001b[0m\u001b[0mL\u001b[0m\u001b[1;33m)\u001b[0m\u001b[1;33m\u001b[0m\u001b[1;33m\u001b[0m\u001b[0m\n\u001b[0;32m      7\u001b[0m \u001b[0mprint\u001b[0m\u001b[1;33m(\u001b[0m\u001b[0mdensity\u001b[0m\u001b[1;33m)\u001b[0m\u001b[1;33m\u001b[0m\u001b[1;33m\u001b[0m\u001b[0m\n",
      "\u001b[1;32m<ipython-input-11-fbdf643a84ba>\u001b[0m in \u001b[0;36m<listcomp>\u001b[1;34m(.0)\u001b[0m\n\u001b[0;32m      3\u001b[0m \u001b[0mdensity\u001b[0m \u001b[1;33m=\u001b[0m \u001b[0mnx\u001b[0m\u001b[1;33m.\u001b[0m\u001b[0mdensity\u001b[0m\u001b[1;33m(\u001b[0m\u001b[0mG\u001b[0m\u001b[1;33m)\u001b[0m\u001b[1;33m\u001b[0m\u001b[1;33m\u001b[0m\u001b[0m\n\u001b[0;32m      4\u001b[0m \u001b[0mdegrees\u001b[0m \u001b[1;33m=\u001b[0m \u001b[1;33m[\u001b[0m\u001b[0md\u001b[0m \u001b[1;32mfor\u001b[0m \u001b[0mn\u001b[0m\u001b[1;33m,\u001b[0m \u001b[0md\u001b[0m \u001b[1;32min\u001b[0m \u001b[0mG\u001b[0m\u001b[1;33m.\u001b[0m\u001b[0mdegree\u001b[0m\u001b[1;33m(\u001b[0m\u001b[1;33m)\u001b[0m\u001b[1;33m]\u001b[0m\u001b[1;33m\u001b[0m\u001b[1;33m\u001b[0m\u001b[0m\n\u001b[1;32m----> 5\u001b[1;33m \u001b[0mweights\u001b[0m \u001b[1;33m=\u001b[0m \u001b[1;33m[\u001b[0m\u001b[0mG\u001b[0m\u001b[1;33m.\u001b[0m\u001b[0medges\u001b[0m\u001b[1;33m[\u001b[0m\u001b[1;34m'weight'\u001b[0m\u001b[1;33m]\u001b[0m \u001b[1;32mfor\u001b[0m \u001b[0medge\u001b[0m \u001b[1;32min\u001b[0m \u001b[0mG\u001b[0m\u001b[1;33m.\u001b[0m\u001b[0medges\u001b[0m\u001b[1;33m(\u001b[0m\u001b[1;33m)\u001b[0m \u001b[1;33m]\u001b[0m\u001b[1;33m\u001b[0m\u001b[1;33m\u001b[0m\u001b[0m\n\u001b[0m\u001b[0;32m      6\u001b[0m \u001b[0mprint\u001b[0m\u001b[1;33m(\u001b[0m\u001b[0mN\u001b[0m\u001b[1;33m,\u001b[0m\u001b[0mL\u001b[0m\u001b[1;33m)\u001b[0m\u001b[1;33m\u001b[0m\u001b[1;33m\u001b[0m\u001b[0m\n\u001b[0;32m      7\u001b[0m \u001b[0mprint\u001b[0m\u001b[1;33m(\u001b[0m\u001b[0mdensity\u001b[0m\u001b[1;33m)\u001b[0m\u001b[1;33m\u001b[0m\u001b[1;33m\u001b[0m\u001b[0m\n",
      "\u001b[1;32m~\\Anaconda3\\lib\\site-packages\\networkx\\classes\\reportviews.py\u001b[0m in \u001b[0;36m__getitem__\u001b[1;34m(self, e)\u001b[0m\n\u001b[0;32m   1013\u001b[0m     \u001b[1;31m# Mapping Methods\u001b[0m\u001b[1;33m\u001b[0m\u001b[1;33m\u001b[0m\u001b[1;33m\u001b[0m\u001b[0m\n\u001b[0;32m   1014\u001b[0m     \u001b[1;32mdef\u001b[0m \u001b[0m__getitem__\u001b[0m\u001b[1;33m(\u001b[0m\u001b[0mself\u001b[0m\u001b[1;33m,\u001b[0m \u001b[0me\u001b[0m\u001b[1;33m)\u001b[0m\u001b[1;33m:\u001b[0m\u001b[1;33m\u001b[0m\u001b[1;33m\u001b[0m\u001b[0m\n\u001b[1;32m-> 1015\u001b[1;33m         \u001b[0mu\u001b[0m\u001b[1;33m,\u001b[0m \u001b[0mv\u001b[0m \u001b[1;33m=\u001b[0m \u001b[0me\u001b[0m\u001b[1;33m\u001b[0m\u001b[1;33m\u001b[0m\u001b[0m\n\u001b[0m\u001b[0;32m   1016\u001b[0m         \u001b[1;32mreturn\u001b[0m \u001b[0mself\u001b[0m\u001b[1;33m.\u001b[0m\u001b[0m_adjdict\u001b[0m\u001b[1;33m[\u001b[0m\u001b[0mu\u001b[0m\u001b[1;33m]\u001b[0m\u001b[1;33m[\u001b[0m\u001b[0mv\u001b[0m\u001b[1;33m]\u001b[0m\u001b[1;33m\u001b[0m\u001b[1;33m\u001b[0m\u001b[0m\n\u001b[0;32m   1017\u001b[0m \u001b[1;33m\u001b[0m\u001b[0m\n",
      "\u001b[1;31mValueError\u001b[0m: too many values to unpack (expected 2)"
     ]
    }
   ],
   "source": [
    "N = len(G.nodes)\n",
    "L = len(G.edges)\n",
    "density = nx.density(G)\n",
    "degrees = [d for n, d in G.degree()]\n",
    "weights = [G.edges['weight'] for edge in G.edges() ]\n",
    "print(N,L)\n",
    "print(density)"
   ]
  },
  {
   "cell_type": "code",
   "execution_count": 14,
   "id": "optical-dairy",
   "metadata": {},
   "outputs": [
    {
     "ename": "KeyboardInterrupt",
     "evalue": "",
     "output_type": "error",
     "traceback": [
      "\u001b[1;31m---------------------------------------------------------------------------\u001b[0m",
      "\u001b[1;31mKeyboardInterrupt\u001b[0m                         Traceback (most recent call last)",
      "\u001b[1;32m<ipython-input-14-c2a784dc6379>\u001b[0m in \u001b[0;36m<module>\u001b[1;34m\u001b[0m\n\u001b[1;32m----> 1\u001b[1;33m \u001b[1;32mfor\u001b[0m \u001b[0medge\u001b[0m \u001b[1;32min\u001b[0m \u001b[0mlist\u001b[0m\u001b[1;33m(\u001b[0m\u001b[0mG\u001b[0m\u001b[1;33m.\u001b[0m\u001b[0medges\u001b[0m\u001b[1;33m)\u001b[0m\u001b[1;33m[\u001b[0m\u001b[1;33m:\u001b[0m\u001b[1;36m4\u001b[0m\u001b[1;33m]\u001b[0m\u001b[1;33m:\u001b[0m \u001b[0mprint\u001b[0m\u001b[1;33m(\u001b[0m\u001b[0mG\u001b[0m\u001b[1;33m.\u001b[0m\u001b[0medges\u001b[0m\u001b[1;33m[\u001b[0m\u001b[0medge\u001b[0m\u001b[1;33m]\u001b[0m\u001b[1;33m)\u001b[0m\u001b[1;33m\u001b[0m\u001b[1;33m\u001b[0m\u001b[0m\n\u001b[0m",
      "\u001b[1;32m~\\Anaconda3\\lib\\site-packages\\networkx\\classes\\reportviews.py\u001b[0m in \u001b[0;36m__iter__\u001b[1;34m(self)\u001b[0m\n\u001b[0;32m   1119\u001b[0m             \u001b[1;32mfor\u001b[0m \u001b[0mnbr\u001b[0m \u001b[1;32min\u001b[0m \u001b[0mlist\u001b[0m\u001b[1;33m(\u001b[0m\u001b[0mnbrs\u001b[0m\u001b[1;33m)\u001b[0m\u001b[1;33m:\u001b[0m\u001b[1;33m\u001b[0m\u001b[1;33m\u001b[0m\u001b[0m\n\u001b[0;32m   1120\u001b[0m                 \u001b[1;32mif\u001b[0m \u001b[0mnbr\u001b[0m \u001b[1;32mnot\u001b[0m \u001b[1;32min\u001b[0m \u001b[0mseen\u001b[0m\u001b[1;33m:\u001b[0m\u001b[1;33m\u001b[0m\u001b[1;33m\u001b[0m\u001b[0m\n\u001b[1;32m-> 1121\u001b[1;33m                     \u001b[1;32myield\u001b[0m \u001b[1;33m(\u001b[0m\u001b[0mn\u001b[0m\u001b[1;33m,\u001b[0m \u001b[0mnbr\u001b[0m\u001b[1;33m)\u001b[0m\u001b[1;33m\u001b[0m\u001b[1;33m\u001b[0m\u001b[0m\n\u001b[0m\u001b[0;32m   1122\u001b[0m             \u001b[0mseen\u001b[0m\u001b[1;33m[\u001b[0m\u001b[0mn\u001b[0m\u001b[1;33m]\u001b[0m \u001b[1;33m=\u001b[0m \u001b[1;36m1\u001b[0m\u001b[1;33m\u001b[0m\u001b[1;33m\u001b[0m\u001b[0m\n\u001b[0;32m   1123\u001b[0m         \u001b[1;32mdel\u001b[0m \u001b[0mseen\u001b[0m\u001b[1;33m\u001b[0m\u001b[1;33m\u001b[0m\u001b[0m\n",
      "\u001b[1;31mKeyboardInterrupt\u001b[0m: "
     ]
    }
   ],
   "source": [
    "for edge in list(G.edges)[:4]: print(G.edges[edge])"
   ]
  },
  {
   "cell_type": "code",
   "execution_count": 15,
   "id": "alpha-relations",
   "metadata": {},
   "outputs": [
    {
     "data": {
      "text/plain": [
       "17722059"
      ]
     },
     "execution_count": 15,
     "metadata": {},
     "output_type": "execute_result"
    }
   ],
   "source": [
    "len(G.edges)"
   ]
  },
  {
   "cell_type": "code",
   "execution_count": 10,
   "id": "municipal-blake",
   "metadata": {},
   "outputs": [],
   "source": [
    "nx.write_adjlist(G,'../data/tuscany.adjlist')"
   ]
  },
  {
   "cell_type": "code",
   "execution_count": 15,
   "id": "voluntary-keyboard",
   "metadata": {},
   "outputs": [
    {
     "data": {
      "text/plain": [
       "'Name: \\nType: Graph\\nNumber of nodes: 15690\\nNumber of edges: 6955000\\nAverage degree: 886.5519'"
      ]
     },
     "execution_count": 15,
     "metadata": {},
     "output_type": "execute_result"
    }
   ],
   "source": [
    "nx.info(G)"
   ]
  },
  {
   "cell_type": "markdown",
   "id": "violent-england",
   "metadata": {},
   "source": [
    "##  BASIC NETWORK after 2019 "
   ]
  },
  {
   "cell_type": "code",
   "execution_count": 3,
   "id": "heard-today",
   "metadata": {},
   "outputs": [],
   "source": [
    "after2019 = {}\n",
    "\n",
    "for restaurant in data.keys():\n",
    "    after2019[restaurant] = list()\n",
    "    for review in data[restaurant]:\n",
    "        review_year = review['date'][:4]\n",
    "        \n",
    "        if int(review_year) >= 2019:\n",
    "            after2019[restaurant].append(review)\n",
    "            \n",
    "        \n"
   ]
  },
  {
   "cell_type": "code",
   "execution_count": 5,
   "id": "associate-cancer",
   "metadata": {},
   "outputs": [],
   "source": [
    "with open('../data/after2019.json','w+') as fj:\n",
    "    json.dump(after2019,fj)"
   ]
  },
  {
   "cell_type": "code",
   "execution_count": 6,
   "id": "pharmaceutical-satin",
   "metadata": {},
   "outputs": [
    {
     "name": "stdout",
     "output_type": "stream",
     "text": [
      "0 1000 2000 3000 4000 5000 6000 7000 8000 9000 10000 11000 12000 13000 14000 15000 "
     ]
    }
   ],
   "source": [
    "data = after2019\n",
    "keys  = list(data.keys())\n",
    "with open(f\"../data/tuscanyAfter2019.weighted.edgelist\",'w+') as f:\n",
    "    for i in keys:\n",
    "        if int(i) % 1000 == 0: print(i, end= ' ')\n",
    "        if len(data[str(i)])==0: continue\n",
    "        else: reviewers_i = set([review['username'] for review in data[str(i)] ])\n",
    "\n",
    "\n",
    "        for j in keys[int(i)+1:]:\n",
    "            if len(data[str(j)])==0: continue\n",
    "\n",
    "            reviewers_j = set([review['username'] for review in data[str(j)] ])\n",
    "            common_reviewers = list(reviewers_i.intersection(reviewers_j))\n",
    "            #union_reviewers = list(reviewers_i.union(reviewers_j))\n",
    "            w = len(common_reviewers) #jeccard's dissimilarity\n",
    "\n",
    "            if w > 0 : f.write(f'{str(i)} {str(j)} {str(w)}\\n')"
   ]
  },
  {
   "cell_type": "code",
   "execution_count": null,
   "id": "proper-tanzania",
   "metadata": {},
   "outputs": [],
   "source": []
  },
  {
   "cell_type": "markdown",
   "id": "sweet-decade",
   "metadata": {},
   "source": [
    "## Multi Graph\n",
    "Each common reviewers add a link between two nodes with some characteristics"
   ]
  },
  {
   "cell_type": "code",
   "execution_count": null,
   "id": "certain-motion",
   "metadata": {},
   "outputs": [],
   "source": [
    "MG = nx.MultiGraph()\n",
    "keys  = list(data.keys())\n",
    "for i in keys:\n",
    "    \n",
    "    if int(i) % 100 == 0: print(i, end= ' ')\n",
    "        \n",
    "    reviews_i = dict()    \n",
    "    for review in in data[str(i)]:\n",
    "        \n",
    "        if review['username'] not in reviews_i:  \n",
    "            reviews_i[review['username']]={ 'total_reviews':int(review['N_reviews']),'reviews':1}\n",
    "        else: \n",
    "             reviews_i[review['username']]['reviews']+=1\n",
    "                \n",
    "                \n",
    "    for j in keys[int(i)+1:]:\n",
    "        \n",
    "        reviews_j = dict()\n",
    "        for review in in data[str(j)]:\n",
    "            \n",
    "            if review['username'] not in reviews_j:  \n",
    "                reviews_j[review['username']]={ 'total_reviews':int(review['N_reviews']),'reviews':1}\n",
    "            else: \n",
    "                 reviews_j[review['username']]['reviews']+=1      \n",
    "                    \n",
    "                \n",
    "        common_reviewers = list(set(reviews_1.keys()).intersection(set(reviews_j.keys()))\n",
    "        for reviewer in common_reviewers:\n",
    "                                \n",
    "            total_reviews = reviews_i[reviewer]['total_reviews']\n",
    "            multiplication = reviews_i[reviewer]['reviews']*reviews_j[reviewer]['reviews']\n",
    "            MG.add_edge(i, j, user=reviewer, mult=multiplication, tot_reviews= total_reviews) "
   ]
  }
 ],
 "metadata": {
  "kernelspec": {
   "display_name": "Python 3",
   "language": "python",
   "name": "python3"
  },
  "language_info": {
   "codemirror_mode": {
    "name": "ipython",
    "version": 3
   },
   "file_extension": ".py",
   "mimetype": "text/x-python",
   "name": "python",
   "nbconvert_exporter": "python",
   "pygments_lexer": "ipython3",
   "version": "3.7.10"
  }
 },
 "nbformat": 4,
 "nbformat_minor": 5
}
