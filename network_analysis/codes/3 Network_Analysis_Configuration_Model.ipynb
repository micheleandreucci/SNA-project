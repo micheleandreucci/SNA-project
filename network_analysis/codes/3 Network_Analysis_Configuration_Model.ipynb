{
 "cells": [
  {
   "cell_type": "code",
   "execution_count": 1,
   "metadata": {
    "id": "middle-broad"
   },
   "outputs": [],
   "source": [
    "import pandas as pd\n",
    "import numpy as np\n",
    "import json \n",
    "import math\n",
    "import collections\n",
    "import networkx as nx\n",
    "from matplotlib import pyplot as plt\n",
    "\n",
    "\n"
   ]
  },
  {
   "cell_type": "code",
   "execution_count": 2,
   "metadata": {
    "id": "canadian-complexity"
   },
   "outputs": [],
   "source": [
    "filename = \"C:/Users/Ilenia/Desktop/university/SNA/info_cm.json\""
   ]
  },
  {
   "cell_type": "markdown",
   "metadata": {
    "id": "three-conspiracy"
   },
   "source": [
    "# Configuration Model\n"
   ]
  },
  {
   "cell_type": "code",
   "execution_count": 3,
   "metadata": {
    "id": "maritime-moderator"
   },
   "outputs": [],
   "source": [
    "G = nx.read_adjlist(\"C:/Users/Ilenia/Desktop/university/SNA/data/CM.adjlist\")"
   ]
  },
  {
   "cell_type": "code",
   "execution_count": 4,
   "metadata": {
    "id": "increasing-darwin",
    "outputId": "f76478d7-d2b4-4b2e-eb07-301a9fd97355"
   },
   "outputs": [
    {
     "name": "stdout",
     "output_type": "stream",
     "text": [
      "15077 136455\n",
      "0.0012006554203325204\n"
     ]
    }
   ],
   "source": [
    "N = len(G.nodes)\n",
    "L = len(G.edges)\n",
    "density = nx.density(G)\n",
    "print(N,L)\n",
    "print(density)"
   ]
  },
  {
   "cell_type": "code",
   "execution_count": 5,
   "metadata": {
    "id": "optimum-glory"
   },
   "outputs": [],
   "source": [
    "data = dict()\n",
    "data['name'] = 'Real world'\n",
    "data['N_nodes'] = N\n",
    "data['N_edges'] = L\n",
    "data['density'] = density\n",
    "with open(filename,'w') as jf:\n",
    "    json.dump(data,jf)"
   ]
  },
  {
   "cell_type": "markdown",
   "metadata": {
    "id": "adjacent-louis"
   },
   "source": [
    "## Degree distribution analysis\n"
   ]
  },
  {
   "cell_type": "code",
   "execution_count": 6,
   "metadata": {
    "id": "excess-minutes"
   },
   "outputs": [],
   "source": [
    "degrees = [(n,d) for n, d in G.degree()]"
   ]
  },
  {
   "cell_type": "code",
   "execution_count": 7,
   "metadata": {
    "id": "respected-party"
   },
   "outputs": [],
   "source": [
    "with open(filename,'r') as jf:\n",
    "    data = json.load(jf)\n",
    "\n",
    "data['degrees'] = degrees\n",
    "\n",
    "with open(filename,'w') as jf:\n",
    "    json.dump(data,jf)"
   ]
  },
  {
   "cell_type": "markdown",
   "metadata": {
    "id": "functioning-freight"
   },
   "source": [
    "## Connected components analysis\n"
   ]
  },
  {
   "cell_type": "code",
   "execution_count": 8,
   "metadata": {
    "id": "improving-auditor",
    "outputId": "a79f67d3-f4fb-4ba7-c190-b32f467dc8df"
   },
   "outputs": [
    {
     "name": "stdout",
     "output_type": "stream",
     "text": [
      "average componets size:  5025.666666666667\n",
      "[15073, 2, 2] etc...\n"
     ]
    }
   ],
   "source": [
    "components =  [c for c in sorted(nx.connected_components(G), key=len, reverse=True)]\n",
    "avg_size = np.average([len(c) for c in components])\n",
    "print('average componets size: ', avg_size)\n",
    "print([len(c) for c in components[:7]],'etc...')"
   ]
  },
  {
   "cell_type": "code",
   "execution_count": 9,
   "metadata": {
    "id": "sacred-conducting"
   },
   "outputs": [],
   "source": [
    "with open(filename,'r') as jf:\n",
    "    data = json.load(jf)\n",
    "\n",
    "data['components'] = [len(c) for c in components]\n",
    "\n",
    "with open(filename,'w') as jf:\n",
    "    json.dump(data,jf)"
   ]
  },
  {
   "cell_type": "code",
   "execution_count": 10,
   "metadata": {
    "id": "baking-investigator"
   },
   "outputs": [],
   "source": [
    "C = G.subgraph(components[0])\n"
   ]
  },
  {
   "cell_type": "markdown",
   "metadata": {
    "id": "logical-director"
   },
   "source": [
    "## Path analysis\n"
   ]
  },
  {
   "cell_type": "code",
   "execution_count": 11,
   "metadata": {
    "id": "binary-wings"
   },
   "outputs": [],
   "source": [
    "avg_shortest_path = nx.average_shortest_path_length(C)"
   ]
  },
  {
   "cell_type": "code",
   "execution_count": 12,
   "metadata": {
    "id": "recreational-donor"
   },
   "outputs": [],
   "source": [
    "with open(filename,'r') as jf:\n",
    "    data = json.load(jf)\n",
    "\n",
    "data['avg_shortest_path'] = avg_shortest_path\n",
    "\n",
    "with open(filename,'w') as jf:\n",
    "    json.dump(data,jf)"
   ]
  },
  {
   "cell_type": "code",
   "execution_count": 13,
   "metadata": {},
   "outputs": [],
   "source": [
    "diameter= nx.diameter(C)"
   ]
  },
  {
   "cell_type": "code",
   "execution_count": 14,
   "metadata": {},
   "outputs": [],
   "source": [
    "with open(filename,'r') as jf:\n",
    "    data = json.load(jf)\n",
    "\n",
    "data['diameter'] = diameter\n",
    "\n",
    "with open(filename,'w') as jf:\n",
    "    json.dump(data,jf)"
   ]
  },
  {
   "cell_type": "markdown",
   "metadata": {
    "id": "sized-tutorial"
   },
   "source": [
    "## Clustering Coefficient, Density analysis\n"
   ]
  },
  {
   "cell_type": "code",
   "execution_count": 15,
   "metadata": {
    "id": "lasting-conjunction"
   },
   "outputs": [],
   "source": [
    "clusterings = nx.clustering(G)\n",
    "\n",
    "with open(filename,'r') as jf:\n",
    "    data = json.load(jf)\n",
    "\n",
    "data['clusterings'] =clusterings \n",
    "\n",
    "with open(filename,'w') as jf:\n",
    "    json.dump(data,jf)"
   ]
  },
  {
   "cell_type": "code",
   "execution_count": 16,
   "metadata": {},
   "outputs": [],
   "source": [
    "average_clustering =  nx.average_clustering(G)\n",
    "\n",
    "with open(filename,'r') as jf:\n",
    "    data = json.load(jf)\n",
    "\n",
    "data['average clusterings'] =average_clustering\n",
    "\n",
    "with open(filename,'w') as jf:\n",
    "    json.dump(data,jf)"
   ]
  }
 ],
 "metadata": {
  "colab": {
   "name": "Network Analysis Configuration Model.ipynb",
   "provenance": []
  },
  "kernelspec": {
   "display_name": "Python 3",
   "language": "python",
   "name": "python3"
  },
  "language_info": {
   "codemirror_mode": {
    "name": "ipython",
    "version": 3
   },
   "file_extension": ".py",
   "mimetype": "text/x-python",
   "name": "python",
   "nbconvert_exporter": "python",
   "pygments_lexer": "ipython3",
   "version": "3.7.3"
  }
 },
 "nbformat": 4,
 "nbformat_minor": 5
}
