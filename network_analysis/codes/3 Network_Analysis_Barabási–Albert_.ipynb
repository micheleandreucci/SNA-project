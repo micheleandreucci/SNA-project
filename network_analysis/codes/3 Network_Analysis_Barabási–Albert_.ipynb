{
 "cells": [
  {
   "cell_type": "code",
   "execution_count": 1,
   "id": "likely-profile",
   "metadata": {
    "id": "middle-broad"
   },
   "outputs": [],
   "source": [
    "import pandas as pd\n",
    "import numpy as np\n",
    "import json \n",
    "import math\n",
    "import collections\n",
    "import networkx as nx\n",
    "from matplotlib import pyplot as plt\n",
    "\n",
    "\n"
   ]
  },
  {
   "cell_type": "code",
   "execution_count": 5,
   "id": "driving-compensation",
   "metadata": {
    "id": "canadian-complexity"
   },
   "outputs": [],
   "source": [
    "filename = \"C:/Users/Ilenia/Desktop/university/SNA/info_ba.json\""
   ]
  },
  {
   "cell_type": "markdown",
   "id": "permanent-tackle",
   "metadata": {
    "id": "three-conspiracy"
   },
   "source": [
    "# Barabási–Albert Model\n"
   ]
  },
  {
   "cell_type": "code",
   "execution_count": 6,
   "id": "presidential-least",
   "metadata": {
    "id": "maritime-moderator"
   },
   "outputs": [],
   "source": [
    "G = nx.read_adjlist(\"C:/Users/Ilenia/Desktop/university/SNA/data/BA.adjlist\")"
   ]
  },
  {
   "cell_type": "code",
   "execution_count": 7,
   "id": "judicial-decimal",
   "metadata": {
    "id": "increasing-darwin",
    "outputId": "0fa3a8ff-b021-4fec-f98b-15ef0e188076"
   },
   "outputs": [
    {
     "name": "stdout",
     "output_type": "stream",
     "text": [
      "15077 135612\n",
      "0.0011932379382370286\n"
     ]
    }
   ],
   "source": [
    "N = len(G.nodes)\n",
    "L = len(G.edges)\n",
    "density = nx.density(G)\n",
    "print(N,L)\n",
    "print(density)"
   ]
  },
  {
   "cell_type": "code",
   "execution_count": 8,
   "id": "becoming-extreme",
   "metadata": {
    "id": "optimum-glory"
   },
   "outputs": [],
   "source": [
    "data = dict()\n",
    "data['name'] = 'Real world'\n",
    "data['N_nodes'] = N\n",
    "data['N_edges'] = L\n",
    "data['density'] = density\n",
    "with open(filename,'w') as jf:\n",
    "    json.dump(data,jf)"
   ]
  },
  {
   "cell_type": "markdown",
   "id": "elegant-consultation",
   "metadata": {
    "id": "adjacent-louis"
   },
   "source": [
    "## Degree distribution analysis\n"
   ]
  },
  {
   "cell_type": "code",
   "execution_count": 9,
   "id": "treated-design",
   "metadata": {
    "id": "excess-minutes"
   },
   "outputs": [],
   "source": [
    "degrees = [(n,d) for n, d in G.degree()]"
   ]
  },
  {
   "cell_type": "code",
   "execution_count": 10,
   "id": "oriented-tennessee",
   "metadata": {
    "id": "respected-party"
   },
   "outputs": [],
   "source": [
    "with open(filename,'r') as jf:\n",
    "    data = json.load(jf)\n",
    "\n",
    "data['degrees'] = degrees\n",
    "\n",
    "with open(filename,'w') as jf:\n",
    "    json.dump(data,jf)"
   ]
  },
  {
   "cell_type": "markdown",
   "id": "specific-december",
   "metadata": {
    "id": "functioning-freight"
   },
   "source": [
    "## Connected components analysis\n"
   ]
  },
  {
   "cell_type": "code",
   "execution_count": 11,
   "id": "functional-internship",
   "metadata": {
    "id": "improving-auditor",
    "outputId": "191021b5-1354-494e-a046-6ac81b758fd0"
   },
   "outputs": [
    {
     "name": "stdout",
     "output_type": "stream",
     "text": [
      "average componets size:  15077.0\n",
      "[15077] etc...\n"
     ]
    }
   ],
   "source": [
    "components =  [c for c in sorted(nx.connected_components(G), key=len, reverse=True)]\n",
    "avg_size = np.average([len(c) for c in components])\n",
    "print('average componets size: ', avg_size)\n",
    "print([len(c) for c in components[:7]],'etc...')"
   ]
  },
  {
   "cell_type": "code",
   "execution_count": 12,
   "id": "tribal-design",
   "metadata": {
    "id": "sacred-conducting"
   },
   "outputs": [],
   "source": [
    "with open(filename,'r') as jf:\n",
    "    data = json.load(jf)\n",
    "\n",
    "data['components'] = [len(c) for c in components]\n",
    "\n",
    "with open(filename,'w') as jf:\n",
    "    json.dump(data,jf)"
   ]
  },
  {
   "cell_type": "code",
   "execution_count": 13,
   "id": "verbal-shopper",
   "metadata": {
    "id": "baking-investigator"
   },
   "outputs": [],
   "source": [
    "C = G.subgraph(components[0])\n"
   ]
  },
  {
   "cell_type": "markdown",
   "id": "responsible-stanford",
   "metadata": {
    "id": "logical-director"
   },
   "source": [
    "## Path analysis\n"
   ]
  },
  {
   "cell_type": "code",
   "execution_count": 14,
   "id": "formal-bookmark",
   "metadata": {
    "id": "binary-wings"
   },
   "outputs": [],
   "source": [
    "avg_shortest_path = nx.average_shortest_path_length(C)"
   ]
  },
  {
   "cell_type": "code",
   "execution_count": 15,
   "id": "endless-afternoon",
   "metadata": {
    "id": "recreational-donor"
   },
   "outputs": [],
   "source": [
    "with open(filename,'r') as jf:\n",
    "    data = json.load(jf)\n",
    "\n",
    "data['avg_shortest_path'] = avg_shortest_path\n",
    "\n",
    "with open(filename,'w') as jf:\n",
    "    json.dump(data,jf)"
   ]
  },
  {
   "cell_type": "code",
   "execution_count": 18,
   "id": "driven-active",
   "metadata": {},
   "outputs": [],
   "source": [
    "diameter= nx.diameter(C)"
   ]
  },
  {
   "cell_type": "code",
   "execution_count": 19,
   "id": "junior-springfield",
   "metadata": {},
   "outputs": [],
   "source": [
    "with open(filename,'r') as jf:\n",
    "    data = json.load(jf)\n",
    "\n",
    "data['diamter'] = diameter\n",
    "\n",
    "with open(filename,'w') as jf:\n",
    "    json.dump(data,jf)"
   ]
  },
  {
   "cell_type": "markdown",
   "id": "related-leather",
   "metadata": {
    "id": "sized-tutorial"
   },
   "source": [
    "## Clustering Coefficient, Density analysis\n"
   ]
  },
  {
   "cell_type": "code",
   "execution_count": 16,
   "id": "olive-polymer",
   "metadata": {
    "id": "lasting-conjunction"
   },
   "outputs": [],
   "source": [
    "clusterings =  nx.clustering(G)\n",
    "\n",
    "with open(filename,'r') as jf:\n",
    "    data = json.load(jf)\n",
    "\n",
    "data['clusterings'] =clusterings \n",
    "\n",
    "with open(filename,'w') as jf:\n",
    "    json.dump(data,jf)"
   ]
  },
  {
   "cell_type": "code",
   "execution_count": 17,
   "id": "surrounded-horizon",
   "metadata": {
    "id": "hlHujymaBW1y"
   },
   "outputs": [],
   "source": [
    "average_clustering =  nx.average_clustering(G)\n",
    "\n",
    "with open(filename,'r') as jf:\n",
    "    data = json.load(jf)\n",
    "\n",
    "data['average clusterings'] =average_clustering\n",
    "\n",
    "with open(filename,'w') as jf:\n",
    "    json.dump(data,jf)"
   ]
  },
  {
   "cell_type": "code",
   "execution_count": null,
   "id": "executed-civilization",
   "metadata": {},
   "outputs": [],
   "source": []
  }
 ],
 "metadata": {
  "colab": {
   "name": "Network Analysis Barabási–Albert .ipynb",
   "provenance": []
  },
  "kernelspec": {
   "display_name": "Python 3",
   "language": "python",
   "name": "python3"
  },
  "language_info": {
   "codemirror_mode": {
    "name": "ipython",
    "version": 3
   },
   "file_extension": ".py",
   "mimetype": "text/x-python",
   "name": "python",
   "nbconvert_exporter": "python",
   "pygments_lexer": "ipython3",
   "version": "3.7.10"
  }
 },
 "nbformat": 4,
 "nbformat_minor": 5
}
