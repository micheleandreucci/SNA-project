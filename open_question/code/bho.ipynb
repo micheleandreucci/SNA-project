{
 "cells": [
  {
   "cell_type": "code",
<<<<<<< HEAD
   "execution_count": 1,
   "id": "a835d01d",
=======
   "execution_count": 6,
   "id": "virgin-lighter",
>>>>>>> c38934da69a37d95ddcb2930624a419d696bd615
   "metadata": {},
   "outputs": [],
   "source": [
    "import pandas as pd \n",
    "import numpy as np \n",
    "import networkx as nx \n",
    "import json \n",
    "from datetime import datetime\n",
    "import matplotlib.pyplot as plt \n",
    "import seaborn as sns\n",
    "from datetime import datetime\n"
   ]
  },
  {
   "cell_type": "code",
   "execution_count": 2,
<<<<<<< HEAD
   "id": "da35f843",
=======
   "id": "amateur-commissioner",
>>>>>>> c38934da69a37d95ddcb2930624a419d696bd615
   "metadata": {},
   "outputs": [
    {
     "name": "stdout",
     "output_type": "stream",
     "text": [
      "8258 61366\n"
     ]
    }
   ],
   "source": [
    "G = nx.read_graphml('../data/clean/byuser.graphml',node_type=int)\n",
    "print(len(G),len(G.edges))"
   ]
  },
  {
   "cell_type": "code",
   "execution_count": 4,
   "id": "a661f1c7",
   "metadata": {},
   "outputs": [],
   "source": [
    "nodes = pd.read_csv('../data/clean/node.csv')"
   ]
  },
  {
   "cell_type": "code",
<<<<<<< HEAD
   "execution_count": 5,
   "id": "fc3f2b17",
   "metadata": {
    "scrolled": true
   },
   "outputs": [
    {
     "data": {
      "text/html": [
       "<div>\n",
       "<style scoped>\n",
       "    .dataframe tbody tr th:only-of-type {\n",
       "        vertical-align: middle;\n",
       "    }\n",
       "\n",
       "    .dataframe tbody tr th {\n",
       "        vertical-align: top;\n",
       "    }\n",
       "\n",
       "    .dataframe thead th {\n",
       "        text-align: right;\n",
       "    }\n",
       "</style>\n",
       "<table border=\"1\" class=\"dataframe\">\n",
       "  <thead>\n",
       "    <tr style=\"text-align: right;\">\n",
       "      <th></th>\n",
       "      <th>covidMeasure</th>\n",
       "      <th>latitude</th>\n",
       "      <th>longitude</th>\n",
       "      <th>name</th>\n",
       "      <th>province</th>\n",
       "      <th>selected</th>\n",
       "      <th>shared name</th>\n",
       "    </tr>\n",
       "  </thead>\n",
       "  <tbody>\n",
       "    <tr>\n",
       "      <th>0</th>\n",
       "      <td>0</td>\n",
       "      <td>43.851808</td>\n",
       "      <td>10.506207</td>\n",
       "      <td>0</td>\n",
       "      <td>PI</td>\n",
       "      <td>False</td>\n",
       "      <td>0</td>\n",
       "    </tr>\n",
       "    <tr>\n",
       "      <th>1</th>\n",
       "      <td>0</td>\n",
       "      <td>43.851350</td>\n",
       "      <td>10.506207</td>\n",
       "      <td>15775</td>\n",
       "      <td>LU</td>\n",
       "      <td>False</td>\n",
       "      <td>15775</td>\n",
       "    </tr>\n",
       "    <tr>\n",
       "      <th>2</th>\n",
       "      <td>0</td>\n",
       "      <td>43.769730</td>\n",
       "      <td>11.265620</td>\n",
       "      <td>1979</td>\n",
       "      <td>FI</td>\n",
       "      <td>False</td>\n",
       "      <td>1979</td>\n",
       "    </tr>\n",
       "    <tr>\n",
       "      <th>3</th>\n",
       "      <td>0</td>\n",
       "      <td>43.842884</td>\n",
       "      <td>10.503127</td>\n",
       "      <td>14479</td>\n",
       "      <td>LU</td>\n",
       "      <td>False</td>\n",
       "      <td>14479</td>\n",
       "    </tr>\n",
       "    <tr>\n",
       "      <th>4</th>\n",
       "      <td>0</td>\n",
       "      <td>43.853027</td>\n",
       "      <td>10.507255</td>\n",
       "      <td>12564</td>\n",
       "      <td>LU</td>\n",
       "      <td>False</td>\n",
       "      <td>12564</td>\n",
       "    </tr>\n",
       "    <tr>\n",
       "      <th>...</th>\n",
       "      <td>...</td>\n",
       "      <td>...</td>\n",
       "      <td>...</td>\n",
       "      <td>...</td>\n",
       "      <td>...</td>\n",
       "      <td>...</td>\n",
       "      <td>...</td>\n",
       "    </tr>\n",
       "    <tr>\n",
       "      <th>8253</th>\n",
       "      <td>0</td>\n",
       "      <td>43.879920</td>\n",
       "      <td>10.235360</td>\n",
       "      <td>15681</td>\n",
       "      <td>LU</td>\n",
       "      <td>False</td>\n",
       "      <td>15681</td>\n",
       "    </tr>\n",
       "    <tr>\n",
       "      <th>8254</th>\n",
       "      <td>0</td>\n",
       "      <td>43.869160</td>\n",
       "      <td>10.241940</td>\n",
       "      <td>15064</td>\n",
       "      <td>LU</td>\n",
       "      <td>False</td>\n",
       "      <td>15064</td>\n",
       "    </tr>\n",
       "    <tr>\n",
       "      <th>8255</th>\n",
       "      <td>1</td>\n",
       "      <td>43.845448</td>\n",
       "      <td>10.506301</td>\n",
       "      <td>15176</td>\n",
       "      <td>LU</td>\n",
       "      <td>False</td>\n",
       "      <td>15176</td>\n",
       "    </tr>\n",
       "    <tr>\n",
       "      <th>8256</th>\n",
       "      <td>0</td>\n",
       "      <td>43.928870</td>\n",
       "      <td>10.196700</td>\n",
       "      <td>15749</td>\n",
       "      <td>LU</td>\n",
       "      <td>False</td>\n",
       "      <td>15749</td>\n",
       "    </tr>\n",
       "    <tr>\n",
       "      <th>8257</th>\n",
       "      <td>0</td>\n",
       "      <td>43.845010</td>\n",
       "      <td>10.514936</td>\n",
       "      <td>15391</td>\n",
       "      <td>LU</td>\n",
       "      <td>False</td>\n",
       "      <td>15391</td>\n",
       "    </tr>\n",
       "  </tbody>\n",
       "</table>\n",
       "<p>8258 rows × 7 columns</p>\n",
       "</div>"
      ],
      "text/plain": [
       "      covidMeasure   latitude  longitude   name province  selected  \\\n",
       "0                0  43.851808  10.506207      0       PI     False   \n",
       "1                0  43.851350  10.506207  15775       LU     False   \n",
       "2                0  43.769730  11.265620   1979       FI     False   \n",
       "3                0  43.842884  10.503127  14479       LU     False   \n",
       "4                0  43.853027  10.507255  12564       LU     False   \n",
       "...            ...        ...        ...    ...      ...       ...   \n",
       "8253             0  43.879920  10.235360  15681       LU     False   \n",
       "8254             0  43.869160  10.241940  15064       LU     False   \n",
       "8255             1  43.845448  10.506301  15176       LU     False   \n",
       "8256             0  43.928870  10.196700  15749       LU     False   \n",
       "8257             0  43.845010  10.514936  15391       LU     False   \n",
       "\n",
       "      shared name  \n",
       "0               0  \n",
       "1           15775  \n",
       "2            1979  \n",
       "3           14479  \n",
       "4           12564  \n",
       "...           ...  \n",
       "8253        15681  \n",
       "8254        15064  \n",
       "8255        15176  \n",
       "8256        15749  \n",
       "8257        15391  \n",
       "\n",
       "[8258 rows x 7 columns]"
      ]
     },
     "execution_count": 5,
     "metadata": {},
     "output_type": "execute_result"
    }
   ],
   "source": [
    "nodes.drop()"
   ]
  },
  {
   "cell_type": "code",
   "execution_count": 9,
   "id": "0f71e9c1",
=======
   "execution_count": 7,
   "id": "progressive-invalid",
>>>>>>> c38934da69a37d95ddcb2930624a419d696bd615
   "metadata": {},
   "outputs": [],
   "source": [
    "newnodes = pd.DataFrame(index=nodes.index,columns = ['node number','node name','cluster','X coor.','Y coor.'])"
   ]
  },
  {
   "cell_type": "code",
<<<<<<< HEAD
   "execution_count": 10,
   "id": "68efd013",
=======
   "execution_count": 8,
   "id": "opponent-fountain",
>>>>>>> c38934da69a37d95ddcb2930624a419d696bd615
   "metadata": {},
   "outputs": [],
   "source": [
    "newnodes['node number'] = nodes['name']\n",
    "newnodes['node name'] = nodes['name']\n",
    "newnodes['cluster'] = nodes['province']\n",
    "newnodes['X coor.'] = nodes['longitude']\n",
    "newnodes['Y coor.'] = nodes['latitude']\n"
   ]
  },
  {
   "cell_type": "code",
<<<<<<< HEAD
   "execution_count": 14,
   "id": "c6bac3de",
=======
   "execution_count": 9,
   "id": "split-sitting",
>>>>>>> c38934da69a37d95ddcb2930624a419d696bd615
   "metadata": {},
   "outputs": [],
   "source": [
    "newnodes.to_csv('../data/clean/nodes.csv',index=None,header=None,sep=' ')"
   ]
  },
  {
   "cell_type": "code",
<<<<<<< HEAD
   "execution_count": 16,
   "id": "110a4a04",
=======
   "execution_count": 10,
   "id": "fitting-arbor",
>>>>>>> c38934da69a37d95ddcb2930624a419d696bd615
   "metadata": {},
   "outputs": [],
   "source": [
    "A = dict()\n",
    "for e in G.edges: \n",
    "    i,j,_ = e\n",
    "    if (i,j) not in A: A[(i,j)] = 1\n",
    "    else: A[(i,j)] += 1"
   ]
  },
  {
   "cell_type": "code",
<<<<<<< HEAD
   "execution_count": 17,
   "id": "bd49a08e",
=======
   "execution_count": 11,
   "id": "fewer-hacker",
>>>>>>> c38934da69a37d95ddcb2930624a419d696bd615
   "metadata": {},
   "outputs": [],
   "source": [
    "newedges = pd.DataFrame(columns= ['i','j','w'])"
   ]
  },
  {
   "cell_type": "code",
<<<<<<< HEAD
   "execution_count": 21,
   "id": "00ae2473",
   "metadata": {},
   "outputs": [],
   "source": [
    "for e, w in A.items(): \n",
    "    i,j = e \n",
    "    newedges = newedges.append({'i':i,'j':j,'w':w},ignore_index=True)\n",
    "    "
=======
   "execution_count": 14,
   "id": "statutory-bottle",
   "metadata": {},
   "outputs": [],
   "source": [
    "C = G.subgraph(components[0])\n"
>>>>>>> c38934da69a37d95ddcb2930624a419d696bd615
   ]
  },
  {
   "cell_type": "code",
<<<<<<< HEAD
   "execution_count": 26,
   "id": "42617e96",
   "metadata": {},
   "outputs": [
    {
     "data": {
      "text/html": [
       "<div>\n",
       "<style scoped>\n",
       "    .dataframe tbody tr th:only-of-type {\n",
       "        vertical-align: middle;\n",
       "    }\n",
       "\n",
       "    .dataframe tbody tr th {\n",
       "        vertical-align: top;\n",
       "    }\n",
       "\n",
       "    .dataframe thead th {\n",
       "        text-align: right;\n",
       "    }\n",
       "</style>\n",
       "<table border=\"1\" class=\"dataframe\">\n",
       "  <thead>\n",
       "    <tr style=\"text-align: right;\">\n",
       "      <th></th>\n",
       "      <th>i</th>\n",
       "      <th>j</th>\n",
       "      <th>w</th>\n",
       "    </tr>\n",
       "  </thead>\n",
       "  <tbody>\n",
       "    <tr>\n",
       "      <th>0</th>\n",
       "      <td>0</td>\n",
       "      <td>15775</td>\n",
       "      <td>16</td>\n",
       "    </tr>\n",
       "    <tr>\n",
       "      <th>1</th>\n",
       "      <td>0</td>\n",
       "      <td>1979</td>\n",
       "      <td>1</td>\n",
       "    </tr>\n",
       "    <tr>\n",
       "      <th>2</th>\n",
       "      <td>0</td>\n",
       "      <td>14479</td>\n",
       "      <td>1</td>\n",
       "    </tr>\n",
       "    <tr>\n",
       "      <th>3</th>\n",
       "      <td>0</td>\n",
       "      <td>12564</td>\n",
       "      <td>1</td>\n",
       "    </tr>\n",
       "    <tr>\n",
       "      <th>4</th>\n",
       "      <td>15775</td>\n",
       "      <td>0</td>\n",
       "      <td>16</td>\n",
       "    </tr>\n",
       "    <tr>\n",
       "      <th>...</th>\n",
       "      <td>...</td>\n",
       "      <td>...</td>\n",
       "      <td>...</td>\n",
       "    </tr>\n",
       "    <tr>\n",
       "      <th>50830</th>\n",
       "      <td>15010</td>\n",
       "      <td>15813</td>\n",
       "      <td>1</td>\n",
       "    </tr>\n",
       "    <tr>\n",
       "      <th>50831</th>\n",
       "      <td>15617</td>\n",
       "      <td>15458</td>\n",
       "      <td>1</td>\n",
       "    </tr>\n",
       "    <tr>\n",
       "      <th>50832</th>\n",
       "      <td>15064</td>\n",
       "      <td>15833</td>\n",
       "      <td>1</td>\n",
       "    </tr>\n",
       "    <tr>\n",
       "      <th>50833</th>\n",
       "      <td>15176</td>\n",
       "      <td>15590</td>\n",
       "      <td>1</td>\n",
       "    </tr>\n",
       "    <tr>\n",
       "      <th>50834</th>\n",
       "      <td>15749</td>\n",
       "      <td>15369</td>\n",
       "      <td>2</td>\n",
       "    </tr>\n",
       "  </tbody>\n",
       "</table>\n",
       "<p>50835 rows × 3 columns</p>\n",
       "</div>"
      ],
      "text/plain": [
       "           i      j   w\n",
       "0          0  15775  16\n",
       "1          0   1979   1\n",
       "2          0  14479   1\n",
       "3          0  12564   1\n",
       "4      15775      0  16\n",
       "...      ...    ...  ..\n",
       "50830  15010  15813   1\n",
       "50831  15617  15458   1\n",
       "50832  15064  15833   1\n",
       "50833  15176  15590   1\n",
       "50834  15749  15369   2\n",
       "\n",
       "[50835 rows x 3 columns]"
      ]
     },
     "execution_count": 26,
     "metadata": {},
     "output_type": "execute_result"
    }
   ],
=======
   "execution_count": null,
   "id": "laden-architecture",
   "metadata": {},
   "outputs": [],
   "source": []
  },
  {
   "cell_type": "code",
   "execution_count": null,
   "id": "dedicated-transcription",
   "metadata": {},
   "outputs": [],
>>>>>>> c38934da69a37d95ddcb2930624a419d696bd615
   "source": [
    "newedges"
   ]
  },
  {
   "cell_type": "code",
   "execution_count": 24,
   "id": "5bc4073f",
   "metadata": {},
   "outputs": [],
   "source": [
    "newedges.to_csv('../data/clean/edges.csv',index=None,header=None,sep=' ')"
   ]
  },
  {
   "cell_type": "code",
   "execution_count": 27,
   "id": "7889472f",
   "metadata": {},
   "outputs": [],
   "source": [
    "newedges['w'] = newedges['w'].astype(float)"
   ]
  },
  {
   "cell_type": "code",
   "execution_count": 29,
   "id": "e06167c5",
   "metadata": {},
   "outputs": [],
   "source": [
    "g = nx.read_weighted_edgelist('../data/clean/edges.weighted.edgelist', delimiter=' ')"
   ]
  },
  {
   "cell_type": "code",
   "execution_count": 30,
   "id": "1b7bfda1",
   "metadata": {},
   "outputs": [
    {
     "data": {
      "text/plain": [
       "8258"
      ]
     },
     "execution_count": 30,
     "metadata": {},
     "output_type": "execute_result"
    }
   ],
   "source": [
    "len(g)"
   ]
  },
  {
   "cell_type": "code",
   "execution_count": 32,
   "id": "569b61f3",
   "metadata": {},
   "outputs": [],
   "source": [
    "for node in g.nodes:\n",
    "    g.nodes[node]['province'] = G.nodes[int(node)]['province']\n",
    "    g.nodes[node]['latitude'] = G.nodes[int(node)]['latitude']\n",
    "    g.nodes[node]['longitude'] = G.nodes[int(node)]['longitude']"
   ]
  },
  {
   "cell_type": "code",
   "execution_count": 34,
   "id": "f6b5b085",
   "metadata": {},
   "outputs": [],
   "source": [
    "nx.write_graphml(g,'../data/clean/weighted.graphml')"
   ]
  },
  {
   "cell_type": "code",
   "execution_count": null,
   "id": "9f4dc92a",
   "metadata": {},
   "outputs": [],
   "source": []
  }
 ],
 "metadata": {
  "kernelspec": {
   "display_name": "Python 3",
   "language": "python",
   "name": "python3"
  },
  "language_info": {
   "codemirror_mode": {
    "name": "ipython",
    "version": 3
   },
   "file_extension": ".py",
   "mimetype": "text/x-python",
   "name": "python",
   "nbconvert_exporter": "python",
   "pygments_lexer": "ipython3",
   "version": "3.8.8"
  }
 },
 "nbformat": 4,
 "nbformat_minor": 5
}
